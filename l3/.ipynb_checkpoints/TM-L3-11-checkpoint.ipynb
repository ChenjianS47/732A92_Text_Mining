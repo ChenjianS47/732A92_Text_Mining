{
 "cells": [
  {
   "cell_type": "markdown",
   "metadata": {},
   "source": [
    "# L3: Text clustering and topic modelling"
   ]
  },
  {
   "cell_type": "markdown",
   "metadata": {},
   "source": [
    "Text clustering groups documents in such a way that documents within a group are more &lsquo;similar&rsquo; to other documents in the cluster than to documents not in the cluster. The exact definition of what &lsquo;similar&rsquo; means in this context varies across applications and clustering algorithms.\n",
    "\n",
    "In this lab you will experiment with both hard and soft clustering techniques. More specifically, in the first part you will be using the $k$-means algorithm, and in the second part you will be using a topic model based on the Latent Dirichlet Allocation (LDA)."
   ]
  },
  {
   "cell_type": "markdown",
   "metadata": {},
   "source": [
    "**A quick reminder about our [Rules for hand-in assignments](https://www.ida.liu.se/~TDDE16/exam.en.shtml#handins) and the [Policy on cheating and plagiarism](https://www.ida.liu.se/~TDDE16/exam.en.shtml#cheating)**"
   ]
  },
  {
   "cell_type": "markdown",
   "metadata": {},
   "source": [
    "## Hard clustering data set"
   ]
  },
  {
   "cell_type": "markdown",
   "metadata": {},
   "source": [
    "The raw data for the hard clustering part of this lab is a collection of product reviews. We have preprocessed the data by tokenization and lowercasing."
   ]
  },
  {
   "cell_type": "code",
   "execution_count": 1,
   "metadata": {},
   "outputs": [],
   "source": [
    "import pandas as pd\n",
    "import bz2\n",
    "\n",
    "with bz2.open('reviews.json.bz2') as source:\n",
    "    df = pd.read_json(source)"
   ]
  },
  {
   "cell_type": "markdown",
   "metadata": {},
   "source": [
    "When you inspect the data frame, you can see that there are three labelled columns: `category` (the product category), `sentiment` (whether the product review was classified as &lsquo;positive&rsquo; or &lsquo;negative&rsquo; towards the product), and `text` (the space-separated text of the review)."
   ]
  },
  {
   "cell_type": "code",
   "execution_count": 2,
   "metadata": {},
   "outputs": [
    {
     "data": {
      "text/html": [
       "<div>\n",
       "<style scoped>\n",
       "    .dataframe tbody tr th:only-of-type {\n",
       "        vertical-align: middle;\n",
       "    }\n",
       "\n",
       "    .dataframe tbody tr th {\n",
       "        vertical-align: top;\n",
       "    }\n",
       "\n",
       "    .dataframe thead th {\n",
       "        text-align: right;\n",
       "    }\n",
       "</style>\n",
       "<table border=\"1\" class=\"dataframe\">\n",
       "  <thead>\n",
       "    <tr style=\"text-align: right;\">\n",
       "      <th></th>\n",
       "      <th>category</th>\n",
       "      <th>sentiment</th>\n",
       "      <th>text</th>\n",
       "    </tr>\n",
       "  </thead>\n",
       "  <tbody>\n",
       "    <tr>\n",
       "      <th>0</th>\n",
       "      <td>music</td>\n",
       "      <td>neg</td>\n",
       "      <td>i bought this album because i loved the title ...</td>\n",
       "    </tr>\n",
       "    <tr>\n",
       "      <th>1</th>\n",
       "      <td>music</td>\n",
       "      <td>neg</td>\n",
       "      <td>i was misled and thought i was buying the enti...</td>\n",
       "    </tr>\n",
       "    <tr>\n",
       "      <th>2</th>\n",
       "      <td>books</td>\n",
       "      <td>neg</td>\n",
       "      <td>i have introduced many of my ell , high school...</td>\n",
       "    </tr>\n",
       "    <tr>\n",
       "      <th>3</th>\n",
       "      <td>books</td>\n",
       "      <td>pos</td>\n",
       "      <td>anything you purchase in the left behind serie...</td>\n",
       "    </tr>\n",
       "    <tr>\n",
       "      <th>4</th>\n",
       "      <td>dvd</td>\n",
       "      <td>pos</td>\n",
       "      <td>i loved these movies , and i cant wiat for the...</td>\n",
       "    </tr>\n",
       "  </tbody>\n",
       "</table>\n",
       "</div>"
      ],
      "text/plain": [
       "  category sentiment                                               text\n",
       "0    music       neg  i bought this album because i loved the title ...\n",
       "1    music       neg  i was misled and thought i was buying the enti...\n",
       "2    books       neg  i have introduced many of my ell , high school...\n",
       "3    books       pos  anything you purchase in the left behind serie...\n",
       "4      dvd       pos  i loved these movies , and i cant wiat for the..."
      ]
     },
     "execution_count": 2,
     "metadata": {},
     "output_type": "execute_result"
    }
   ],
   "source": [
    "df.head()"
   ]
  },
  {
   "cell_type": "code",
   "execution_count": 3,
   "metadata": {},
   "outputs": [
    {
     "data": {
      "text/plain": [
       "music       2000\n",
       "books       2000\n",
       "dvd         2000\n",
       "health      2000\n",
       "camera      1999\n",
       "software    1915\n",
       "Name: category, dtype: int64"
      ]
     },
     "execution_count": 3,
     "metadata": {},
     "output_type": "execute_result"
    }
   ],
   "source": [
    "# df[\"category\"].unique()\n",
    "df[\"category\"].value_counts()"
   ]
  },
  {
   "cell_type": "markdown",
   "metadata": {},
   "source": [
    "## Problem 1: K-means clustering"
   ]
  },
  {
   "cell_type": "markdown",
   "metadata": {},
   "source": [
    "Your first task is to cluster the product review data using a tf–idf vectorizer and a $k$-means clusterer."
   ]
  },
  {
   "cell_type": "markdown",
   "metadata": {},
   "source": [
    "Start by doing the vectorization. In connection with vectorization, you should also filter out standard English stop words. While you could use [spaCy](https://spacy.io/) for this task, here it suffices to use the word list implemented in [TfidfVectorizer](https://scikit-learn.org/stable/modules/generated/sklearn.feature_extraction.text.TfidfVectorizer.html)."
   ]
  },
  {
   "cell_type": "code",
   "execution_count": null,
   "metadata": {},
   "outputs": [],
   "source": [
    "# TODO: Enter code here to vectorize the data and store it in a variable `reviews`"
   ]
  },
  {
   "cell_type": "code",
   "execution_count": 4,
   "metadata": {},
   "outputs": [],
   "source": [
    "from sklearn.feature_extraction.text import TfidfVectorizer"
   ]
  },
  {
   "cell_type": "code",
   "execution_count": 5,
   "metadata": {},
   "outputs": [],
   "source": [
    "vectorizer = TfidfVectorizer(stop_words = \"english\")\n",
    "reviews = vectorizer.fit_transform(df[\"text\"])"
   ]
  },
  {
   "cell_type": "markdown",
   "metadata": {},
   "source": [
    "Test your vectorization by running the following code cell:"
   ]
  },
  {
   "cell_type": "code",
   "execution_count": 6,
   "metadata": {},
   "outputs": [
    {
     "data": {
      "text/plain": [
       "(11914, 46619)"
      ]
     },
     "execution_count": 6,
     "metadata": {},
     "output_type": "execute_result"
    }
   ],
   "source": [
    "reviews.shape"
   ]
  },
  {
   "cell_type": "markdown",
   "metadata": {},
   "source": [
    "If you used the English stop word list from scikit-learn, then the resulting vocabulary should have 46,619 entries."
   ]
  },
  {
   "cell_type": "markdown",
   "metadata": {},
   "source": [
    "Next, cluster the vectorized data. Before doing so, you should read the documentation of the [KMeans](https://scikit-learn.org/stable/modules/generated/sklearn.cluster.KMeans.html) class, which is scikit-learn&rsquo;s implementation of the $k$-means algorithm. As you can see, this class has several parameters that you can tweak. For now, the only parameter that you will have to set is the number of clusters. Start with $k=3$.\n",
    "\n",
    "**Tip:** Training $k$-means models will take some time. To speed things up, you can use the `n_init` parameter to control the number of times that the clustering is re-computed with different initial values. The default value for this parameter is 10; here and in the rest of this lab, you may want to set this to a lower value."
   ]
  },
  {
   "cell_type": "code",
   "execution_count": null,
   "metadata": {},
   "outputs": [],
   "source": [
    "# TODO: Enter code here to cluster the vectorized data"
   ]
  },
  {
   "cell_type": "code",
   "execution_count": 16,
   "metadata": {},
   "outputs": [],
   "source": [
    "from sklearn.cluster import KMeans\n",
    "import numpy as np"
   ]
  },
  {
   "cell_type": "code",
   "execution_count": 9,
   "metadata": {},
   "outputs": [],
   "source": [
    "def kmean_f(data,n_clusters,n_init):\n",
    "    n_clusters=n_clusters\n",
    "    n_init=n_init\n",
    "    model=KMeans(n_clusters=n_clusters ,n_init= n_init,random_state = 202111)\n",
    "    model.fit(data)\n",
    "    return model"
   ]
  },
  {
   "cell_type": "code",
   "execution_count": 70,
   "metadata": {},
   "outputs": [],
   "source": [
    "#m_3_ean=kmean_f(reviews,3,6)\n",
    "kmean_g=[kmean_f(reviews,k,6) for k in range(1,11)]"
   ]
  },
  {
   "cell_type": "code",
   "execution_count": 71,
   "metadata": {},
   "outputs": [
    {
     "data": {
      "text/plain": [
       "[KMeans(n_clusters=1, n_init=6, random_state=202111),\n",
       " KMeans(n_clusters=2, n_init=6, random_state=202111),\n",
       " KMeans(n_clusters=3, n_init=6, random_state=202111),\n",
       " KMeans(n_clusters=4, n_init=6, random_state=202111),\n",
       " KMeans(n_clusters=5, n_init=6, random_state=202111),\n",
       " KMeans(n_clusters=6, n_init=6, random_state=202111),\n",
       " KMeans(n_clusters=7, n_init=6, random_state=202111),\n",
       " KMeans(n_init=6, random_state=202111),\n",
       " KMeans(n_clusters=9, n_init=6, random_state=202111),\n",
       " KMeans(n_clusters=10, n_init=6, random_state=202111)]"
      ]
     },
     "execution_count": 71,
     "metadata": {},
     "output_type": "execute_result"
    }
   ],
   "source": [
    "kmean_g"
   ]
  },
  {
   "cell_type": "markdown",
   "metadata": {},
   "source": [
    "To sanity-check your clustering, create a bar plot with the number of documents per cluster."
   ]
  },
  {
   "cell_type": "code",
   "execution_count": 72,
   "metadata": {},
   "outputs": [],
   "source": [
    "# TODO: Enter code here to produce a bar plot of the cluster size"
   ]
  },
  {
   "cell_type": "code",
   "execution_count": 73,
   "metadata": {},
   "outputs": [],
   "source": [
    "import matplotlib.pyplot as plt"
   ]
  },
  {
   "cell_type": "code",
   "execution_count": 79,
   "metadata": {},
   "outputs": [
    {
     "name": "stdout",
     "output_type": "stream",
     "text": [
      "(array([0, 1, 2]), array([1397, 1118, 9399], dtype=int64))\n"
     ]
    }
   ],
   "source": [
    "m_3_ean=kmean_g[3-1]\n",
    "print(np.unique(m_3_ean.labels_,return_counts=True))\n"
   ]
  },
  {
   "cell_type": "code",
   "execution_count": 80,
   "metadata": {},
   "outputs": [
    {
     "data": {
      "text/plain": [
       "Text(0.5, 1.0, 'word counts')"
      ]
     },
     "execution_count": 80,
     "metadata": {},
     "output_type": "execute_result"
    },
    {
     "data": {
      "image/png": "[encoded data removed]",
      "text/plain": [
       "<Figure size 432x288 with 1 Axes>"
      ]
     },
     "metadata": {
      "needs_background": "light"
     },
     "output_type": "display_data"
    }
   ],
   "source": [
    "x = np.unique(m_3_ean.labels_,return_counts=True)[0]+1\n",
    "y = np.unique(m_3_ean.labels_,return_counts=True)[1]\n",
    "\n",
    "plt.bar(x, y)\n",
    "plt.xlabel('Clusters')\n",
    "plt.title(\"word counts\")"
   ]
  },
  {
   "cell_type": "markdown",
   "metadata": {},
   "source": [
    "Note that sizes may vary considerable between clusters and among different random seeds."
   ]
  },
  {
   "cell_type": "markdown",
   "metadata": {},
   "source": [
    "## Problem 2: Summarize clusters"
   ]
  },
  {
   "cell_type": "markdown",
   "metadata": {},
   "source": [
    "Once you have a clustering, you can try to see whether it is meaningful. One useful technique in that context is to generate a **summary** for each cluster by extracting the $n$ highest-weighted terms from the centroid of each cluster. Your next task is to implement this approach.\n",
    "\n",
    "**Hint:** You will need to construct an &lsquo;inverted vocabulary&rsquo; that allows you to map from the index of a term back to the original term."
   ]
  },
  {
   "cell_type": "code",
   "execution_count": 76,
   "metadata": {},
   "outputs": [],
   "source": [
    "# TODO: Enter code here to compute the cluster summaries and print them"
   ]
  },
  {
   "cell_type": "code",
   "execution_count": 81,
   "metadata": {},
   "outputs": [],
   "source": [
    "def sum_clu(n_hw,kmean_obj):\n",
    "    n_clusters = kmean_obj.cluster_centers_.shape[0]\n",
    "    ind = np.zeros((n_clusters,n_hw)) # the table ofthe n_hw word-index per cluster\n",
    "    for i in range(n_clusters):\n",
    "        ind[i] = kmean_obj.cluster_centers_[i].argsort()[::-1][:n_hw] #  get the n_hw word-index per cluster\n",
    "    summary = [   # the required summary\n",
    "            [vectorizer.get_feature_names_out()[int(k)] for k in m] \n",
    "                                                                     for m in ind  ]\n",
    "    return pd.DataFrame(summary)"
   ]
  },
  {
   "cell_type": "code",
   "execution_count": 83,
   "metadata": {},
   "outputs": [
    {
     "name": "stdout",
     "output_type": "stream",
     "text": [
      "1\n",
      "---------------------------------------------------------------------------------------\n",
      "         0         1        2         3        4        5        6        7   \\\n",
      "0     movie      film   movies     watch    story     like     just     good   \n",
      "1      like     great     good      just      dvd     time   really     does   \n",
      "2      lens     canon   camera    lenses    sharp     zoom   filter      use   \n",
      "3    camera  pictures  battery   digital      use     case  quality    flash   \n",
      "4   product      hair      use     razor    great    shave     used     does   \n",
      "5  software   program  version  computer      use  support  product  windows   \n",
      "6     album     songs     song     music     like   albums     band     just   \n",
      "7        cd     music    songs      song     like    great   listen     just   \n",
      "8      book      read    books    author  reading     like    story     just   \n",
      "9      quot      book       cd     album    music     like     song     just   \n",
      "\n",
      "          8       9        10      11         12       13      14         15  \n",
      "0      great  acting     seen     did       love     time  really        bad  \n",
      "1        use     did     work  better       love     best  bought        buy  \n",
      "2       hood    wide    light   shots      great  quality   focus      flash  \n",
      "3      canon   great  picture    good       sony  cameras  bought  batteries  \n",
      "4     shaver    easy     good   price       skin   bought    just      works  \n",
      "5  microsoft  office     used  norton       work  install    does    upgrade  \n",
      "6       good   great     rock    best     lyrics    sound  listen       love  \n",
      "7        cds   sound     love    good  listening   really    best      voice  \n",
      "8    written    good      did  really      great  writing  people       time  \n",
      "9      great    good     best   songs      movie      new    time       come  \n",
      "=======================================================================================\n",
      "2\n",
      "---------------------------------------------------------------------------------------\n",
      "         0         1        2         3        4        5        6        7   \\\n",
      "0     movie      film   movies     watch    story     like     just     good   \n",
      "1      like     great     good      just      dvd     time   really     does   \n",
      "2      lens     canon   camera    lenses    sharp     zoom   filter      use   \n",
      "3    camera  pictures  battery   digital      use     case  quality    flash   \n",
      "4   product      hair      use     razor    great    shave     used     does   \n",
      "5  software   program  version  computer      use  support  product  windows   \n",
      "6     album     songs     song     music     like   albums     band     just   \n",
      "7        cd     music    songs      song     like    great   listen     just   \n",
      "8      book      read    books    author  reading     like    story     just   \n",
      "9      quot      book       cd     album    music     like     song     just   \n",
      "\n",
      "          8       9        10      11         12       13      14         15  \n",
      "0      great  acting     seen     did       love     time  really        bad  \n",
      "1        use     did     work  better       love     best  bought        buy  \n",
      "2       hood    wide    light   shots      great  quality   focus      flash  \n",
      "3      canon   great  picture    good       sony  cameras  bought  batteries  \n",
      "4     shaver    easy     good   price       skin   bought    just      works  \n",
      "5  microsoft  office     used  norton       work  install    does    upgrade  \n",
      "6       good   great     rock    best     lyrics    sound  listen       love  \n",
      "7        cds   sound     love    good  listening   really    best      voice  \n",
      "8    written    good      did  really      great  writing  people       time  \n",
      "9      great    good     best   songs      movie      new    time       come  \n",
      "=======================================================================================\n",
      "3\n",
      "---------------------------------------------------------------------------------------\n",
      "         0         1        2         3        4        5        6        7   \\\n",
      "0     movie      film   movies     watch    story     like     just     good   \n",
      "1      like     great     good      just      dvd     time   really     does   \n",
      "2      lens     canon   camera    lenses    sharp     zoom   filter      use   \n",
      "3    camera  pictures  battery   digital      use     case  quality    flash   \n",
      "4   product      hair      use     razor    great    shave     used     does   \n",
      "5  software   program  version  computer      use  support  product  windows   \n",
      "6     album     songs     song     music     like   albums     band     just   \n",
      "7        cd     music    songs      song     like    great   listen     just   \n",
      "8      book      read    books    author  reading     like    story     just   \n",
      "9      quot      book       cd     album    music     like     song     just   \n",
      "\n",
      "          8       9        10      11         12       13      14         15  \n",
      "0      great  acting     seen     did       love     time  really        bad  \n",
      "1        use     did     work  better       love     best  bought        buy  \n",
      "2       hood    wide    light   shots      great  quality   focus      flash  \n",
      "3      canon   great  picture    good       sony  cameras  bought  batteries  \n",
      "4     shaver    easy     good   price       skin   bought    just      works  \n",
      "5  microsoft  office     used  norton       work  install    does    upgrade  \n",
      "6       good   great     rock    best     lyrics    sound  listen       love  \n",
      "7        cds   sound     love    good  listening   really    best      voice  \n",
      "8    written    good      did  really      great  writing  people       time  \n",
      "9      great    good     best   songs      movie      new    time       come  \n",
      "=======================================================================================\n",
      "4\n",
      "---------------------------------------------------------------------------------------\n",
      "         0         1        2         3        4        5        6        7   \\\n",
      "0     movie      film   movies     watch    story     like     just     good   \n",
      "1      like     great     good      just      dvd     time   really     does   \n",
      "2      lens     canon   camera    lenses    sharp     zoom   filter      use   \n",
      "3    camera  pictures  battery   digital      use     case  quality    flash   \n",
      "4   product      hair      use     razor    great    shave     used     does   \n",
      "5  software   program  version  computer      use  support  product  windows   \n",
      "6     album     songs     song     music     like   albums     band     just   \n",
      "7        cd     music    songs      song     like    great   listen     just   \n",
      "8      book      read    books    author  reading     like    story     just   \n",
      "9      quot      book       cd     album    music     like     song     just   \n",
      "\n",
      "          8       9        10      11         12       13      14         15  \n",
      "0      great  acting     seen     did       love     time  really        bad  \n",
      "1        use     did     work  better       love     best  bought        buy  \n",
      "2       hood    wide    light   shots      great  quality   focus      flash  \n",
      "3      canon   great  picture    good       sony  cameras  bought  batteries  \n",
      "4     shaver    easy     good   price       skin   bought    just      works  \n",
      "5  microsoft  office     used  norton       work  install    does    upgrade  \n",
      "6       good   great     rock    best     lyrics    sound  listen       love  \n",
      "7        cds   sound     love    good  listening   really    best      voice  \n",
      "8    written    good      did  really      great  writing  people       time  \n",
      "9      great    good     best   songs      movie      new    time       come  \n",
      "=======================================================================================\n",
      "5\n",
      "---------------------------------------------------------------------------------------\n",
      "         0         1        2         3        4        5        6        7   \\\n",
      "0     movie      film   movies     watch    story     like     just     good   \n",
      "1      like     great     good      just      dvd     time   really     does   \n",
      "2      lens     canon   camera    lenses    sharp     zoom   filter      use   \n",
      "3    camera  pictures  battery   digital      use     case  quality    flash   \n",
      "4   product      hair      use     razor    great    shave     used     does   \n",
      "5  software   program  version  computer      use  support  product  windows   \n",
      "6     album     songs     song     music     like   albums     band     just   \n",
      "7        cd     music    songs      song     like    great   listen     just   \n",
      "8      book      read    books    author  reading     like    story     just   \n",
      "9      quot      book       cd     album    music     like     song     just   \n",
      "\n",
      "          8       9        10      11         12       13      14         15  \n",
      "0      great  acting     seen     did       love     time  really        bad  \n",
      "1        use     did     work  better       love     best  bought        buy  \n",
      "2       hood    wide    light   shots      great  quality   focus      flash  \n",
      "3      canon   great  picture    good       sony  cameras  bought  batteries  \n",
      "4     shaver    easy     good   price       skin   bought    just      works  \n",
      "5  microsoft  office     used  norton       work  install    does    upgrade  \n",
      "6       good   great     rock    best     lyrics    sound  listen       love  \n",
      "7        cds   sound     love    good  listening   really    best      voice  \n",
      "8    written    good      did  really      great  writing  people       time  \n",
      "9      great    good     best   songs      movie      new    time       come  \n",
      "=======================================================================================\n",
      "6\n",
      "---------------------------------------------------------------------------------------\n"
     ]
    },
    {
     "name": "stdout",
     "output_type": "stream",
     "text": [
      "         0         1        2         3        4        5        6        7   \\\n",
      "0     movie      film   movies     watch    story     like     just     good   \n",
      "1      like     great     good      just      dvd     time   really     does   \n",
      "2      lens     canon   camera    lenses    sharp     zoom   filter      use   \n",
      "3    camera  pictures  battery   digital      use     case  quality    flash   \n",
      "4   product      hair      use     razor    great    shave     used     does   \n",
      "5  software   program  version  computer      use  support  product  windows   \n",
      "6     album     songs     song     music     like   albums     band     just   \n",
      "7        cd     music    songs      song     like    great   listen     just   \n",
      "8      book      read    books    author  reading     like    story     just   \n",
      "9      quot      book       cd     album    music     like     song     just   \n",
      "\n",
      "          8       9        10      11         12       13      14         15  \n",
      "0      great  acting     seen     did       love     time  really        bad  \n",
      "1        use     did     work  better       love     best  bought        buy  \n",
      "2       hood    wide    light   shots      great  quality   focus      flash  \n",
      "3      canon   great  picture    good       sony  cameras  bought  batteries  \n",
      "4     shaver    easy     good   price       skin   bought    just      works  \n",
      "5  microsoft  office     used  norton       work  install    does    upgrade  \n",
      "6       good   great     rock    best     lyrics    sound  listen       love  \n",
      "7        cds   sound     love    good  listening   really    best      voice  \n",
      "8    written    good      did  really      great  writing  people       time  \n",
      "9      great    good     best   songs      movie      new    time       come  \n",
      "=======================================================================================\n",
      "7\n",
      "---------------------------------------------------------------------------------------\n",
      "         0         1        2         3        4        5        6        7   \\\n",
      "0     movie      film   movies     watch    story     like     just     good   \n",
      "1      like     great     good      just      dvd     time   really     does   \n",
      "2      lens     canon   camera    lenses    sharp     zoom   filter      use   \n",
      "3    camera  pictures  battery   digital      use     case  quality    flash   \n",
      "4   product      hair      use     razor    great    shave     used     does   \n",
      "5  software   program  version  computer      use  support  product  windows   \n",
      "6     album     songs     song     music     like   albums     band     just   \n",
      "7        cd     music    songs      song     like    great   listen     just   \n",
      "8      book      read    books    author  reading     like    story     just   \n",
      "9      quot      book       cd     album    music     like     song     just   \n",
      "\n",
      "          8       9        10      11         12       13      14         15  \n",
      "0      great  acting     seen     did       love     time  really        bad  \n",
      "1        use     did     work  better       love     best  bought        buy  \n",
      "2       hood    wide    light   shots      great  quality   focus      flash  \n",
      "3      canon   great  picture    good       sony  cameras  bought  batteries  \n",
      "4     shaver    easy     good   price       skin   bought    just      works  \n",
      "5  microsoft  office     used  norton       work  install    does    upgrade  \n",
      "6       good   great     rock    best     lyrics    sound  listen       love  \n",
      "7        cds   sound     love    good  listening   really    best      voice  \n",
      "8    written    good      did  really      great  writing  people       time  \n",
      "9      great    good     best   songs      movie      new    time       come  \n",
      "=======================================================================================\n",
      "8\n",
      "---------------------------------------------------------------------------------------\n",
      "         0         1        2         3        4        5        6        7   \\\n",
      "0     movie      film   movies     watch    story     like     just     good   \n",
      "1      like     great     good      just      dvd     time   really     does   \n",
      "2      lens     canon   camera    lenses    sharp     zoom   filter      use   \n",
      "3    camera  pictures  battery   digital      use     case  quality    flash   \n",
      "4   product      hair      use     razor    great    shave     used     does   \n",
      "5  software   program  version  computer      use  support  product  windows   \n",
      "6     album     songs     song     music     like   albums     band     just   \n",
      "7        cd     music    songs      song     like    great   listen     just   \n",
      "8      book      read    books    author  reading     like    story     just   \n",
      "9      quot      book       cd     album    music     like     song     just   \n",
      "\n",
      "          8       9        10      11         12       13      14         15  \n",
      "0      great  acting     seen     did       love     time  really        bad  \n",
      "1        use     did     work  better       love     best  bought        buy  \n",
      "2       hood    wide    light   shots      great  quality   focus      flash  \n",
      "3      canon   great  picture    good       sony  cameras  bought  batteries  \n",
      "4     shaver    easy     good   price       skin   bought    just      works  \n",
      "5  microsoft  office     used  norton       work  install    does    upgrade  \n",
      "6       good   great     rock    best     lyrics    sound  listen       love  \n",
      "7        cds   sound     love    good  listening   really    best      voice  \n",
      "8    written    good      did  really      great  writing  people       time  \n",
      "9      great    good     best   songs      movie      new    time       come  \n",
      "=======================================================================================\n",
      "9\n",
      "---------------------------------------------------------------------------------------\n",
      "         0         1        2         3        4        5        6        7   \\\n",
      "0     movie      film   movies     watch    story     like     just     good   \n",
      "1      like     great     good      just      dvd     time   really     does   \n",
      "2      lens     canon   camera    lenses    sharp     zoom   filter      use   \n",
      "3    camera  pictures  battery   digital      use     case  quality    flash   \n",
      "4   product      hair      use     razor    great    shave     used     does   \n",
      "5  software   program  version  computer      use  support  product  windows   \n",
      "6     album     songs     song     music     like   albums     band     just   \n",
      "7        cd     music    songs      song     like    great   listen     just   \n",
      "8      book      read    books    author  reading     like    story     just   \n",
      "9      quot      book       cd     album    music     like     song     just   \n",
      "\n",
      "          8       9        10      11         12       13      14         15  \n",
      "0      great  acting     seen     did       love     time  really        bad  \n",
      "1        use     did     work  better       love     best  bought        buy  \n",
      "2       hood    wide    light   shots      great  quality   focus      flash  \n",
      "3      canon   great  picture    good       sony  cameras  bought  batteries  \n",
      "4     shaver    easy     good   price       skin   bought    just      works  \n",
      "5  microsoft  office     used  norton       work  install    does    upgrade  \n",
      "6       good   great     rock    best     lyrics    sound  listen       love  \n",
      "7        cds   sound     love    good  listening   really    best      voice  \n",
      "8    written    good      did  really      great  writing  people       time  \n",
      "9      great    good     best   songs      movie      new    time       come  \n",
      "=======================================================================================\n",
      "10\n",
      "---------------------------------------------------------------------------------------\n",
      "         0         1        2         3        4        5        6        7   \\\n",
      "0     movie      film   movies     watch    story     like     just     good   \n",
      "1      like     great     good      just      dvd     time   really     does   \n",
      "2      lens     canon   camera    lenses    sharp     zoom   filter      use   \n",
      "3    camera  pictures  battery   digital      use     case  quality    flash   \n",
      "4   product      hair      use     razor    great    shave     used     does   \n",
      "5  software   program  version  computer      use  support  product  windows   \n",
      "6     album     songs     song     music     like   albums     band     just   \n",
      "7        cd     music    songs      song     like    great   listen     just   \n",
      "8      book      read    books    author  reading     like    story     just   \n",
      "9      quot      book       cd     album    music     like     song     just   \n",
      "\n",
      "          8       9        10      11         12       13      14         15  \n",
      "0      great  acting     seen     did       love     time  really        bad  \n",
      "1        use     did     work  better       love     best  bought        buy  \n",
      "2       hood    wide    light   shots      great  quality   focus      flash  \n",
      "3      canon   great  picture    good       sony  cameras  bought  batteries  \n",
      "4     shaver    easy     good   price       skin   bought    just      works  \n",
      "5  microsoft  office     used  norton       work  install    does    upgrade  \n",
      "6       good   great     rock    best     lyrics    sound  listen       love  \n",
      "7        cds   sound     love    good  listening   really    best      voice  \n",
      "8    written    good      did  really      great  writing  people       time  \n",
      "9      great    good     best   songs      movie      new    time       come  \n",
      "=======================================================================================\n"
     ]
    }
   ],
   "source": [
    "for kmean_obj in kmean_g:\n",
    "    print(kmean_obj.cluster_centers_.shape[0])\n",
    "    print(\"---------------------------------------------------------------------------------------\")\n",
    "    print(sum_clu(16,model))\n",
    "    print(\"=======================================================================================\")\n"
   ]
  },
  {
   "cell_type": "markdown",
   "metadata": {},
   "source": [
    "Once you have computed the cluster summaries, take a minute to reflect on their quality. Is it clear what the reviews in a given cluster are about? Do the cluster summaries contain any unexpected terms?"
   ]
  },
  {
   "cell_type": "markdown",
   "metadata": {},
   "source": [
    "## Problem 3: Compare clusterings using the Rand index"
   ]
  },
  {
   "cell_type": "markdown",
   "metadata": {},
   "source": [
    "In some scenarios, you may have gold-standard class labels available for at least a subset of your documents. In these cases you can compute the **Rand index** of a clustering, and use this measure to compare the quality of different clusterings.\n",
    "\n",
    "To compute the Rand index, we view a clustering as a binary classifier on (unordered) pairs of documents. The classifier predicts &lsquo;positive&rsquo; if and only if the two documents belong to the same cluster. The (non-normalized) Rand index of the clustering is the accuracy of this classifier relative to a reference in which a document pair belongs to the &lsquo;positive&rsquo; class if and only if the two documents in the pair have the same gold-standard class label. You are supposed to implement the procedure yourselves, not import an external function.\n",
    "\n",
    "Compare clusterings with $k \\in \\{1,3,5,7\\}$ clusters. As your evaluation data, use the first 500 documents from the original data set along with their gold-standard categories (from the `category` column)."
   ]
  },
  {
   "cell_type": "code",
   "execution_count": null,
   "metadata": {},
   "outputs": [],
   "source": [
    "# TODO: Enter code here to (manually) compute the Rand indices for the two clusterings"
   ]
  },
  {
   "cell_type": "code",
   "execution_count": 85,
   "metadata": {},
   "outputs": [],
   "source": [
    "from itertools import combinations"
   ]
  },
  {
   "cell_type": "code",
   "execution_count": 122,
   "metadata": {},
   "outputs": [],
   "source": [
    "# class labels\n",
    "class_cate = df[\"category\"][0:500]\n",
    "test_data = reviews[0:500]\n",
    "preds = np.zeros((4,500))\n",
    "#-----------------------------------------\n",
    "k_ind=[i-1 for i in [1,3,5,7]]\n",
    "k_ind\n",
    "#-----------------------------------------\n",
    "for i in range(4):\n",
    "    preds[i,]=kmean_g[k_ind[i]].predict(test_data)"
   ]
  },
  {
   "cell_type": "code",
   "execution_count": 96,
   "metadata": {},
   "outputs": [
    {
     "data": {
      "text/plain": [
       "(4, 500)"
      ]
     },
     "execution_count": 96,
     "metadata": {},
     "output_type": "execute_result"
    }
   ],
   "source": [
    "preds.shape"
   ]
  },
  {
   "cell_type": "code",
   "execution_count": 97,
   "metadata": {},
   "outputs": [],
   "source": [
    "def return_same_pairs(X):\n",
    "    res= 1 if X[0] ==X[1] else 0\n",
    "    return res"
   ]
  },
  {
   "cell_type": "code",
   "execution_count": 136,
   "metadata": {},
   "outputs": [],
   "source": [
    "def Rand_Index(pred,Y):\n",
    "    cluster = [return_same_pairs(i) for i in combinations(pred, 2)  ]\n",
    "    class_lab = [return_same_pairs(i) for i in combinations(Y, 2)] \n",
    "    comp=[return_same_pairs(pair) for pair in zip(cluster,class_lab ) ]\n",
    "    TP_FN = np.sum(comp)\n",
    "    randIndex = TP_FN/len(cluster)\n",
    "    return randIndex"
   ]
  },
  {
   "cell_type": "code",
   "execution_count": 137,
   "metadata": {},
   "outputs": [
    {
     "data": {
      "text/plain": [
       "[0.16626052104208416,\n",
       " 0.4384529058116233,\n",
       " 0.7344929859719439,\n",
       " 0.7499078156312625]"
      ]
     },
     "execution_count": 137,
     "metadata": {},
     "output_type": "execute_result"
    }
   ],
   "source": [
    "[Rand_Index(preds[i],Y) for i in range(4) ]"
   ]
  },
  {
   "cell_type": "markdown",
   "metadata": {},
   "source": [
    "*TODO: Insert a summary of your results here*"
   ]
  },
  {
   "cell_type": "code",
   "execution_count": null,
   "metadata": {},
   "outputs": [],
   "source": []
  },
  {
   "cell_type": "markdown",
   "metadata": {},
   "source": [
    "## Topic modelling data set"
   ]
  },
  {
   "cell_type": "markdown",
   "metadata": {},
   "source": [
    "The data set for the topic modelling part of this lab is the collection of all [State of the Union](https://en.wikipedia.org/wiki/State_of_the_Union) addresses from the years 1975–2000. These speeches come as a single text file with one sentence per line. The following code cell prints the first 5 lines from the data file:"
   ]
  },
  {
   "cell_type": "code",
   "execution_count": 138,
   "metadata": {},
   "outputs": [
    {
     "name": "stdout",
     "output_type": "stream",
     "text": [
      "mr speaker mr vice president members of the 94th congress and distinguished guests\n",
      "twenty six years ago a freshman congressman a young fellow with lots of idealism who was out to change the world stood before sam rayburn in the well of the house and solemnly swore to the same oath that all of you took yesterday an unforgettable experience and i congratulate you all\n",
      "two days later that same freshman stood at the back of this great chamber over there someplace as president truman all charged up by his single handed election victory reported as the constitution requires on the state of the union\n",
      "when the bipartisan applause stopped president truman said i am happy to report to this 81st congress that the state of the union is good our nation is better able than ever before to meet the needs of the american people and to give them their fair chance in the pursuit of happiness it is foremost among the nations of the world in the search for peace\n",
      "today that freshman member from michigan stands where mr truman stood and i must say to you that the state of the union is not good\n",
      "millions of americans are out of work\n"
     ]
    }
   ],
   "source": [
    "with open('sotu_1975_2000.txt') as source:\n",
    "    for i, line in enumerate(source):\n",
    "        print(line.rstrip())\n",
    "        if i >= 5:\n",
    "            break"
   ]
  },
  {
   "cell_type": "markdown",
   "metadata": {},
   "source": [
    "Take a few minutes to think about what topics you would expect in this data set."
   ]
  },
  {
   "cell_type": "markdown",
   "metadata": {},
   "source": [
    "## Problem 4: Train a topic model"
   ]
  },
  {
   "cell_type": "markdown",
   "metadata": {},
   "source": [
    "Your first task on the topic modelling data is to train an LDA model. For this task you will be using [spaCy](https://spacy.io/) and the [gensim](https://radimrehurek.com/gensim/) topic modelling library.\n",
    "\n",
    "Start by preprocessing the data using spaCy. Given that the data set for this problem is rather small, you do not have to exclude any components from the standard pipeline. Filter out stop words, non-alphabetic tokens, and tokens less than 3 characters in length. Store the documents as a nested list where the first level of nesting corresponds to the sentences and the second level corresponds to the tokens in each sentence."
   ]
  },
  {
   "cell_type": "markdown",
   "metadata": {},
   "source": [
    "Test your preprocessing by running the following cell:"
   ]
  },
  {
   "cell_type": "code",
   "execution_count": 139,
   "metadata": {},
   "outputs": [],
   "source": [
    "# TODO: Replace the following lines with your own code for preprocessing the documents\n",
    "with open('sotu_1975_2000.txt') as source:\n",
    "    documents = [line.split() for line in source]"
   ]
  },
  {
   "cell_type": "markdown",
   "metadata": {},
   "source": [
    "You should get the following output:"
   ]
  },
  {
   "cell_type": "code",
   "execution_count": 140,
   "metadata": {},
   "outputs": [],
   "source": [
    "import spacy\n",
    "nlp = spacy.load(\"en_core_web_sm\")\n",
    "\n",
    "def preprocess(text):\n",
    "    doc = nlp(text)\n",
    "    res = [token.text for token in doc if not token.is_stop and token.lemma_.isalpha() and len(token)>=3]\n",
    "    return res"
   ]
  },
  {
   "cell_type": "code",
   "execution_count": 194,
   "metadata": {},
   "outputs": [],
   "source": [
    "with open(\"sotu_1975_2000.txt\") as source:\n",
    "    documents = [(preprocess(line)) for line in source]\n",
    "    documents = [' '.join(d) for d in documents] # for the convenience to the next steps, tyr to solve prob at upstream"
   ]
  },
  {
   "cell_type": "code",
   "execution_count": 186,
   "metadata": {},
   "outputs": [
    {
     "data": {
      "text/plain": [
       "'reduce oil imports million barrels day end year million barrels day end'"
      ]
     },
     "execution_count": 186,
     "metadata": {},
     "output_type": "execute_result"
    }
   ],
   "source": [
    "documents[42]"
   ]
  },
  {
   "cell_type": "code",
   "execution_count": 187,
   "metadata": {},
   "outputs": [
    {
     "data": {
      "text/plain": [
       "'reduce oil imports million barrels day end year million barrels day end'"
      ]
     },
     "execution_count": 187,
     "metadata": {},
     "output_type": "execute_result"
    }
   ],
   "source": [
    "''.join(documents[42])"
   ]
  },
  {
   "cell_type": "raw",
   "metadata": {},
   "source": [
    "'reduce oil imports million barrels day end year million barrels day end'"
   ]
  },
  {
   "cell_type": "markdown",
   "metadata": {},
   "source": [
    "Once you have the list of documents, skim the section [Pre-process and vectorize the documents](https://radimrehurek.com/gensim/auto_examples/tutorials/run_lda.html#pre-process-and-vectorize-the-documents) of the gensim documentation to learn how to create the dictionary and the vectorized corpus representation required by gensim. (Note that you cannot use the standard scikit-learn pipeline in this case.) Then, write code to train an [LdaModel](https://radimrehurek.com/gensim/models/ldamodel.html) for $k=10$ topics, and using default values for all other parameters."
   ]
  },
  {
   "cell_type": "code",
   "execution_count": 191,
   "metadata": {},
   "outputs": [
    {
     "name": "stderr",
     "output_type": "stream",
     "text": [
      "[nltk_data] Downloading package wordnet to\n",
      "[nltk_data]     C:\\Users\\Administrator\\AppData\\Roaming\\nltk_data...\n",
      "[nltk_data]   Unzipping corpora\\wordnet.zip.\n"
     ]
    },
    {
     "data": {
      "text/plain": [
       "True"
      ]
     },
     "execution_count": 191,
     "metadata": {},
     "output_type": "execute_result"
    }
   ],
   "source": [
    "# TODO: Enter code here to train an LDA model and store it in a variable `model`\n",
    "import nltk\n",
    "nltk.download('wordnet')"
   ]
  },
  {
   "cell_type": "code",
   "execution_count": 195,
   "metadata": {},
   "outputs": [],
   "source": [
    "from nltk.tokenize import RegexpTokenizer\n",
    "#from string import \n",
    "docs=documents\n",
    "tokenizer = RegexpTokenizer(r'\\w+')\n",
    "for idx in range(len(docs)):\n",
    "    docs[idx] = docs[idx].lower()  # Convert to lowercase.\n",
    "    docs[idx] = tokenizer.tokenize(docs[idx])  # Split into words.\n",
    "\n",
    "# Remove numbers, but not words that contain numbers.\n",
    "docs = [[token for token in doc if not token.isnumeric()] for doc in docs]\n",
    "\n",
    "# Remove words that are only one character.\n",
    "docs = [[token for token in doc if len(token) > 1] for doc in docs]"
   ]
  },
  {
   "cell_type": "code",
   "execution_count": 196,
   "metadata": {},
   "outputs": [],
   "source": [
    "from nltk.stem.wordnet import WordNetLemmatizer\n",
    "\n",
    "lemmatizer = WordNetLemmatizer()\n",
    "docs = [[lemmatizer.lemmatize(token) for token in doc] for doc in docs]"
   ]
  },
  {
   "cell_type": "code",
   "execution_count": 197,
   "metadata": {},
   "outputs": [],
   "source": [
    "from gensim.models import Phrases\n",
    "\n",
    "# Add bigrams and trigrams to docs (only ones that appear 20 times or more).\n",
    "bigram = Phrases(docs, min_count=20)\n",
    "for idx in range(len(docs)):\n",
    "    for token in bigram[docs[idx]]:\n",
    "        if '_' in token:\n",
    "            # Token is a bigram, add to document.\n",
    "            docs[idx].append(token)\n"
   ]
  },
  {
   "cell_type": "code",
   "execution_count": 199,
   "metadata": {},
   "outputs": [],
   "source": [
    "from gensim.corpora import Dictionary\n",
    "\n",
    "# Create a dictionary representation of the documents.\n",
    "dictionary = Dictionary(docs)\n",
    "\n",
    "# Filter out words that occur less than 20 documents, or more than 50% of the documents.\n",
    "dictionary.filter_extremes(no_below=20, no_above=0.5)\n"
   ]
  },
  {
   "cell_type": "code",
   "execution_count": 200,
   "metadata": {},
   "outputs": [],
   "source": [
    "# Bag-of-words representation of the documents.\n",
    "corpus = [dictionary.doc2bow(doc) for doc in docs]"
   ]
  },
  {
   "cell_type": "markdown",
   "metadata": {},
   "source": [
    "Once you have a trained model, run the following cell to print the topics:"
   ]
  },
  {
   "cell_type": "code",
   "execution_count": 201,
   "metadata": {},
   "outputs": [],
   "source": [
    "from gensim.models import LdaModel\n",
    "\n",
    "# Set training parameters.\n",
    "num_topics = 10\n",
    "#chunksize = 2000\n",
    "#passes = 20\n",
    "#iterations = 400\n",
    "#eval_every = None  # Don't evaluate model perplexity, takes too much time.\n",
    "\n",
    "# Make a index to word dictionary.\n",
    "temp = dictionary[0]  # This is only to \"load\" the dictionary.\n",
    "id2word = dictionary.id2token\n",
    "\n",
    "model = LdaModel(\n",
    "    corpus=corpus,\n",
    "    id2word=id2word,\n",
    "    num_topics=num_topics\n",
    ")"
   ]
  },
  {
   "cell_type": "code",
   "execution_count": 202,
   "metadata": {},
   "outputs": [
    {
     "data": {
      "text/plain": [
       "[(0,\n",
       "  '0.027*\"new\" + 0.019*\"america\" + 0.017*\"life\" + 0.017*\"nation\" + 0.013*\"world\" + 0.013*\"country\" + 0.012*\"american\" + 0.012*\"century\" + 0.012*\"congress\" + 0.012*\"time\"'),\n",
       " (1,\n",
       "  '0.034*\"american\" + 0.019*\"let\" + 0.019*\"year\" + 0.018*\"work\" + 0.017*\"new\" + 0.015*\"america\" + 0.015*\"people\" + 0.012*\"world\" + 0.011*\"government\" + 0.011*\"congress\"'),\n",
       " (2,\n",
       "  '0.034*\"american\" + 0.024*\"year\" + 0.019*\"people\" + 0.018*\"budget\" + 0.017*\"congress\" + 0.012*\"know\" + 0.012*\"right\" + 0.010*\"state\" + 0.010*\"federal\" + 0.010*\"million\"'),\n",
       " (3,\n",
       "  '0.021*\"year\" + 0.018*\"government\" + 0.017*\"child\" + 0.013*\"community\" + 0.013*\"new\" + 0.011*\"energy\" + 0.010*\"hand\" + 0.010*\"state\" + 0.010*\"ask\" + 0.010*\"help\"'),\n",
       " (4,\n",
       "  '0.021*\"year\" + 0.018*\"new\" + 0.014*\"family\" + 0.014*\"america\" + 0.013*\"state\" + 0.013*\"congress\" + 0.011*\"thank\" + 0.010*\"agreement\" + 0.010*\"program\" + 0.010*\"way\"'),\n",
       " (5,\n",
       "  '0.047*\"child\" + 0.026*\"year\" + 0.017*\"million\" + 0.015*\"parent\" + 0.013*\"american\" + 0.012*\"new\" + 0.012*\"health\" + 0.012*\"america\" + 0.011*\"drug\" + 0.009*\"tonight\"'),\n",
       " (6,\n",
       "  '0.032*\"year\" + 0.023*\"america\" + 0.021*\"people\" + 0.017*\"world\" + 0.014*\"american\" + 0.013*\"nation\" + 0.012*\"rate\" + 0.012*\"tax\" + 0.011*\"new\" + 0.010*\"economic\"'),\n",
       " (7,\n",
       "  '0.031*\"security\" + 0.030*\"social\" + 0.030*\"social_security\" + 0.022*\"cut\" + 0.019*\"year\" + 0.019*\"tax\" + 0.011*\"tax_cut\" + 0.010*\"national\" + 0.010*\"fund\" + 0.010*\"bipartisan\"'),\n",
       " (8,\n",
       "  '0.027*\"america\" + 0.022*\"world\" + 0.017*\"new\" + 0.016*\"peace\" + 0.015*\"work\" + 0.014*\"nation\" + 0.013*\"state\" + 0.012*\"community\" + 0.010*\"year\" + 0.010*\"nuclear\"'),\n",
       " (9,\n",
       "  '0.030*\"school\" + 0.023*\"people\" + 0.020*\"work\" + 0.018*\"year\" + 0.017*\"care\" + 0.016*\"community\" + 0.015*\"help\" + 0.015*\"american\" + 0.014*\"job\" + 0.013*\"college\"')]"
      ]
     },
     "execution_count": 202,
     "metadata": {},
     "output_type": "execute_result"
    }
   ],
   "source": [
    "model.print_topics()"
   ]
  },
  {
   "cell_type": "code",
   "execution_count": 203,
   "metadata": {},
   "outputs": [
    {
     "data": {
      "text/html": [
       "<div>\n",
       "<style scoped>\n",
       "    .dataframe tbody tr th:only-of-type {\n",
       "        vertical-align: middle;\n",
       "    }\n",
       "\n",
       "    .dataframe tbody tr th {\n",
       "        vertical-align: top;\n",
       "    }\n",
       "\n",
       "    .dataframe thead th {\n",
       "        text-align: right;\n",
       "    }\n",
       "</style>\n",
       "<table border=\"1\" class=\"dataframe\">\n",
       "  <thead>\n",
       "    <tr style=\"text-align: right;\">\n",
       "      <th></th>\n",
       "      <th>0</th>\n",
       "      <th>1</th>\n",
       "      <th>2</th>\n",
       "      <th>3</th>\n",
       "      <th>4</th>\n",
       "      <th>5</th>\n",
       "      <th>6</th>\n",
       "      <th>7</th>\n",
       "      <th>8</th>\n",
       "      <th>9</th>\n",
       "    </tr>\n",
       "  </thead>\n",
       "  <tbody>\n",
       "    <tr>\n",
       "      <th>0</th>\n",
       "      <td>(0.0296825, school)</td>\n",
       "      <td>(0.026914887, new)</td>\n",
       "      <td>(0.033734452, american)</td>\n",
       "      <td>(0.04712262, child)</td>\n",
       "      <td>(0.033621967, american)</td>\n",
       "      <td>(0.021083076, year)</td>\n",
       "      <td>(0.02074679, year)</td>\n",
       "      <td>(0.026680823, america)</td>\n",
       "      <td>(0.032395817, year)</td>\n",
       "      <td>(0.031071892, security)</td>\n",
       "    </tr>\n",
       "    <tr>\n",
       "      <th>1</th>\n",
       "      <td>(0.023332728, people)</td>\n",
       "      <td>(0.019357301, america)</td>\n",
       "      <td>(0.019209532, let)</td>\n",
       "      <td>(0.026398381, year)</td>\n",
       "      <td>(0.02405861, year)</td>\n",
       "      <td>(0.018484894, government)</td>\n",
       "      <td>(0.018431945, new)</td>\n",
       "      <td>(0.021967009, world)</td>\n",
       "      <td>(0.023061795, america)</td>\n",
       "      <td>(0.03003997, social)</td>\n",
       "    </tr>\n",
       "    <tr>\n",
       "      <th>2</th>\n",
       "      <td>(0.0204344, work)</td>\n",
       "      <td>(0.016875975, life)</td>\n",
       "      <td>(0.018627949, year)</td>\n",
       "      <td>(0.017408775, million)</td>\n",
       "      <td>(0.01851403, people)</td>\n",
       "      <td>(0.0170593, child)</td>\n",
       "      <td>(0.014456407, family)</td>\n",
       "      <td>(0.016523503, new)</td>\n",
       "      <td>(0.02088214, people)</td>\n",
       "      <td>(0.029584052, social_security)</td>\n",
       "    </tr>\n",
       "    <tr>\n",
       "      <th>3</th>\n",
       "      <td>(0.018474162, year)</td>\n",
       "      <td>(0.016568013, nation)</td>\n",
       "      <td>(0.017791392, work)</td>\n",
       "      <td>(0.014784813, parent)</td>\n",
       "      <td>(0.017910987, budget)</td>\n",
       "      <td>(0.01309193, community)</td>\n",
       "      <td>(0.0142351305, america)</td>\n",
       "      <td>(0.016167544, peace)</td>\n",
       "      <td>(0.017197412, world)</td>\n",
       "      <td>(0.022470513, cut)</td>\n",
       "    </tr>\n",
       "    <tr>\n",
       "      <th>4</th>\n",
       "      <td>(0.017467467, care)</td>\n",
       "      <td>(0.012724346, world)</td>\n",
       "      <td>(0.016754646, new)</td>\n",
       "      <td>(0.013095772, american)</td>\n",
       "      <td>(0.016609566, congress)</td>\n",
       "      <td>(0.0130417375, new)</td>\n",
       "      <td>(0.01329537, state)</td>\n",
       "      <td>(0.014816348, work)</td>\n",
       "      <td>(0.013756925, american)</td>\n",
       "      <td>(0.019490875, year)</td>\n",
       "    </tr>\n",
       "    <tr>\n",
       "      <th>5</th>\n",
       "      <td>(0.016393084, community)</td>\n",
       "      <td>(0.012708086, country)</td>\n",
       "      <td>(0.015443649, america)</td>\n",
       "      <td>(0.012413256, new)</td>\n",
       "      <td>(0.011877086, know)</td>\n",
       "      <td>(0.01141611, energy)</td>\n",
       "      <td>(0.012718848, congress)</td>\n",
       "      <td>(0.014275873, nation)</td>\n",
       "      <td>(0.012945498, nation)</td>\n",
       "      <td>(0.019336697, tax)</td>\n",
       "    </tr>\n",
       "    <tr>\n",
       "      <th>6</th>\n",
       "      <td>(0.015086106, help)</td>\n",
       "      <td>(0.012480252, american)</td>\n",
       "      <td>(0.0148993, people)</td>\n",
       "      <td>(0.012186581, health)</td>\n",
       "      <td>(0.011848728, right)</td>\n",
       "      <td>(0.010419151, hand)</td>\n",
       "      <td>(0.01110752, thank)</td>\n",
       "      <td>(0.013280845, state)</td>\n",
       "      <td>(0.011820104, rate)</td>\n",
       "      <td>(0.010988568, tax_cut)</td>\n",
       "    </tr>\n",
       "    <tr>\n",
       "      <th>7</th>\n",
       "      <td>(0.014752373, american)</td>\n",
       "      <td>(0.012426266, century)</td>\n",
       "      <td>(0.01193042, world)</td>\n",
       "      <td>(0.011605189, america)</td>\n",
       "      <td>(0.010269382, state)</td>\n",
       "      <td>(0.01036651, state)</td>\n",
       "      <td>(0.0100596985, agreement)</td>\n",
       "      <td>(0.012059274, community)</td>\n",
       "      <td>(0.011700548, tax)</td>\n",
       "      <td>(0.010213287, national)</td>\n",
       "    </tr>\n",
       "    <tr>\n",
       "      <th>8</th>\n",
       "      <td>(0.013954163, job)</td>\n",
       "      <td>(0.01227467, congress)</td>\n",
       "      <td>(0.01148056, government)</td>\n",
       "      <td>(0.010691277, drug)</td>\n",
       "      <td>(0.010064786, federal)</td>\n",
       "      <td>(0.010331298, ask)</td>\n",
       "      <td>(0.009796072, program)</td>\n",
       "      <td>(0.010270119, year)</td>\n",
       "      <td>(0.01092499, new)</td>\n",
       "      <td>(0.009886691, fund)</td>\n",
       "    </tr>\n",
       "    <tr>\n",
       "      <th>9</th>\n",
       "      <td>(0.013328645, college)</td>\n",
       "      <td>(0.012100106, time)</td>\n",
       "      <td>(0.010637689, congress)</td>\n",
       "      <td>(0.0087383855, tonight)</td>\n",
       "      <td>(0.009711907, million)</td>\n",
       "      <td>(0.0096413875, help)</td>\n",
       "      <td>(0.009682544, way)</td>\n",
       "      <td>(0.009888668, nuclear)</td>\n",
       "      <td>(0.010168536, economic)</td>\n",
       "      <td>(0.00974941, bipartisan)</td>\n",
       "    </tr>\n",
       "  </tbody>\n",
       "</table>\n",
       "</div>"
      ],
      "text/plain": [
       "                          0                        1  \\\n",
       "0       (0.0296825, school)       (0.026914887, new)   \n",
       "1     (0.023332728, people)   (0.019357301, america)   \n",
       "2         (0.0204344, work)      (0.016875975, life)   \n",
       "3       (0.018474162, year)    (0.016568013, nation)   \n",
       "4       (0.017467467, care)     (0.012724346, world)   \n",
       "5  (0.016393084, community)   (0.012708086, country)   \n",
       "6       (0.015086106, help)  (0.012480252, american)   \n",
       "7   (0.014752373, american)   (0.012426266, century)   \n",
       "8        (0.013954163, job)   (0.01227467, congress)   \n",
       "9    (0.013328645, college)      (0.012100106, time)   \n",
       "\n",
       "                          2                        3                        4  \\\n",
       "0   (0.033734452, american)      (0.04712262, child)  (0.033621967, american)   \n",
       "1        (0.019209532, let)      (0.026398381, year)       (0.02405861, year)   \n",
       "2       (0.018627949, year)   (0.017408775, million)     (0.01851403, people)   \n",
       "3       (0.017791392, work)    (0.014784813, parent)    (0.017910987, budget)   \n",
       "4        (0.016754646, new)  (0.013095772, american)  (0.016609566, congress)   \n",
       "5    (0.015443649, america)       (0.012413256, new)      (0.011877086, know)   \n",
       "6       (0.0148993, people)    (0.012186581, health)     (0.011848728, right)   \n",
       "7       (0.01193042, world)   (0.011605189, america)     (0.010269382, state)   \n",
       "8  (0.01148056, government)      (0.010691277, drug)   (0.010064786, federal)   \n",
       "9   (0.010637689, congress)  (0.0087383855, tonight)   (0.009711907, million)   \n",
       "\n",
       "                           5                          6  \\\n",
       "0        (0.021083076, year)         (0.02074679, year)   \n",
       "1  (0.018484894, government)         (0.018431945, new)   \n",
       "2         (0.0170593, child)      (0.014456407, family)   \n",
       "3    (0.01309193, community)    (0.0142351305, america)   \n",
       "4        (0.0130417375, new)        (0.01329537, state)   \n",
       "5       (0.01141611, energy)    (0.012718848, congress)   \n",
       "6        (0.010419151, hand)        (0.01110752, thank)   \n",
       "7        (0.01036651, state)  (0.0100596985, agreement)   \n",
       "8         (0.010331298, ask)     (0.009796072, program)   \n",
       "9       (0.0096413875, help)         (0.009682544, way)   \n",
       "\n",
       "                          7                        8  \\\n",
       "0    (0.026680823, america)      (0.032395817, year)   \n",
       "1      (0.021967009, world)   (0.023061795, america)   \n",
       "2        (0.016523503, new)     (0.02088214, people)   \n",
       "3      (0.016167544, peace)     (0.017197412, world)   \n",
       "4       (0.014816348, work)  (0.013756925, american)   \n",
       "5     (0.014275873, nation)    (0.012945498, nation)   \n",
       "6      (0.013280845, state)      (0.011820104, rate)   \n",
       "7  (0.012059274, community)       (0.011700548, tax)   \n",
       "8       (0.010270119, year)        (0.01092499, new)   \n",
       "9    (0.009888668, nuclear)  (0.010168536, economic)   \n",
       "\n",
       "                                9  \n",
       "0         (0.031071892, security)  \n",
       "1            (0.03003997, social)  \n",
       "2  (0.029584052, social_security)  \n",
       "3              (0.022470513, cut)  \n",
       "4             (0.019490875, year)  \n",
       "5              (0.019336697, tax)  \n",
       "6          (0.010988568, tax_cut)  \n",
       "7         (0.010213287, national)  \n",
       "8             (0.009886691, fund)  \n",
       "9        (0.00974941, bipartisan)  "
      ]
     },
     "execution_count": 203,
     "metadata": {},
     "output_type": "execute_result"
    }
   ],
   "source": [
    "top_topics = model.top_topics(corpus) #, num_words=20)\n",
    "\n",
    "Top_N = 10\n",
    "pd.DataFrame({i:[topic for topic in top_topics[i][0][:Top_N]] for i in range(num_topics)})"
   ]
  },
  {
   "cell_type": "markdown",
   "metadata": {},
   "source": [
    "Inspect the topics. Can you &lsquo;label&rsquo; each topic with a short description of what it is about? Do the topics match your expectations?"
   ]
  },
  {
   "cell_type": "markdown",
   "metadata": {},
   "source": [
    "## Problem 5: Monitor a topic model for convergence"
   ]
  },
  {
   "cell_type": "markdown",
   "metadata": {},
   "source": [
    "When learning an LDA model, it is important to make sure that the training algorithm has converged to a stable posterior distribution. One way to do so is to plot, after each training epochs (or &lsquo;pass&rsquo;, in gensim parlance) the log likelihood of the training data under the posterior. Your last task in this lab is to create such a plot and, based on this, to suggest an appropriate number of epochs.\n",
    "\n",
    "To collect information about the posterior likelihood after each pass, we need to enable the logging facilities of gensim. Once this is done, gensim will add various diagnostics to a log file `gensim.log`."
   ]
  },
  {
   "cell_type": "code",
   "execution_count": 204,
   "metadata": {},
   "outputs": [],
   "source": [
    "import logging\n",
    "\n",
    "logging.basicConfig(filename='gensim.log', format='%(asctime)s:%(levelname)s:%(message)s', level=logging.INFO)"
   ]
  },
  {
   "cell_type": "markdown",
   "metadata": {},
   "source": [
    "The following function will parse the generated logfile and return the list of log likelihoods."
   ]
  },
  {
   "cell_type": "code",
   "execution_count": 205,
   "metadata": {},
   "outputs": [],
   "source": [
    "import re\n",
    "\n",
    "def parse_logfile():\n",
    "    matcher = re.compile('(-*\\d+\\.\\d+) per-word .* (\\d+\\.\\d+) perplexity')\n",
    "    likelihoods = []\n",
    "    with open('gensim.log') as source:\n",
    "        for line in source:\n",
    "            match = matcher.search(line)\n",
    "            if match:\n",
    "                likelihoods.append(float(match.group(1)))\n",
    "    return likelihoods"
   ]
  },
  {
   "cell_type": "markdown",
   "metadata": {},
   "source": [
    "Your task now is to re-train your LDA model for 50&nbsp;passes, retrieve the list of log likelihoods, and create a plot from this data."
   ]
  },
  {
   "cell_type": "code",
   "execution_count": null,
   "metadata": {},
   "outputs": [],
   "source": [
    "# TODO: Enter code here to generate the convergence plot"
   ]
  },
  {
   "cell_type": "code",
   "execution_count": 206,
   "metadata": {},
   "outputs": [],
   "source": [
    "model = LdaModel(\n",
    "    corpus=corpus,\n",
    "    id2word=id2word,\n",
    "    num_topics=num_topics,\n",
    "    passes=50\n",
    ")"
   ]
  },
  {
   "cell_type": "code",
   "execution_count": 210,
   "metadata": {},
   "outputs": [
    {
     "data": {
      "text/plain": [
       "[<matplotlib.lines.Line2D at 0x163819e2790>]"
      ]
     },
     "execution_count": 210,
     "metadata": {},
     "output_type": "execute_result"
    },
    {
     "data": {
      "image/png": "[encoded data removed]",
      "text/plain": [
       "<Figure size 432x288 with 1 Axes>"
      ]
     },
     "metadata": {
      "needs_background": "light"
     },
     "output_type": "display_data"
    }
   ],
   "source": [
    "plt.plot(range(0,50), parse_logfile(),marker='o', linestyle='dashed',linewidth = 1,markersize = 5,alpha = 0.9)"
   ]
  },
  {
   "cell_type": "code",
   "execution_count": 211,
   "metadata": {},
   "outputs": [
    {
     "data": {
      "text/plain": [
       "49"
      ]
     },
     "execution_count": 211,
     "metadata": {},
     "output_type": "execute_result"
    }
   ],
   "source": [
    "np.argmax( parse_logfile())"
   ]
  },
  {
   "cell_type": "code",
   "execution_count": 223,
   "metadata": {},
   "outputs": [
    {
     "data": {
      "text/plain": [
       "[<matplotlib.lines.Line2D at 0x16381d27340>]"
      ]
     },
     "execution_count": 223,
     "metadata": {},
     "output_type": "execute_result"
    },
    {
     "data": {
      "image/png": "[encoded data removed]",
      "text/plain": [
       "<Figure size 432x288 with 1 Axes>"
      ]
     },
     "metadata": {
      "needs_background": "light"
     },
     "output_type": "display_data"
    }
   ],
   "source": [
    "increment_n=[ abs(parse_logfile()[i+1]-parse_logfile()[i]) for i in range(49)]\n",
    "plt.plot(range(0,49), increment_n)\n",
    "# after ten, the difference becomes not sinificiant"
   ]
  },
  {
   "cell_type": "code",
   "execution_count": 232,
   "metadata": {},
   "outputs": [
    {
     "data": {
      "text/plain": [
       "[16]"
      ]
     },
     "execution_count": 232,
     "metadata": {},
     "output_type": "execute_result"
    }
   ],
   "source": [
    "from random import sample\n",
    "sample(range(12,19),1)"
   ]
  },
  {
   "cell_type": "markdown",
   "metadata": {},
   "source": [
    "How do you interpret your plot? Based on the plot, what would be a reasonable choice for the number of passes? Retrain your LDA model with that number and re-inspect the topics it finds. Do you consider the new topics to be &lsquo;better&rsquo; than the ones that you got from the 1-pass model in Problem&nbsp;4?"
   ]
  },
  {
   "cell_type": "markdown",
   "metadata": {},
   "source": [
    "## Reflection questions"
   ]
  },
  {
   "cell_type": "markdown",
   "metadata": {},
   "source": [
    "The following reflection questions are questions that you could be asked in the oral exam. Try to answer each of them in the form of a short text and enter it in the cell below. You will get feedback on your answers from your lab assistant."
   ]
  },
  {
   "cell_type": "markdown",
   "metadata": {},
   "source": [
    "**RQ 3.1:** Based on your experiments in Problem&nbsp;2 and Problem&nbsp;3, what is the relation between the quality of a clustering and the number of clusters? What happens when the number of clusters is too low, or too high? For this particular data set, what would a &lsquo;good&rsquo; number of clusters be?\n",
    "\n",
    "**RQ 3.2:** Explain why it is important to monitor an LDA model for convergence and not simply use, say, 1000&nbsp;passes. How is the log likelihood used in this context? Were the topics from the multi-pass model &lsquo;better&rsquo; than the topics from the 1-pass model?\n",
    "\n",
    "**RQ 3.3:** What are the differences between $k$-means and LDA? When would you use one, when the other?"
   ]
  },
  {
   "cell_type": "markdown",
   "metadata": {},
   "source": [
    "*TODO: Enter your answers here*"
   ]
  },
  {
   "cell_type": "markdown",
   "metadata": {},
   "source": [
    "**Congratulations on finishing L3! 👍**"
   ]
  }
 ],
 "metadata": {
  "kernelspec": {
   "display_name": "Python 3 (ipykernel)",
   "language": "python",
   "name": "python3"
  },
  "language_info": {
   "codemirror_mode": {
    "name": "ipython",
    "version": 3
   },
   "file_extension": ".py",
   "mimetype": "text/x-python",
   "name": "python",
   "nbconvert_exporter": "python",
   "pygments_lexer": "ipython3",
   "version": "3.9.5"
  }
 },
 "nbformat": 4,
 "nbformat_minor": 2
}
