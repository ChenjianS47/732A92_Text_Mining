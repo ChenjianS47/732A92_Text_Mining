{
 "cells": [
  {
   "cell_type": "markdown",
   "metadata": {},
   "source": [
    "# L3: Text clustering and topic modelling"
   ]
  },
  {
   "cell_type": "markdown",
   "metadata": {},
   "source": [
    "Text clustering groups documents in such a way that documents within a group are more &lsquo;similar&rsquo; to other documents in the cluster than to documents not in the cluster. The exact definition of what &lsquo;similar&rsquo; means in this context varies across applications and clustering algorithms.\n",
    "\n",
    "In this lab you will experiment with both hard and soft clustering techniques. More specifically, in the first part you will be using the $k$-means algorithm, and in the second part you will be using a topic model based on the Latent Dirichlet Allocation (LDA)."
   ]
  },
  {
   "cell_type": "markdown",
   "metadata": {},
   "source": [
    "## Hard clustering data set"
   ]
  },
  {
   "cell_type": "markdown",
   "metadata": {},
   "source": [
    "The raw data for the hard clustering part of this lab is a collection of product reviews. We have preprocessed the data by tokenization and lowercasing."
   ]
  },
  {
   "cell_type": "code",
   "execution_count": 1,
   "metadata": {},
   "outputs": [],
   "source": [
    "import pandas as pd\n",
    "import bz2\n",
    "\n",
    "with bz2.open('reviews.json.bz2') as source:\n",
    "    df = pd.read_json(source)"
   ]
  },
  {
   "cell_type": "markdown",
   "metadata": {},
   "source": [
    "When you inspect the data frame, you can see that there are three labelled columns: `category` (the product category), `sentiment` (whether the product review was classified as &lsquo;positive&rsquo; or &lsquo;negative&rsquo; towards the product), and `text` (the space-separated text of the review)."
   ]
  },
  {
   "cell_type": "code",
   "execution_count": 2,
   "metadata": {},
   "outputs": [
    {
     "data": {
      "text/html": [
       "<div>\n",
       "<style scoped>\n",
       "    .dataframe tbody tr th:only-of-type {\n",
       "        vertical-align: middle;\n",
       "    }\n",
       "\n",
       "    .dataframe tbody tr th {\n",
       "        vertical-align: top;\n",
       "    }\n",
       "\n",
       "    .dataframe thead th {\n",
       "        text-align: right;\n",
       "    }\n",
       "</style>\n",
       "<table border=\"1\" class=\"dataframe\">\n",
       "  <thead>\n",
       "    <tr style=\"text-align: right;\">\n",
       "      <th></th>\n",
       "      <th>category</th>\n",
       "      <th>sentiment</th>\n",
       "      <th>text</th>\n",
       "    </tr>\n",
       "  </thead>\n",
       "  <tbody>\n",
       "    <tr>\n",
       "      <th>0</th>\n",
       "      <td>music</td>\n",
       "      <td>neg</td>\n",
       "      <td>i bought this album because i loved the title ...</td>\n",
       "    </tr>\n",
       "    <tr>\n",
       "      <th>1</th>\n",
       "      <td>music</td>\n",
       "      <td>neg</td>\n",
       "      <td>i was misled and thought i was buying the enti...</td>\n",
       "    </tr>\n",
       "    <tr>\n",
       "      <th>2</th>\n",
       "      <td>books</td>\n",
       "      <td>neg</td>\n",
       "      <td>i have introduced many of my ell , high school...</td>\n",
       "    </tr>\n",
       "    <tr>\n",
       "      <th>3</th>\n",
       "      <td>books</td>\n",
       "      <td>pos</td>\n",
       "      <td>anything you purchase in the left behind serie...</td>\n",
       "    </tr>\n",
       "    <tr>\n",
       "      <th>4</th>\n",
       "      <td>dvd</td>\n",
       "      <td>pos</td>\n",
       "      <td>i loved these movies , and i cant wiat for the...</td>\n",
       "    </tr>\n",
       "  </tbody>\n",
       "</table>\n",
       "</div>"
      ],
      "text/plain": [
       "  category sentiment                                               text\n",
       "0    music       neg  i bought this album because i loved the title ...\n",
       "1    music       neg  i was misled and thought i was buying the enti...\n",
       "2    books       neg  i have introduced many of my ell , high school...\n",
       "3    books       pos  anything you purchase in the left behind serie...\n",
       "4      dvd       pos  i loved these movies , and i cant wiat for the..."
      ]
     },
     "execution_count": 2,
     "metadata": {},
     "output_type": "execute_result"
    }
   ],
   "source": [
    "df.head()"
   ]
  },
  {
   "cell_type": "markdown",
   "metadata": {},
   "source": [
    "## Problem 1: K-means clustering"
   ]
  },
  {
   "cell_type": "markdown",
   "metadata": {},
   "source": [
    "Your first task is to cluster the product review data using a tf–idf vectorizer and a $k$-means clusterer."
   ]
  },
  {
   "cell_type": "markdown",
   "metadata": {},
   "source": [
    "Start by doing the vectorization. In connection with vectorization, you should also filter out standard English stop words. While you could use [spaCy](https://spacy.io/) for this task, here it suffices to use the word list implemented in [TfidfVectorizer](https://scikit-learn.org/stable/modules/generated/sklearn.feature_extraction.text.TfidfVectorizer.html)."
   ]
  },
  {
   "cell_type": "code",
   "execution_count": 3,
   "metadata": {},
   "outputs": [],
   "source": [
    "# TODO: Enter code here to vectorize the data and store it in a variable `reviews`\n",
    "import spacy\n",
    "from sklearn.feature_extraction.text import TfidfVectorizer\n",
    "vectorizer = TfidfVectorizer(stop_words='english')\n",
    "reviews = vectorizer.fit_transform(df['text'])"
   ]
  },
  {
   "cell_type": "markdown",
   "metadata": {},
   "source": [
    "Test your vectorization by running the following code cell:"
   ]
  },
  {
   "cell_type": "code",
   "execution_count": 4,
   "metadata": {},
   "outputs": [
    {
     "data": {
      "text/plain": [
       "(11914, 46619)"
      ]
     },
     "execution_count": 4,
     "metadata": {},
     "output_type": "execute_result"
    }
   ],
   "source": [
    "reviews.shape"
   ]
  },
  {
   "cell_type": "markdown",
   "metadata": {},
   "source": [
    "If you used the English stop word list from scikit-learn, then the resulting vocabulary should have 46,619 entries."
   ]
  },
  {
   "cell_type": "markdown",
   "metadata": {},
   "source": [
    "Next, cluster the vectorized data. Before doing so, you should read the documentation of the [KMeans](https://scikit-learn.org/stable/modules/generated/sklearn.cluster.KMeans.html) class, which is scikit-learn&rsquo;s implementation of the $k$-means algorithm. As you can see, this class has several parameters that you can tweak. For now, the only parameter that you will have to set is the number of clusters. We recommend that you choose $k=3$.\n",
    "\n",
    "**Tip:** Training $k$-means models will take some time. To speed things up, you can use the `n_init` parameter to control the number of times that the clustering is re-computed with different initial values. The default value for this parameter is 10; here and in the rest of this lab, you may want to set this to a lower value."
   ]
  },
  {
   "cell_type": "code",
   "execution_count": 5,
   "metadata": {},
   "outputs": [],
   "source": [
    "# TODO: Enter code here to cluster the vectorized data\n",
    "from sklearn.cluster import KMeans\n",
    "kmeans_k3 = KMeans(n_clusters=3,n_init=7, random_state=202111).fit(reviews)"
   ]
  },
  {
   "cell_type": "markdown",
   "metadata": {},
   "source": [
    "To sanity-check your clustering, create a bar plot with the number of documents per cluster."
   ]
  },
  {
   "cell_type": "code",
   "execution_count": 6,
   "metadata": {},
   "outputs": [
    {
     "data": {
      "text/plain": [
       "<AxesSubplot:>"
      ]
     },
     "execution_count": 6,
     "metadata": {},
     "output_type": "execute_result"
    },
    {
     "data": {
      "image/png": "[encoded data removed]",
      "text/plain": [
       "<Figure size 432x288 with 1 Axes>"
      ]
     },
     "metadata": {
      "needs_background": "light"
     },
     "output_type": "display_data"
    }
   ],
   "source": [
    "# TODO: Enter code here to produce a bar plot of the cluster size\n",
    "pd.value_counts(kmeans_k3.labels_).plot(kind='bar', rot=0)"
   ]
  },
  {
   "cell_type": "markdown",
   "metadata": {},
   "source": [
    "Note that sizes may vary considerable between clusters and among different random seeds."
   ]
  },
  {
   "cell_type": "markdown",
   "metadata": {},
   "source": [
    "## Problem 2: Summarize clusters"
   ]
  },
  {
   "cell_type": "markdown",
   "metadata": {},
   "source": [
    "Once you have a clustering, you can try to see whether it is meaningful. One useful technique in that context is to generate a **summary** for each cluster by extracting the $n$ highest-weighted terms from the centroid of each cluster. Your next task is to implement this approach.\n",
    "\n",
    "**Hint:** You will need to construct an &lsquo;inverted vocabulary&rsquo; that allows you to map from the index of a term back to the original term."
   ]
  },
  {
   "cell_type": "code",
   "execution_count": 7,
   "metadata": {},
   "outputs": [
    {
     "data": {
      "text/html": [
       "<div>\n",
       "<style scoped>\n",
       "    .dataframe tbody tr th:only-of-type {\n",
       "        vertical-align: middle;\n",
       "    }\n",
       "\n",
       "    .dataframe tbody tr th {\n",
       "        vertical-align: top;\n",
       "    }\n",
       "\n",
       "    .dataframe thead th {\n",
       "        text-align: right;\n",
       "    }\n",
       "</style>\n",
       "<table border=\"1\" class=\"dataframe\">\n",
       "  <thead>\n",
       "    <tr style=\"text-align: right;\">\n",
       "      <th></th>\n",
       "      <th>0</th>\n",
       "      <th>1</th>\n",
       "      <th>2</th>\n",
       "    </tr>\n",
       "  </thead>\n",
       "  <tbody>\n",
       "    <tr>\n",
       "      <th>0</th>\n",
       "      <td>good</td>\n",
       "      <td>great</td>\n",
       "      <td>time</td>\n",
       "    </tr>\n",
       "    <tr>\n",
       "      <th>1</th>\n",
       "      <td>just</td>\n",
       "      <td>quality</td>\n",
       "      <td>use</td>\n",
       "    </tr>\n",
       "    <tr>\n",
       "      <th>2</th>\n",
       "      <td>like</td>\n",
       "      <td>flash</td>\n",
       "      <td>album</td>\n",
       "    </tr>\n",
       "    <tr>\n",
       "      <th>3</th>\n",
       "      <td>quot</td>\n",
       "      <td>battery</td>\n",
       "      <td>cd</td>\n",
       "    </tr>\n",
       "    <tr>\n",
       "      <th>4</th>\n",
       "      <td>story</td>\n",
       "      <td>use</td>\n",
       "      <td>good</td>\n",
       "    </tr>\n",
       "    <tr>\n",
       "      <th>5</th>\n",
       "      <td>reading</td>\n",
       "      <td>digital</td>\n",
       "      <td>just</td>\n",
       "    </tr>\n",
       "    <tr>\n",
       "      <th>6</th>\n",
       "      <td>author</td>\n",
       "      <td>canon</td>\n",
       "      <td>great</td>\n",
       "    </tr>\n",
       "    <tr>\n",
       "      <th>7</th>\n",
       "      <td>books</td>\n",
       "      <td>pictures</td>\n",
       "      <td>movie</td>\n",
       "    </tr>\n",
       "    <tr>\n",
       "      <th>8</th>\n",
       "      <td>read</td>\n",
       "      <td>lens</td>\n",
       "      <td>product</td>\n",
       "    </tr>\n",
       "    <tr>\n",
       "      <th>9</th>\n",
       "      <td>book</td>\n",
       "      <td>camera</td>\n",
       "      <td>like</td>\n",
       "    </tr>\n",
       "  </tbody>\n",
       "</table>\n",
       "</div>"
      ],
      "text/plain": [
       "         0         1        2\n",
       "0     good     great     time\n",
       "1     just   quality      use\n",
       "2     like     flash    album\n",
       "3     quot   battery       cd\n",
       "4    story       use     good\n",
       "5  reading   digital     just\n",
       "6   author     canon    great\n",
       "7    books  pictures    movie\n",
       "8     read      lens  product\n",
       "9     book    camera     like"
      ]
     },
     "execution_count": 7,
     "metadata": {},
     "output_type": "execute_result"
    }
   ],
   "source": [
    "# TODO: Enter code here to compute the cluster summaries and print them\n",
    "import numpy as np\n",
    "def cluster_summary(Kmeans_model,n,vect):\n",
    "    centroid = Kmeans_model.cluster_centers_\n",
    "    word = list(vect.vocabulary_.keys())\n",
    "    value = list(vect.vocabulary_.values())\n",
    "    term = np.argsort(centroid, axis=1)[:, -n:]\n",
    "    data = pd.DataFrame([word[value.index(idx)] for idx in term[0,:]])\n",
    "    \n",
    "    for i in range(1,term.shape[0]):\n",
    "        idx_2 = term[i,:]\n",
    "        df_temp = pd.DataFrame({i:[word[value.index(idx)] for idx in idx_2]})\n",
    "        data = pd.concat([data, df_temp],axis=1)\n",
    "    \n",
    "    return data\n",
    "cluster_summary(kmeans_k3,10,vectorizer)"
   ]
  },
  {
   "cell_type": "markdown",
   "metadata": {},
   "source": [
    "Once you have computed the cluster summaries, discuss their quality. Is it clear what the reviews in a given cluster are about? Which clusters are clearest? Which are less clear? Do the cluster summaries contain any unexpected terms? What happens if you re-cluster with, say, $k=6$?"
   ]
  },
  {
   "cell_type": "code",
   "execution_count": 8,
   "metadata": {},
   "outputs": [
    {
     "data": {
      "text/html": [
       "<div>\n",
       "<style scoped>\n",
       "    .dataframe tbody tr th:only-of-type {\n",
       "        vertical-align: middle;\n",
       "    }\n",
       "\n",
       "    .dataframe tbody tr th {\n",
       "        vertical-align: top;\n",
       "    }\n",
       "\n",
       "    .dataframe thead th {\n",
       "        text-align: right;\n",
       "    }\n",
       "</style>\n",
       "<table border=\"1\" class=\"dataframe\">\n",
       "  <thead>\n",
       "    <tr style=\"text-align: right;\">\n",
       "      <th></th>\n",
       "      <th>0</th>\n",
       "      <th>1</th>\n",
       "      <th>2</th>\n",
       "      <th>3</th>\n",
       "      <th>4</th>\n",
       "      <th>5</th>\n",
       "    </tr>\n",
       "  </thead>\n",
       "  <tbody>\n",
       "    <tr>\n",
       "      <th>0</th>\n",
       "      <td>great</td>\n",
       "      <td>does</td>\n",
       "      <td>good</td>\n",
       "      <td>dvd</td>\n",
       "      <td>good</td>\n",
       "      <td>best</td>\n",
       "    </tr>\n",
       "    <tr>\n",
       "      <th>1</th>\n",
       "      <td>quality</td>\n",
       "      <td>support</td>\n",
       "      <td>band</td>\n",
       "      <td>did</td>\n",
       "      <td>did</td>\n",
       "      <td>great</td>\n",
       "    </tr>\n",
       "    <tr>\n",
       "      <th>2</th>\n",
       "      <td>battery</td>\n",
       "      <td>used</td>\n",
       "      <td>great</td>\n",
       "      <td>does</td>\n",
       "      <td>just</td>\n",
       "      <td>song</td>\n",
       "    </tr>\n",
       "    <tr>\n",
       "      <th>3</th>\n",
       "      <td>flash</td>\n",
       "      <td>easy</td>\n",
       "      <td>just</td>\n",
       "      <td>time</td>\n",
       "      <td>like</td>\n",
       "      <td>just</td>\n",
       "    </tr>\n",
       "    <tr>\n",
       "      <th>4</th>\n",
       "      <td>use</td>\n",
       "      <td>computer</td>\n",
       "      <td>like</td>\n",
       "      <td>film</td>\n",
       "      <td>story</td>\n",
       "      <td>like</td>\n",
       "    </tr>\n",
       "    <tr>\n",
       "      <th>5</th>\n",
       "      <td>digital</td>\n",
       "      <td>version</td>\n",
       "      <td>song</td>\n",
       "      <td>good</td>\n",
       "      <td>reading</td>\n",
       "      <td>music</td>\n",
       "    </tr>\n",
       "    <tr>\n",
       "      <th>6</th>\n",
       "      <td>canon</td>\n",
       "      <td>use</td>\n",
       "      <td>songs</td>\n",
       "      <td>just</td>\n",
       "      <td>author</td>\n",
       "      <td>album</td>\n",
       "    </tr>\n",
       "    <tr>\n",
       "      <th>7</th>\n",
       "      <td>pictures</td>\n",
       "      <td>program</td>\n",
       "      <td>music</td>\n",
       "      <td>great</td>\n",
       "      <td>books</td>\n",
       "      <td>cd</td>\n",
       "    </tr>\n",
       "    <tr>\n",
       "      <th>8</th>\n",
       "      <td>lens</td>\n",
       "      <td>software</td>\n",
       "      <td>cd</td>\n",
       "      <td>like</td>\n",
       "      <td>read</td>\n",
       "      <td>book</td>\n",
       "    </tr>\n",
       "    <tr>\n",
       "      <th>9</th>\n",
       "      <td>camera</td>\n",
       "      <td>product</td>\n",
       "      <td>album</td>\n",
       "      <td>movie</td>\n",
       "      <td>book</td>\n",
       "      <td>quot</td>\n",
       "    </tr>\n",
       "  </tbody>\n",
       "</table>\n",
       "</div>"
      ],
      "text/plain": [
       "          0         1      2      3        4      5\n",
       "0     great      does   good    dvd     good   best\n",
       "1   quality   support   band    did      did  great\n",
       "2   battery      used  great   does     just   song\n",
       "3     flash      easy   just   time     like   just\n",
       "4       use  computer   like   film    story   like\n",
       "5   digital   version   song   good  reading  music\n",
       "6     canon       use  songs   just   author  album\n",
       "7  pictures   program  music  great    books     cd\n",
       "8      lens  software     cd   like     read   book\n",
       "9    camera   product  album  movie     book   quot"
      ]
     },
     "execution_count": 8,
     "metadata": {},
     "output_type": "execute_result"
    }
   ],
   "source": [
    "kmeans_k6 = KMeans(n_clusters=6,n_init=7, random_state=202111).fit(reviews)\n",
    "cluster_summary(kmeans_k6,10,vectorizer)"
   ]
  },
  {
   "cell_type": "markdown",
   "metadata": {},
   "source": [
    "*TODO: Insert your analysis of the clusters here*"
   ]
  },
  {
   "cell_type": "markdown",
   "metadata": {},
   "source": []
  },
  {
   "cell_type": "markdown",
   "metadata": {},
   "source": [
    "## Problem 3: Compare clusterings using the Rand index"
   ]
  },
  {
   "cell_type": "markdown",
   "metadata": {},
   "source": [
    "In some scenarios, you may have gold-standard class labels available for at least a subset of your documents. In these cases you can compute the **Rand index** of a clustering, and use this measure to compare the quality of different clusterings.\n",
    "\n",
    "To compute the Rand index, we view a clustering as a binary classifier on (unordered) pairs of documents. The classifier predicts &lsquo;positive&rsquo; if and only if the two documents belong to the same cluster. The (non-normalized) Rand index of the clustering is the accuracy of this classifier relative to a reference in which a document pair belongs to the &lsquo;positive&rsquo; class if and only if the two documents in the pair have the same gold-standard class label.\n",
    "\n",
    "Compare clusterings with $k \\in \\{1,3,5,7\\}$ clusters. As your evaluation data, use the first 500 documents from the original data set along with their gold-standard categories (from the `category` column). What do you observe? How do you interpret your observations?"
   ]
  },
  {
   "cell_type": "code",
   "execution_count": 9,
   "metadata": {},
   "outputs": [],
   "source": [
    "# TODO: Enter code here to compute the Rand indices for the two clusterings"
   ]
  },
  {
   "cell_type": "code",
   "execution_count": 10,
   "metadata": {},
   "outputs": [],
   "source": [
    "def data_process(k,num,data):\n",
    "    kmeans_k = KMeans(n_clusters=k,n_init=7, random_state=202111).fit(data)\n",
    "    data_k = pd.DataFrame({'true':df['category'],\n",
    "                        'pred':kmeans_k.predict(data),\n",
    "                        'index':range(df.shape[0])}).iloc[0:num]\n",
    "    return data_k\n",
    "    pass"
   ]
  },
  {
   "cell_type": "code",
   "execution_count": 11,
   "metadata": {},
   "outputs": [],
   "source": [
    "def rand_index(data):\n",
    "    n = data.shape[0]\n",
    "    tp = 0\n",
    "    for i in range(1,n):\n",
    "        for j in range(i):\n",
    "            a = data.iloc[i]\n",
    "            b = data.iloc[j]\n",
    "            if (a['true']==b['true'] and a['pred']==b['pred']):\n",
    "                tp += 1\n",
    "                pass\n",
    "            pass\n",
    "        pass\n",
    "    return( tp/(n*(n-1)/2) )"
   ]
  },
  {
   "cell_type": "code",
   "execution_count": 12,
   "metadata": {},
   "outputs": [],
   "source": [
    "data_k1 = data_process(1,500,reviews)\n",
    "data_k3 = data_process(3,500,reviews)\n",
    "data_k5 = data_process(5,500,reviews)\n",
    "data_k7 = data_process(7,500,reviews)"
   ]
  },
  {
   "cell_type": "code",
   "execution_count": 13,
   "metadata": {},
   "outputs": [
    {
     "name": "stdout",
     "output_type": "stream",
     "text": [
      "0.16626052104208416\n",
      "0.13486973947895792\n",
      "0.12215631262525051\n",
      "0.09116633266533067\n"
     ]
    }
   ],
   "source": [
    "rand_idx_k1 = rand_index(data_k1)\n",
    "rand_idx_k3 = rand_index(data_k3)\n",
    "rand_idx_k5 = rand_index(data_k5)\n",
    "rand_idx_k7 = rand_index(data_k7)\n",
    "print(rand_idx_k1)\n",
    "print(rand_idx_k3)\n",
    "print(rand_idx_k5)\n",
    "print(rand_idx_k7)"
   ]
  },
  {
   "cell_type": "markdown",
   "metadata": {},
   "source": [
    "*TODO: Insert your discussion of your results here*"
   ]
  },
  {
   "cell_type": "markdown",
   "metadata": {},
   "source": []
  },
  {
   "cell_type": "markdown",
   "metadata": {},
   "source": [
    "## Topic modelling data set"
   ]
  },
  {
   "cell_type": "markdown",
   "metadata": {},
   "source": [
    "The data set for the topic modelling part of this lab is the collection of all [State of the Union](https://en.wikipedia.org/wiki/State_of_the_Union) addresses from the years 1975–2000. These speeches come as a single text file with one sentence per line. The following code cell prints the first 5 lines from the data file:"
   ]
  },
  {
   "cell_type": "code",
   "execution_count": 14,
   "metadata": {},
   "outputs": [
    {
     "name": "stdout",
     "output_type": "stream",
     "text": [
      "mr speaker mr vice president members of the 94th congress and distinguished guests\n",
      "twenty six years ago a freshman congressman a young fellow with lots of idealism who was out to change the world stood before sam rayburn in the well of the house and solemnly swore to the same oath that all of you took yesterday an unforgettable experience and i congratulate you all\n",
      "two days later that same freshman stood at the back of this great chamber over there someplace as president truman all charged up by his single handed election victory reported as the constitution requires on the state of the union\n",
      "when the bipartisan applause stopped president truman said i am happy to report to this 81st congress that the state of the union is good our nation is better able than ever before to meet the needs of the american people and to give them their fair chance in the pursuit of happiness it is foremost among the nations of the world in the search for peace\n",
      "today that freshman member from michigan stands where mr truman stood and i must say to you that the state of the union is not good\n",
      "millions of americans are out of work\n"
     ]
    }
   ],
   "source": [
    "with open('sotu_1975_2000.txt') as source:\n",
    "    for i, line in enumerate(source):\n",
    "        print(line.rstrip())\n",
    "        if i >= 5:\n",
    "            break"
   ]
  },
  {
   "cell_type": "markdown",
   "metadata": {},
   "source": [
    "Take a few minutes to think about what topics you would expect in this data set."
   ]
  },
  {
   "cell_type": "markdown",
   "metadata": {},
   "source": [
    "## Problem 4: Train a topic model"
   ]
  },
  {
   "cell_type": "markdown",
   "metadata": {},
   "source": [
    "Your first task on the topic modelling data is to train an LDA model. For this task you will be using [spaCy](https://spacy.io/) and the [gensim](https://radimrehurek.com/gensim/) topic modelling library.\n",
    "\n",
    "Start by preprocessing the data using spaCy. Given that the data set for this problem is rather small, you do not have to exclude any components from the standard pipeline. Filter out stop words, non-alphabetic tokens, and tokens less than 3 characters in length. Store the documents as a nested list where the first level of nesting corresponds to the sentences and the second level corresponds to the tokens in each sentence."
   ]
  },
  {
   "cell_type": "code",
   "execution_count": 15,
   "metadata": {},
   "outputs": [],
   "source": [
    "# TODO: Replace the following lines with your own code for preprocessing the documents\n",
    "import spacy\n",
    "documents = []"
   ]
  },
  {
   "cell_type": "code",
   "execution_count": 16,
   "metadata": {},
   "outputs": [],
   "source": [
    "with open('sotu_1975_2000.txt') as source:\n",
    "    nlp = spacy.load(\"en_core_web_sm\")\n",
    "    doc = [nlp(data) for data in source.readlines()]\n",
    "    for i in range(len(doc)):\n",
    "        lines = []\n",
    "        for token in doc[i]:\n",
    "            if token.is_stop == False and token.lemma_.isalpha() == True and len(token)>=3:\n",
    "                lines.append(token.lemma_)\n",
    "                pass\n",
    "            pass\n",
    "        documents.append(lines)\n",
    "        pass\n",
    "    pass"
   ]
  },
  {
   "cell_type": "markdown",
   "metadata": {},
   "source": [
    "Test your preprocessing by running the following cell:"
   ]
  },
  {
   "cell_type": "code",
   "execution_count": 17,
   "metadata": {},
   "outputs": [
    {
     "data": {
      "text/plain": [
       "'reduce oil import million barrel day end year million barrel day end'"
      ]
     },
     "execution_count": 17,
     "metadata": {},
     "output_type": "execute_result"
    }
   ],
   "source": [
    "' '.join(documents[42])"
   ]
  },
  {
   "cell_type": "markdown",
   "metadata": {},
   "source": [
    "You should get the following output:"
   ]
  },
  {
   "cell_type": "raw",
   "metadata": {},
   "source": [
    "'reduce oil imports million barrels day end year million barrels day end'"
   ]
  },
  {
   "cell_type": "markdown",
   "metadata": {},
   "source": [
    "Once you have the list of documents, skim the section [Pre-process and vectorize the documents](https://radimrehurek.com/gensim/auto_examples/tutorials/run_lda.html#pre-process-and-vectorize-the-documents) of the gensim documentation to learn how to create the dictionary and the vectorized corpus representation required by gensim. (Note that you cannot use the standard scikit-learn pipeline in this case.) Then, write code to train an [LdaModel](https://radimrehurek.com/gensim/models/ldamodel.html) for $k=10$ topics, and using default values for all other parameters."
   ]
  },
  {
   "cell_type": "code",
   "execution_count": 18,
   "metadata": {},
   "outputs": [],
   "source": [
    "# TODO: Enter code here to train an LDA model and store it in a variable `model`\n",
    "from gensim.models import LdaModel\n",
    "from gensim.corpora import Dictionary\n",
    "\n",
    "dictionary = Dictionary(documents)\n",
    "\n",
    "# Set training parameters.\n",
    "num_topics = 10\n",
    "chunksize = 2000\n",
    "passes = 20\n",
    "iterations = 400\n",
    "eval_every = None\n",
    "\n",
    "corpus = [dictionary.doc2bow(text) for text in documents]\n",
    "\n",
    "model = LdaModel(\n",
    "    corpus=corpus,\n",
    "    id2word=dictionary,\n",
    "    chunksize=chunksize,\n",
    "    alpha='auto',\n",
    "    eta='auto',\n",
    "    iterations=iterations,\n",
    "    num_topics=num_topics,\n",
    "    passes=passes,\n",
    "    eval_every=eval_every\n",
    ")"
   ]
  },
  {
   "cell_type": "markdown",
   "metadata": {},
   "source": [
    "Once you have a trained model, run the following cell to print the topics:"
   ]
  },
  {
   "cell_type": "code",
   "execution_count": 19,
   "metadata": {},
   "outputs": [
    {
     "data": {
      "text/plain": [
       "[(0,\n",
       "  '0.023*\"work\" + 0.023*\"school\" + 0.015*\"people\" + 0.015*\"community\" + 0.014*\"child\" + 0.014*\"year\" + 0.013*\"welfare\" + 0.013*\"help\" + 0.011*\"new\" + 0.010*\"job\"'),\n",
       " (1,\n",
       "  '0.020*\"clean\" + 0.016*\"crime\" + 0.015*\"environment\" + 0.013*\"water\" + 0.012*\"protect\" + 0.011*\"federal\" + 0.010*\"air\" + 0.009*\"law\" + 0.008*\"resource\" + 0.007*\"land\"'),\n",
       " (2,\n",
       "  '0.013*\"gun\" + 0.013*\"world\" + 0.012*\"weapon\" + 0.011*\"peace\" + 0.011*\"nation\" + 0.010*\"year\" + 0.009*\"congress\" + 0.008*\"middle\" + 0.008*\"global\" + 0.007*\"ban\"'),\n",
       " (3,\n",
       "  '0.035*\"budget\" + 0.027*\"year\" + 0.024*\"government\" + 0.024*\"federal\" + 0.022*\"cut\" + 0.020*\"deficit\" + 0.017*\"spending\" + 0.011*\"congress\" + 0.010*\"billion\" + 0.009*\"balance\"'),\n",
       " (4,\n",
       "  '0.045*\"security\" + 0.021*\"social\" + 0.018*\"nuclear\" + 0.015*\"soviet\" + 0.012*\"war\" + 0.011*\"defense\" + 0.011*\"united\" + 0.011*\"continue\" + 0.009*\"force\" + 0.009*\"drug\"'),\n",
       " (5,\n",
       "  '0.028*\"america\" + 0.019*\"people\" + 0.018*\"world\" + 0.016*\"american\" + 0.015*\"nation\" + 0.011*\"great\" + 0.011*\"year\" + 0.010*\"good\" + 0.010*\"time\" + 0.009*\"freedom\"'),\n",
       " (6,\n",
       "  '0.030*\"year\" + 0.013*\"rate\" + 0.011*\"crime\" + 0.011*\"america\" + 0.010*\"percent\" + 0.009*\"world\" + 0.009*\"new\" + 0.009*\"like\" + 0.009*\"million\" + 0.008*\"record\"'),\n",
       " (7,\n",
       "  '0.033*\"child\" + 0.021*\"family\" + 0.020*\"care\" + 0.020*\"health\" + 0.017*\"know\" + 0.017*\"work\" + 0.015*\"parent\" + 0.014*\"let\" + 0.013*\"people\" + 0.013*\"million\"'),\n",
       " (8,\n",
       "  '0.018*\"new\" + 0.014*\"program\" + 0.009*\"energy\" + 0.009*\"congress\" + 0.009*\"year\" + 0.008*\"nation\" + 0.008*\"economic\" + 0.008*\"trade\" + 0.008*\"increase\" + 0.007*\"world\"'),\n",
       " (9,\n",
       "  '0.024*\"tax\" + 0.013*\"year\" + 0.010*\"cut\" + 0.010*\"work\" + 0.010*\"right\" + 0.009*\"propose\" + 0.009*\"new\" + 0.009*\"family\" + 0.009*\"rate\" + 0.008*\"plan\"')]"
      ]
     },
     "execution_count": 19,
     "metadata": {},
     "output_type": "execute_result"
    }
   ],
   "source": [
    "model.print_topics()"
   ]
  },
  {
   "cell_type": "markdown",
   "metadata": {},
   "source": [
    "Inspect the topics. Can you &lsquo;label&rsquo; each topic with a short description of what it is about? Do the topics match your expectations? Summarize your discussion in a short text."
   ]
  },
  {
   "cell_type": "markdown",
   "metadata": {},
   "source": [
    "*TODO: Insert your discussion of the topics here*"
   ]
  },
  {
   "cell_type": "markdown",
   "metadata": {},
   "source": []
  },
  {
   "cell_type": "markdown",
   "metadata": {},
   "source": [
    "## Problem 5: Monitor a topic model for convergence"
   ]
  },
  {
   "cell_type": "markdown",
   "metadata": {},
   "source": [
    "When learning an LDA model, it is important to make sure that the training algorithm has converged to a stable posterior distribution. One way to do so is to plot, after each training epochs (or &lsquo;pass&rsquo;, in gensim parlance) the log likelihood of the training data under the posterior. Your last task in this lab is to create such a plot and, based on this, to suggest an appropriate number of epochs.\n",
    "\n",
    "To collect information about the posterior likelihood after each pass, we need to enable the logging facilities of gensim. Once this is done, gensim will add various diagnostics to a log file `gensim.log`."
   ]
  },
  {
   "cell_type": "code",
   "execution_count": 20,
   "metadata": {},
   "outputs": [],
   "source": [
    "import logging\n",
    "\n",
    "logging.basicConfig(filename='gensim.log', format='%(asctime)s:%(levelname)s:%(message)s', level=logging.INFO)"
   ]
  },
  {
   "cell_type": "markdown",
   "metadata": {},
   "source": [
    "The following function will parse the generated logfile and return the list of log likelihoods."
   ]
  },
  {
   "cell_type": "code",
   "execution_count": 21,
   "metadata": {},
   "outputs": [],
   "source": [
    "import re\n",
    "\n",
    "def parse_logfile():\n",
    "    matcher = re.compile('(-*\\d+\\.\\d+) per-word .* (\\d+\\.\\d+) perplexity')\n",
    "    likelihoods = []\n",
    "    with open('gensim.log') as source:\n",
    "        for line in source:\n",
    "            match = matcher.search(line)\n",
    "            if match:\n",
    "                likelihoods.append(float(match.group(1)))\n",
    "    return likelihoods"
   ]
  },
  {
   "cell_type": "markdown",
   "metadata": {},
   "source": [
    "Your task now is to re-train your LDA model for 50&nbsp;passes, retrieve the list of log likelihoods, and create a plot from this data."
   ]
  },
  {
   "cell_type": "code",
   "execution_count": 22,
   "metadata": {},
   "outputs": [
    {
     "data": {
      "text/plain": [
       "<AxesSubplot:>"
      ]
     },
     "execution_count": 22,
     "metadata": {},
     "output_type": "execute_result"
    },
    {
     "data": {
      "image/png": "[encoded data removed]",
      "text/plain": [
       "<Figure size 432x288 with 1 Axes>"
      ]
     },
     "metadata": {
      "needs_background": "light"
     },
     "output_type": "display_data"
    }
   ],
   "source": [
    "# TODO: Enter code here to generate the convergence plot\n",
    "model = LdaModel(corpus, num_topics=10, id2word=dictionary, passes=50)\n",
    "llh = parse_logfile()\n",
    "pd.Series(llh[:50]).plot()"
   ]
  },
  {
   "cell_type": "markdown",
   "metadata": {},
   "source": [
    "How do you interpret your plot? Based on the plot, what would be a reasonable choice for the number of passes? Retrain your LDA model with that number and re-inspect the topics it finds. Do you consider the new topics to be &lsquo;better&rsquo; than the ones that you got from the 1-pass model in Problem&nbsp;5?"
   ]
  },
  {
   "cell_type": "code",
   "execution_count": 23,
   "metadata": {},
   "outputs": [
    {
     "data": {
      "text/plain": [
       "[(0,\n",
       "  '0.019*\"president\" + 0.013*\"want\" + 0.012*\"americans\" + 0.012*\"congress\" + 0.011*\"member\" + 0.011*\"house\" + 0.010*\"year\" + 0.010*\"work\" + 0.010*\"people\" + 0.009*\"tonight\"'),\n",
       " (1,\n",
       "  '0.016*\"nuclear\" + 0.013*\"nation\" + 0.012*\"soviet\" + 0.011*\"defense\" + 0.011*\"security\" + 0.011*\"world\" + 0.010*\"weapon\" + 0.010*\"year\" + 0.008*\"continue\" + 0.008*\"force\"'),\n",
       " (2,\n",
       "  '0.028*\"work\" + 0.022*\"people\" + 0.020*\"child\" + 0.017*\"family\" + 0.014*\"care\" + 0.013*\"year\" + 0.013*\"health\" + 0.013*\"america\" + 0.012*\"new\" + 0.012*\"help\"'),\n",
       " (3,\n",
       "  '0.026*\"energy\" + 0.013*\"trade\" + 0.012*\"oil\" + 0.012*\"policy\" + 0.012*\"year\" + 0.010*\"new\" + 0.010*\"states\" + 0.010*\"economy\" + 0.010*\"united\" + 0.009*\"foreign\"'),\n",
       " (4,\n",
       "  '0.032*\"america\" + 0.023*\"union\" + 0.021*\"nation\" + 0.019*\"state\" + 0.016*\"history\" + 0.016*\"world\" + 0.015*\"god\" + 0.013*\"century\" + 0.012*\"american\" + 0.012*\"great\"'),\n",
       " (5,\n",
       "  '0.023*\"year\" + 0.017*\"program\" + 0.017*\"government\" + 0.015*\"federal\" + 0.015*\"tax\" + 0.014*\"cut\" + 0.013*\"new\" + 0.012*\"budget\" + 0.010*\"increase\" + 0.010*\"billion\"'),\n",
       " (6,\n",
       "  '0.015*\"school\" + 0.014*\"congress\" + 0.013*\"child\" + 0.011*\"crime\" + 0.010*\"education\" + 0.009*\"right\" + 0.008*\"new\" + 0.008*\"support\" + 0.008*\"state\" + 0.007*\"law\"'),\n",
       " (7,\n",
       "  '0.017*\"environment\" + 0.015*\"clean\" + 0.012*\"water\" + 0.011*\"protect\" + 0.010*\"waste\" + 0.010*\"problem\" + 0.008*\"people\" + 0.007*\"live\" + 0.007*\"challenge\" + 0.007*\"air\"'),\n",
       " (8,\n",
       "  '0.031*\"world\" + 0.022*\"peace\" + 0.021*\"america\" + 0.012*\"force\" + 0.012*\"nation\" + 0.012*\"strong\" + 0.011*\"freedom\" + 0.009*\"people\" + 0.009*\"time\" + 0.009*\"american\"'),\n",
       " (9,\n",
       "  '0.028*\"year\" + 0.017*\"let\" + 0.015*\"people\" + 0.014*\"america\" + 0.012*\"congress\" + 0.010*\"country\" + 0.009*\"world\" + 0.009*\"know\" + 0.009*\"american\" + 0.008*\"government\"')]"
      ]
     },
     "execution_count": 23,
     "metadata": {},
     "output_type": "execute_result"
    }
   ],
   "source": [
    "model.print_topics()"
   ]
  },
  {
   "cell_type": "markdown",
   "metadata": {},
   "source": [
    "*TODO: Insert your discussion of these questions here*"
   ]
  },
  {
   "cell_type": "markdown",
   "metadata": {},
   "source": []
  },
  {
   "cell_type": "markdown",
   "metadata": {},
   "source": [
    "<div class=\"alert alert-info\">\n",
    "    Please read the section ‘General information’ on the ‘Labs’ page of the course website before submitting this notebook!\n",
    "</div>"
   ]
  }
 ],
 "metadata": {
  "kernelspec": {
   "display_name": "Python 3",
   "language": "python",
   "name": "python3"
  },
  "language_info": {
   "codemirror_mode": {
    "name": "ipython",
    "version": 3
   },
   "file_extension": ".py",
   "mimetype": "text/x-python",
   "name": "python",
   "nbconvert_exporter": "python",
   "pygments_lexer": "ipython3",
   "version": "3.7.10"
  }
 },
 "nbformat": 4,
 "nbformat_minor": 4
}
