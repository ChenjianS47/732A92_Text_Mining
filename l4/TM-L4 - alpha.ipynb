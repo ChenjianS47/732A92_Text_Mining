{
 "cells": [
  {
   "cell_type": "markdown",
   "metadata": {},
   "source": [
    "# L4: Word embeddings"
   ]
  },
  {
   "cell_type": "markdown",
   "metadata": {},
   "source": [
    "In this lab you will explore word embeddings. A **word embedding** is a mapping of words to points in a vector space such that nearby words (points) are similar in terms of their distributional properties. You will use word embedding to find similar words, and evaluate their usefulness in an inference task.\n",
    "\n",
    "You will use the word vectors that come with [spaCy](http://spacy.io). Note that you will need the &lsquo;large&rsquo; English language model; the &lsquo;small&rsquo; model that you used in previous labs does not include proper word vectors."
   ]
  },
  {
   "cell_type": "markdown",
   "metadata": {},
   "source": [
    "**Reminder about our [Rules for hand-in assignments](https://www.ida.liu.se/~TDDE16/exam.en.shtml#handins) and the [Policy on cheating and plagiarism](https://www.ida.liu.se/~TDDE16/exam.en.shtml#cheating)**"
   ]
  },
  {
   "cell_type": "code",
   "execution_count": 1,
   "metadata": {},
   "outputs": [],
   "source": [
    "import spacy\n",
    "\n",
    "nlp = spacy.load('en_core_web_lg')"
   ]
  },
  {
   "cell_type": "markdown",
   "metadata": {},
   "source": [
    "Every word in the model&rsquo;s vocabulary comes with a 300-dimensional vector, represented as a NumPy array. The following code cell shows how to access the vector for the word *cheese*:"
   ]
  },
  {
   "cell_type": "code",
   "execution_count": 2,
   "metadata": {},
   "outputs": [
    {
     "data": {
      "text/plain": [
       "array([-5.5252e-01,  1.8894e-01,  6.8737e-01, -1.9789e-01,  7.0575e-02,\n",
       "        1.0075e+00,  5.1789e-02, -1.5603e-01,  3.1941e-01,  1.1702e+00,\n",
       "       -4.7248e-01,  4.2867e-01, -4.2025e-01,  2.4803e-01,  6.8194e-01,\n",
       "       -6.7488e-01,  9.2401e-02,  1.3089e+00, -3.6278e-02,  2.0098e-01,\n",
       "        7.6005e-01, -6.6718e-02, -7.7794e-02,  2.3844e-01, -2.4351e-01,\n",
       "       -5.4164e-01, -3.3540e-01,  2.9805e-01,  3.5269e-01, -8.0594e-01,\n",
       "       -4.3611e-01,  6.1535e-01,  3.4212e-01, -3.3603e-01,  3.3282e-01,\n",
       "        3.8065e-01,  5.7427e-02,  9.9918e-02,  1.2525e-01,  1.1039e+00,\n",
       "        3.6678e-02,  3.0490e-01, -1.4942e-01,  3.2912e-01,  2.3300e-01,\n",
       "        4.3395e-01,  1.5666e-01,  2.2778e-01, -2.5830e-02,  2.4334e-01,\n",
       "       -5.8136e-02, -1.3486e-01,  2.4521e-01, -3.3459e-01,  4.2839e-01,\n",
       "       -4.8181e-01,  1.3403e-01,  2.6049e-01,  8.9933e-02, -9.3770e-02,\n",
       "        3.7672e-01, -2.9558e-02,  4.3841e-01,  6.1212e-01, -2.5720e-01,\n",
       "       -7.8506e-01,  2.3880e-01,  1.3399e-01, -7.9315e-02,  7.0582e-01,\n",
       "        3.9968e-01,  6.7779e-01, -2.0474e-03,  1.9785e-02, -4.2059e-01,\n",
       "       -5.3858e-01, -5.2155e-02,  1.7252e-01,  2.7547e-01, -4.4482e-01,\n",
       "        2.3595e-01, -2.3445e-01,  3.0103e-01, -5.5096e-01, -3.1159e-02,\n",
       "       -3.4433e-01,  1.2386e+00,  1.0317e+00, -2.2728e-01, -9.5207e-03,\n",
       "       -2.5432e-01, -2.9792e-01,  2.5934e-01, -1.0421e-01, -3.3876e-01,\n",
       "        4.2470e-01,  5.8335e-04,  1.3093e-01,  2.8786e-01,  2.3474e-01,\n",
       "        2.5905e-02, -6.4359e-01,  6.1330e-02,  6.3842e-01,  1.4705e-01,\n",
       "       -6.1594e-01,  2.5097e-01, -4.4872e-01,  8.6825e-01,  9.9555e-02,\n",
       "       -4.4734e-02, -7.4239e-01, -5.9147e-01, -5.4929e-01,  3.8108e-01,\n",
       "        5.5177e-02, -1.0487e-01, -1.2838e-01,  6.0521e-03,  2.8743e-01,\n",
       "        2.1592e-01,  7.2871e-02, -3.1644e-01, -4.3321e-01,  1.8682e-01,\n",
       "        6.7274e-02,  2.8115e-01, -4.6222e-02, -9.6803e-02,  5.6091e-01,\n",
       "       -6.7762e-01, -1.6645e-01,  1.5553e-01,  5.2301e-01, -3.0058e-01,\n",
       "       -3.7291e-01,  8.7895e-02, -1.7963e-01, -4.4193e-01, -4.4607e-01,\n",
       "       -2.4122e+00,  3.3738e-01,  6.2416e-01,  4.2787e-01, -2.5386e-01,\n",
       "       -6.1683e-01, -7.0097e-01,  4.9303e-01,  3.6916e-01, -9.7499e-02,\n",
       "        6.1411e-01, -4.7572e-03,  4.3916e-01, -2.1551e-01, -5.6745e-01,\n",
       "       -4.0278e-01,  2.9459e-01, -3.0850e-01,  1.0103e-01,  7.9741e-02,\n",
       "       -6.3811e-01,  2.4781e-01, -4.4546e-01,  1.0828e-01, -2.3624e-01,\n",
       "       -5.0838e-01, -1.7001e-01, -7.8735e-01,  3.4073e-01, -3.1830e-01,\n",
       "        4.5286e-01, -9.5118e-02,  2.0772e-01, -8.0183e-02, -3.7982e-01,\n",
       "       -4.9949e-01,  4.0759e-02, -3.7724e-01, -8.9705e-02, -6.8187e-01,\n",
       "        2.2106e-01, -3.9931e-01,  3.2329e-01, -3.6180e-01, -7.2093e-01,\n",
       "       -6.3404e-01,  4.3125e-01, -4.9743e-01, -1.7395e-01, -3.8779e-01,\n",
       "       -3.2556e-01,  1.4423e-01, -8.3401e-02, -2.2994e-01,  2.7793e-01,\n",
       "        4.9112e-01,  6.4511e-01, -7.8945e-02,  1.1171e-01,  3.7264e-01,\n",
       "        1.3070e-01, -6.1607e-02, -4.3501e-01,  2.8999e-02,  5.6224e-01,\n",
       "        5.8012e-02,  4.7078e-02,  4.2770e-01,  7.3245e-01, -2.1150e-02,\n",
       "        1.1988e-01,  7.8823e-02, -1.9106e-01,  3.5278e-02, -3.1102e-01,\n",
       "        1.3209e-01, -2.8606e-01, -1.5649e-01, -6.4339e-01,  4.4599e-01,\n",
       "       -3.0912e-01,  4.4520e-01, -3.6774e-01,  2.7327e-01,  6.7833e-01,\n",
       "       -8.3830e-02, -4.5120e-01,  1.0754e-01, -4.5908e-01,  1.5095e-01,\n",
       "       -4.5856e-01,  3.4465e-01,  7.8013e-02, -2.8319e-01, -2.8149e-02,\n",
       "        2.4404e-01, -7.1345e-01,  5.2834e-02, -2.8085e-01,  2.5344e-02,\n",
       "        4.2979e-02,  1.5663e-01, -7.4647e-01, -1.1301e+00,  4.4135e-01,\n",
       "        3.1444e-01, -1.0018e-01, -5.3526e-01, -9.0601e-01, -6.4954e-01,\n",
       "        4.2664e-02, -7.9927e-02,  3.2905e-01, -3.0797e-01, -1.9190e-02,\n",
       "        4.2765e-01,  3.1460e-01,  2.9051e-01, -2.7386e-01,  6.8483e-01,\n",
       "        1.9395e-02, -3.2884e-01, -4.8239e-01, -1.5747e-01, -1.6036e-01,\n",
       "        4.9164e-01, -7.0352e-01, -3.5591e-01, -7.4887e-01, -5.2827e-01,\n",
       "        4.4983e-02,  5.9247e-02,  4.6224e-01,  8.9697e-02, -7.5618e-01,\n",
       "        6.3682e-01,  9.0680e-02,  6.8830e-02,  1.8296e-01,  1.0754e-01,\n",
       "        6.7811e-01, -1.4716e-01,  1.7029e-01, -5.2630e-01,  1.9268e-01,\n",
       "        9.3130e-01,  8.0363e-01,  6.1324e-01, -3.0494e-01,  2.0236e-01,\n",
       "        5.8520e-01,  2.6484e-01, -4.5863e-01,  2.1035e-03, -5.6990e-01,\n",
       "       -4.9092e-01,  4.2511e-01, -1.0954e+00,  1.7124e-01,  2.2495e-01],\n",
       "      dtype=float32)"
      ]
     },
     "execution_count": 2,
     "metadata": {},
     "output_type": "execute_result"
    }
   ],
   "source": [
    "nlp.vocab['cheese'].vector"
   ]
  },
  {
   "cell_type": "markdown",
   "metadata": {},
   "source": [
    "## Problem 1: Finding similar words"
   ]
  },
  {
   "cell_type": "markdown",
   "metadata": {},
   "source": [
    "Your first task is to use the word embeddings to find similar words. More specifically, we ask you to write a function `most_similar` that takes a vector $x$ and returns a list with the 10 most similar entries in spaCy&rsquo;s vocabulary, with similarity being defined by cosine.\n",
    "\n",
    "**Tip:** spaCy already has a [`most_similar`](https://spacy.io/api/vectors#most_similar) method that you can wrap."
   ]
  },
  {
   "cell_type": "code",
   "execution_count": 3,
   "metadata": {},
   "outputs": [],
   "source": [
    "# TODO: Enter your implementation of `most_similar` here\n",
    "import numpy as np"
   ]
  },
  {
   "cell_type": "code",
   "execution_count": 4,
   "metadata": {},
   "outputs": [],
   "source": [
    "def most_similar(x,n=10):\n",
    "    n_sim = nlp.vocab.vectors.most_similar(np.array([x]), n=n)\n",
    "    res = [nlp.vocab[i] for i in n_sim[0][0]]\n",
    "    return res"
   ]
  },
  {
   "cell_type": "markdown",
   "metadata": {},
   "source": [
    "Test your implementation by running the following code cell, which will print the 10 most similar words for the word *cheese*:"
   ]
  },
  {
   "cell_type": "code",
   "execution_count": 5,
   "metadata": {},
   "outputs": [
    {
     "name": "stdout",
     "output_type": "stream",
     "text": [
      "CHEESE cheese Cheese Cheddar cheddar CHEDDAR BACON Bacon bacon cheeses\n"
     ]
    }
   ],
   "source": [
    "print(' '.join(w.text for w in most_similar(nlp.vocab['cheese'].vector)))"
   ]
  },
  {
   "cell_type": "markdown",
   "metadata": {},
   "source": [
    "You should get the following output:"
   ]
  },
  {
   "cell_type": "raw",
   "metadata": {},
   "source": [
    "CHEESE cheese Cheese Cheddar cheddar CHEDDAR BACON Bacon bacon cheeses"
   ]
  },
  {
   "cell_type": "markdown",
   "metadata": {},
   "source": [
    "Once you have a working implementation of `most_similar`, use it to think about in what sense the returned words really are &lsquo;similar&rsquo; to the cue word. Try to find examples where the cue word and at least one of the words returned by `most_similar` are in the following semantic relations:\n",
    "\n",
    "1. synonymy (exchangeable meanings)\n",
    "2. antonymy (opposite meanings)\n",
    "3. hyperonymy/hyponymy (more specific/less specific meanings)\n",
    "\n",
    "Document your examples in the code cell below."
   ]
  },
  {
   "cell_type": "code",
   "execution_count": 6,
   "metadata": {},
   "outputs": [],
   "source": [
    "# TODO: Insert code here to generate your examples"
   ]
  },
  {
   "cell_type": "code",
   "execution_count": 7,
   "metadata": {},
   "outputs": [
    {
     "name": "stdout",
     "output_type": "stream",
     "text": [
      "CHINA CHina China china CHINESE chinese CHinese Chinese taiwan TAIWAN\n"
     ]
    }
   ],
   "source": [
    "print(' '.join(w.text for w in most_similar(nlp.vocab['china'].vector)))"
   ]
  },
  {
   "cell_type": "code",
   "execution_count": 8,
   "metadata": {},
   "outputs": [
    {
     "name": "stdout",
     "output_type": "stream",
     "text": [
      "male MALE Male FEMALE female Female Males males MALES FEMALES\n"
     ]
    }
   ],
   "source": [
    "print(' '.join(w.text for w in most_similar(nlp.vocab['male'].vector)))"
   ]
  },
  {
   "cell_type": "code",
   "execution_count": 9,
   "metadata": {},
   "outputs": [
    {
     "name": "stdout",
     "output_type": "stream",
     "text": [
      "Beijing beijing BEIJING shanghai SHANGHAI Shanghai Guangzhou GUANGZHOU guangzhou Hong\n"
     ]
    }
   ],
   "source": [
    "print(' '.join(w.text for w in most_similar(nlp.vocab['beijing'].vector)))"
   ]
  },
  {
   "cell_type": "markdown",
   "metadata": {},
   "source": [
    "## Problem 2: Plotting similar words"
   ]
  },
  {
   "cell_type": "markdown",
   "metadata": {},
   "source": [
    "Your next task is to visualize the word embedding space by a plot. To do so, you will have to reduce the dimensionality of the space from 300 to 2&nbsp;dimensions. One suitable algorithm for this is [T-distributed Stochastic Neighbor Embedding](https://en.wikipedia.org/wiki/T-distributed_stochastic_neighbor_embedding) (TSNE), which is implemented in scikit-learn&rsquo;s [TSNE](https://scikit-learn.org/stable/modules/generated/sklearn.manifold.TSNE.html) class.\n",
    "\n",
    "Write a function `plot_most_similar` that takes a list of words (lexemes) and does the following:\n",
    "\n",
    "1. For each word in the list, find the most similar words (lexemes) in the spaCy vocabulary.\n",
    "2. Compute the TSNE transformation of the corresponding vectors to 2&nbsp;dimensions.\n",
    "3. Produce a scatter plot of the transformed vectors, with the vectors as points and the corresponding word forms as labels."
   ]
  },
  {
   "cell_type": "code",
   "execution_count": 10,
   "metadata": {},
   "outputs": [],
   "source": [
    "# TODO: Write code here to plot the most similar words"
   ]
  },
  {
   "cell_type": "code",
   "execution_count": 11,
   "metadata": {},
   "outputs": [],
   "source": [
    "import matplotlib.pyplot as plt\n",
    "from sklearn.manifold import TSNE"
   ]
  },
  {
   "cell_type": "code",
   "execution_count": 12,
   "metadata": {},
   "outputs": [],
   "source": [
    "def plot_most_similar(input_info):\n",
    "    input_info=list(input_info)\n",
    "\n",
    "    lexemes = np.append(input_info, [most_similar(w.vector) for w in input_info])# find most similar lexemes\n",
    "    word_emb = [lex.vector for lex in lexemes]\n",
    "    word_emb_reduced = TSNE(n_components=2).fit_transform(word_emb)\n",
    "\n",
    "\n",
    "    plt.figure(figsize=(20,10))\n",
    "    x_coords = word_emb_reduced[:,0]\n",
    "    y_coords = word_emb_reduced[:,1]\n",
    "    word_labels = [lex.text for lex in lexemes]\n",
    "\n",
    "    plt.scatter(x_coords,y_coords)\n",
    "    for label, x, y in zip(word_labels, x_coords, y_coords):\n",
    "        plt.annotate(label, xy=(x, y), xytext=(0, 0), textcoords='offset points')\n",
    "    plt.xlim(x_coords.min()+0.00005, x_coords.max()+0.00005)\n",
    "    plt.ylim(y_coords.min()+0.00005, y_coords.max()+0.00005)"
   ]
  },
  {
   "cell_type": "markdown",
   "metadata": {},
   "source": [
    "Test your code by running the following cell:"
   ]
  },
  {
   "cell_type": "code",
   "execution_count": 13,
   "metadata": {},
   "outputs": [
    {
     "data": {
      "image/png": "[encoded data removed]",
      "text/plain": [
       "<Figure size 1440x720 with 1 Axes>"
      ]
     },
     "metadata": {
      "needs_background": "light"
     },
     "output_type": "display_data"
    }
   ],
   "source": [
    "plot_most_similar(nlp.vocab[w] for w in ['cheese', 'goat', 'sweden', 'university', 'computer'])"
   ]
  },
  {
   "cell_type": "markdown",
   "metadata": {},
   "source": [
    "Take a few minutes to look at your plot. What does it tell you? What does it *not* tell you?"
   ]
  },
  {
   "cell_type": "markdown",
   "metadata": {},
   "source": [
    "According to the plot, we could find that the words are clustered into different clusters. It tells us that the word in each cluster have some smilarity, but it does not tell us the meaning of cluster, for example, cheddar and cheese are clustered into one cluster, but we do not know that they are clustered by food or cheese or something else, because there is also a bacon in the cluster."
   ]
  },
  {
   "cell_type": "markdown",
   "metadata": {},
   "source": [
    "## Problem 3: Analogies"
   ]
  },
  {
   "cell_type": "markdown",
   "metadata": {},
   "source": [
    "In a **word analogy task** you are given three words $x$, $y$, $z$ and have to predict a word $w$ that has the same semantic relation to $z$ as $y$ has to $x$. One example is *man*, *woman*, *brother*, the expected answer being *sister* (the semantic relation is *male*/*female*).\n",
    "\n",
    "[Mikolov et al. (2013)](http://www.aclweb.org/anthology/N13-1090) have shown that some types of word analogy tasks can be solved by adding and substracting word vectors in a word embedding: the vector for *sister* is the closest vector (in terms of cosine distance) to the vector *brother* $-$ *man* $+$ *woman*. Your next task is to write a function `fourth` that takes in three words (say *brother*, *man*, *woman*) and predicts the word that completes the analogy (in this case, *sister*)."
   ]
  },
  {
   "cell_type": "code",
   "execution_count": 14,
   "metadata": {},
   "outputs": [],
   "source": [
    "# TODO: Enter code here to solve the analogy problem"
   ]
  },
  {
   "cell_type": "code",
   "execution_count": 15,
   "metadata": {},
   "outputs": [],
   "source": [
    "def fourth(x, y, z):\n",
    "    w = x.vector - y.vector + z.vector\n",
    "    return(most_similar(w)[0])"
   ]
  },
  {
   "cell_type": "markdown",
   "metadata": {},
   "source": [
    "Test your code by running the following code. You should get *sister*."
   ]
  },
  {
   "cell_type": "code",
   "execution_count": 16,
   "metadata": {},
   "outputs": [
    {
     "data": {
      "text/plain": [
       "'SISTER'"
      ]
     },
     "execution_count": 16,
     "metadata": {},
     "output_type": "execute_result"
    }
   ],
   "source": [
    "fourth(nlp.vocab['brother'], nlp.vocab['man'], nlp.vocab['woman']).text"
   ]
  },
  {
   "cell_type": "markdown",
   "metadata": {},
   "source": [
    "You should also be able to get the following:\n",
    "\n",
    "* *Stockholm* $-$ *Sweden* $+$ *Germany* $=$ *Berlin*\n",
    "* *Swedish* $-$ *Sweden* $+$ *France* $=$ *French*\n",
    "* *better* $-$ *good* $+$ *bad* $=$ *worse*\n",
    "* *walked* $-$ *walk* $+$ *take* $=$ *took*\n",
    "\n",
    "Experiment with other examples to see whether you get the expected output. Provide three examples of analogies for which the model produces the &lsquo;correct&rsquo; answer, and three examples on which the model &lsquo;failed&rsquo;. Based on your theoretical understanding of word embeddings, do you have a hypothesis as to why the model succeeds/fails in completing the analogy? Discuss this question in a short text."
   ]
  },
  {
   "cell_type": "markdown",
   "metadata": {},
   "source": [
    "*TODO: Insert your examples and your discussion here*"
   ]
  },
  {
   "cell_type": "code",
   "execution_count": 17,
   "metadata": {},
   "outputs": [],
   "source": [
    "# Three 'correct' answer"
   ]
  },
  {
   "cell_type": "code",
   "execution_count": 18,
   "metadata": {},
   "outputs": [
    {
     "data": {
      "text/plain": [
       "'gothenburg'"
      ]
     },
     "execution_count": 18,
     "metadata": {},
     "output_type": "execute_result"
    }
   ],
   "source": [
    "fourth(nlp.vocab[\"Guangzhou\"], nlp.vocab[\"China\"], nlp.vocab[\"Sweden\"]).text"
   ]
  },
  {
   "cell_type": "code",
   "execution_count": 19,
   "metadata": {},
   "outputs": [
    {
     "data": {
      "text/plain": [
       "'LivE'"
      ]
     },
     "execution_count": 19,
     "metadata": {},
     "output_type": "execute_result"
    }
   ],
   "source": [
    "fourth(nlp.vocab[\"dead\"], nlp.vocab[\"death\"], nlp.vocab[\"live\"]).text"
   ]
  },
  {
   "cell_type": "code",
   "execution_count": 20,
   "metadata": {},
   "outputs": [
    {
     "data": {
      "text/plain": [
       "'Better'"
      ]
     },
     "execution_count": 20,
     "metadata": {},
     "output_type": "execute_result"
    }
   ],
   "source": [
    "fourth(nlp.vocab[\"higher\"], nlp.vocab[\"high\"], nlp.vocab[\"good\"]).text"
   ]
  },
  {
   "cell_type": "code",
   "execution_count": 21,
   "metadata": {},
   "outputs": [],
   "source": [
    "# Three 'wrong' answer"
   ]
  },
  {
   "cell_type": "code",
   "execution_count": 22,
   "metadata": {},
   "outputs": [
    {
     "data": {
      "text/plain": [
       "'taipei'"
      ]
     },
     "execution_count": 22,
     "metadata": {},
     "output_type": "execute_result"
    }
   ],
   "source": [
    "fourth(nlp.vocab[\"Taipei\"], nlp.vocab[\"China\"], nlp.vocab[\"Sweden\"]).text"
   ]
  },
  {
   "cell_type": "code",
   "execution_count": 23,
   "metadata": {},
   "outputs": [
    {
     "data": {
      "text/plain": [
       "'china'"
      ]
     },
     "execution_count": 23,
     "metadata": {},
     "output_type": "execute_result"
    }
   ],
   "source": [
    "fourth(nlp.vocab[\"Moscow\"], nlp.vocab[\"Russia\"], nlp.vocab[\"China\"]).text"
   ]
  },
  {
   "cell_type": "code",
   "execution_count": 24,
   "metadata": {},
   "outputs": [
    {
     "data": {
      "text/plain": [
       "'gothenburg'"
      ]
     },
     "execution_count": 24,
     "metadata": {},
     "output_type": "execute_result"
    }
   ],
   "source": [
    "fourth(nlp.vocab[\"Guangdong\"], nlp.vocab[\"China\"], nlp.vocab[\"Sweden\"]).text"
   ]
  },
  {
   "cell_type": "markdown",
   "metadata": {},
   "source": [
    "We could find that the reason as to why the model succeeds/fails in completing the analogy is that the vocablary of the dataset does contains the relative data, for example, guangdong should close to Östergötlands län."
   ]
  },
  {
   "cell_type": "markdown",
   "metadata": {},
   "source": [
    "## Natural language inference dataset"
   ]
  },
  {
   "cell_type": "markdown",
   "metadata": {},
   "source": [
    "In the second part of this lab, you will be evaluating the usefulness of word embeddings in the context of a natural language inference task. The data for this part is the [SNLI corpus](https://nlp.stanford.edu/projects/snli/), a collection of 570k human-written English image caption pairs manually labeled with the labels *Entailment*, *Contradiction*, and *Neutral*. Consider the following sentence pair as an example:\n",
    "\n",
    "* Sentence 1: A soccer game with multiple males playing.\n",
    "* Sentence 2: Some men are playing a sport.\n",
    "\n",
    "This pair is labeled with *Entailment*, because sentence&nbsp;2 is logically entailed (implied) by sentence&nbsp;1 – if sentence&nbsp;1 is true, then sentence&nbsp;2 is true, too. The following sentence pair, on the other hand, is labeled with *Contradiction*, because both sentences cannot be true at the same time.\n",
    "\n",
    "* Sentence 1: A black race car starts up in front of a crowd of people.\n",
    "* Sentence 2: A man is driving down a lonely road.\n",
    "\n",
    "For detailed information about the corpus, refer to [Bowman et al. (2015)](https://www.aclweb.org/anthology/D15-1075/). For this lab, we load the training portion and the development portion of the dataset.\n",
    "\n",
    "**Note:** Because the SNLI corpus is rather big, we initially only load a small portion (25,000 samples) of the training data. Once you have working code for Problems&nbsp;4–6, you should set the flag `final` to `True` and re-run all cells with the full dataset."
   ]
  },
  {
   "cell_type": "code",
   "execution_count": 25,
   "metadata": {},
   "outputs": [
    {
     "name": "stdout",
     "output_type": "stream",
     "text": [
      "Number of sentence pairs in the training data: 25000\n",
      "Number of sentence pairs in the development data: 9842\n"
     ]
    }
   ],
   "source": [
    "import bz2\n",
    "import pandas as pd\n",
    "\n",
    "final_evaluation = False    # TODO: Set to True for the final evaluation!\n",
    "\n",
    "with bz2.open('train.jsonl.bz2', 'rt') as source:\n",
    "    if final_evaluation:\n",
    "        df_train = pd.read_json(source, lines=True)\n",
    "    else:\n",
    "        df_train = pd.read_json(source, lines=True, nrows=25000)\n",
    "    print('Number of sentence pairs in the training data:', len(df_train))\n",
    "\n",
    "with bz2.open('dev.jsonl.bz2', 'rt') as source:\n",
    "    df_dev = pd.read_json(source, lines=True)\n",
    "    print('Number of sentence pairs in the development data:', len(df_dev))"
   ]
  },
  {
   "cell_type": "markdown",
   "metadata": {},
   "source": [
    "When you inspect the data frames, you will see that we have preprocessed the sentences and separated tokens by spaces. In the columns `tagged1` and `tagged2`, we have added the part-of-speech tags for every token (as predicted by spaCy), also separated by spaces."
   ]
  },
  {
   "cell_type": "code",
   "execution_count": 26,
   "metadata": {},
   "outputs": [
    {
     "data": {
      "text/html": [
       "<div>\n",
       "<style scoped>\n",
       "    .dataframe tbody tr th:only-of-type {\n",
       "        vertical-align: middle;\n",
       "    }\n",
       "\n",
       "    .dataframe tbody tr th {\n",
       "        vertical-align: top;\n",
       "    }\n",
       "\n",
       "    .dataframe thead th {\n",
       "        text-align: right;\n",
       "    }\n",
       "</style>\n",
       "<table border=\"1\" class=\"dataframe\">\n",
       "  <thead>\n",
       "    <tr style=\"text-align: right;\">\n",
       "      <th></th>\n",
       "      <th>gold_label</th>\n",
       "      <th>sentence1</th>\n",
       "      <th>tags1</th>\n",
       "      <th>sentence2</th>\n",
       "      <th>tags2</th>\n",
       "    </tr>\n",
       "  </thead>\n",
       "  <tbody>\n",
       "    <tr>\n",
       "      <th>0</th>\n",
       "      <td>neutral</td>\n",
       "      <td>A person on a horse jumps over a broken down a...</td>\n",
       "      <td>DET NOUN ADP DET NOUN VERB ADP DET ADJ ADP NOU...</td>\n",
       "      <td>A person is training his horse for a competiti...</td>\n",
       "      <td>DET NOUN AUX VERB PRON NOUN ADP DET NOUN PUNCT</td>\n",
       "    </tr>\n",
       "    <tr>\n",
       "      <th>1</th>\n",
       "      <td>contradiction</td>\n",
       "      <td>A person on a horse jumps over a broken down a...</td>\n",
       "      <td>DET NOUN ADP DET NOUN VERB ADP DET ADJ ADP NOU...</td>\n",
       "      <td>A person is at a diner , ordering an omelette .</td>\n",
       "      <td>DET NOUN AUX ADP DET NOUN PUNCT VERB DET NOUN ...</td>\n",
       "    </tr>\n",
       "    <tr>\n",
       "      <th>2</th>\n",
       "      <td>entailment</td>\n",
       "      <td>A person on a horse jumps over a broken down a...</td>\n",
       "      <td>DET NOUN ADP DET NOUN VERB ADP DET ADJ ADP NOU...</td>\n",
       "      <td>A person is outdoors , on a horse .</td>\n",
       "      <td>DET NOUN AUX ADV PUNCT ADP DET NOUN PUNCT</td>\n",
       "    </tr>\n",
       "    <tr>\n",
       "      <th>3</th>\n",
       "      <td>neutral</td>\n",
       "      <td>Children smiling and waving at camera</td>\n",
       "      <td>NOUN VERB CCONJ VERB ADP NOUN</td>\n",
       "      <td>They are smiling at their parents</td>\n",
       "      <td>PRON AUX VERB ADP PRON NOUN</td>\n",
       "    </tr>\n",
       "    <tr>\n",
       "      <th>4</th>\n",
       "      <td>entailment</td>\n",
       "      <td>Children smiling and waving at camera</td>\n",
       "      <td>NOUN VERB CCONJ VERB ADP NOUN</td>\n",
       "      <td>There are children present</td>\n",
       "      <td>PRON AUX NOUN ADJ</td>\n",
       "    </tr>\n",
       "  </tbody>\n",
       "</table>\n",
       "</div>"
      ],
      "text/plain": [
       "      gold_label                                          sentence1  \\\n",
       "0        neutral  A person on a horse jumps over a broken down a...   \n",
       "1  contradiction  A person on a horse jumps over a broken down a...   \n",
       "2     entailment  A person on a horse jumps over a broken down a...   \n",
       "3        neutral              Children smiling and waving at camera   \n",
       "4     entailment              Children smiling and waving at camera   \n",
       "\n",
       "                                               tags1  \\\n",
       "0  DET NOUN ADP DET NOUN VERB ADP DET ADJ ADP NOU...   \n",
       "1  DET NOUN ADP DET NOUN VERB ADP DET ADJ ADP NOU...   \n",
       "2  DET NOUN ADP DET NOUN VERB ADP DET ADJ ADP NOU...   \n",
       "3                      NOUN VERB CCONJ VERB ADP NOUN   \n",
       "4                      NOUN VERB CCONJ VERB ADP NOUN   \n",
       "\n",
       "                                           sentence2  \\\n",
       "0  A person is training his horse for a competiti...   \n",
       "1    A person is at a diner , ordering an omelette .   \n",
       "2                A person is outdoors , on a horse .   \n",
       "3                  They are smiling at their parents   \n",
       "4                         There are children present   \n",
       "\n",
       "                                               tags2  \n",
       "0     DET NOUN AUX VERB PRON NOUN ADP DET NOUN PUNCT  \n",
       "1  DET NOUN AUX ADP DET NOUN PUNCT VERB DET NOUN ...  \n",
       "2          DET NOUN AUX ADV PUNCT ADP DET NOUN PUNCT  \n",
       "3                        PRON AUX VERB ADP PRON NOUN  \n",
       "4                                  PRON AUX NOUN ADJ  "
      ]
     },
     "execution_count": 26,
     "metadata": {},
     "output_type": "execute_result"
    }
   ],
   "source": [
    "df_train.head()"
   ]
  },
  {
   "cell_type": "markdown",
   "metadata": {},
   "source": [
    "## Problem 4: Two simple baselines"
   ]
  },
  {
   "cell_type": "markdown",
   "metadata": {},
   "source": [
    "Your first task is to establish two simple baselines for the natural language inference task."
   ]
  },
  {
   "cell_type": "markdown",
   "metadata": {},
   "source": [
    "### Random baseline\n",
    "\n",
    "Implement the standard random baseline that generates prediction by sampling from the empirical distribution of the classes in the training data. Write code to evaluate the performance of this classifier on the development data."
   ]
  },
  {
   "cell_type": "code",
   "execution_count": 27,
   "metadata": {},
   "outputs": [],
   "source": [
    "# TODO: Enter code here to implement the random baseline. Print the classification report."
   ]
  },
  {
   "cell_type": "code",
   "execution_count": 28,
   "metadata": {},
   "outputs": [],
   "source": [
    "from sklearn.dummy import DummyClassifier\n",
    "from sklearn.metrics import classification_report"
   ]
  },
  {
   "cell_type": "code",
   "execution_count": 29,
   "metadata": {},
   "outputs": [
    {
     "name": "stdout",
     "output_type": "stream",
     "text": [
      "['neutral' 'contradiction' 'entailment']\n"
     ]
    }
   ],
   "source": [
    "dm_clf = DummyClassifier(strategy=\"stratified\")\n",
    "# get target labels\n",
    "gold_labels = pd.unique(df_train.gold_label)\n",
    "print(gold_labels)"
   ]
  },
  {
   "cell_type": "code",
   "execution_count": 30,
   "metadata": {},
   "outputs": [
    {
     "name": "stdout",
     "output_type": "stream",
     "text": [
      "               precision    recall  f1-score   support\n",
      "\n",
      "      neutral       0.35      0.35      0.35      3278\n",
      "contradiction       0.35      0.35      0.35      3329\n",
      "   entailment       0.33      0.33      0.33      3235\n",
      "\n",
      "     accuracy                           0.34      9842\n",
      "    macro avg       0.34      0.34      0.34      9842\n",
      " weighted avg       0.34      0.34      0.34      9842\n",
      "\n"
     ]
    }
   ],
   "source": [
    "# train and evaluate \n",
    "dm_clf.fit(df_train.iloc[:,1:], df_train[\"gold_label\"])\n",
    "# predict\n",
    "preds_4a = dm_clf.predict(df_dev.iloc[:,1:])\n",
    "# evaluation\n",
    "print(classification_report(df_dev.gold_label, preds_4a, target_names=gold_labels))\n",
    "score_4a = dm_clf.score(df_dev.iloc[:,1:], df_dev.gold_label)"
   ]
  },
  {
   "cell_type": "markdown",
   "metadata": {},
   "source": [
    "### One-sided baseline\n",
    "\n",
    "A second obvious baseline for the inference task is to predict the class label of a sentence pair based on the text of only one of the two sentences, just as in a standard document classification task. Put together a simple [CountVectorizer](https://scikit-learn.org/stable/modules/generated/sklearn.feature_extraction.text.CountVectorizer.html) + [LogisticRegression](https://scikit-learn.org/stable/modules/generated/sklearn.linear_model.LogisticRegression.html) pipeline that implements this idea, train it, and evaluate it on the development data. Is it better to base predictions on sentence&nbsp;1 or sentence&nbsp;2? Why should one sentence be more useful than the other?"
   ]
  },
  {
   "cell_type": "code",
   "execution_count": 31,
   "metadata": {},
   "outputs": [],
   "source": [
    "# TODO: Enter code here to implement the one-sentence baselines. Print the classification reports."
   ]
  },
  {
   "cell_type": "code",
   "execution_count": 32,
   "metadata": {},
   "outputs": [],
   "source": [
    "from sklearn.feature_extraction.text import CountVectorizer\n",
    "from sklearn.linear_model import LogisticRegression\n",
    "from sklearn.pipeline import Pipeline"
   ]
  },
  {
   "cell_type": "code",
   "execution_count": 33,
   "metadata": {},
   "outputs": [
    {
     "name": "stdout",
     "output_type": "stream",
     "text": [
      "sentence1----------------------------------------------------------------\n",
      "               precision    recall  f1-score   support\n",
      "\n",
      "      neutral       0.33      0.25      0.28      3278\n",
      "contradiction       0.33      0.34      0.34      3329\n",
      "   entailment       0.33      0.40      0.36      3235\n",
      "\n",
      "     accuracy                           0.33      9842\n",
      "    macro avg       0.33      0.33      0.33      9842\n",
      " weighted avg       0.33      0.33      0.33      9842\n",
      "\n",
      "sentence2---------------------------------------------------------------\n",
      "               precision    recall  f1-score   support\n",
      "\n",
      "      neutral       0.60      0.60      0.60      3278\n",
      "contradiction       0.59      0.65      0.62      3329\n",
      "   entailment       0.62      0.56      0.59      3235\n",
      "\n",
      "     accuracy                           0.60      9842\n",
      "    macro avg       0.60      0.60      0.60      9842\n",
      " weighted avg       0.60      0.60      0.60      9842\n",
      "\n"
     ]
    }
   ],
   "source": [
    "pipe = Pipeline([(\"countVectorizer\", CountVectorizer()), \n",
    "          (\"LG\", LogisticRegression(random_state=202111,\n",
    "                                            multi_class=\"multinomial\",\n",
    "                                            solver=\"lbfgs\",\n",
    "                                            max_iter=1600))])\n",
    "print(\"sentence1----------------------------------------------------------------\")\n",
    "pipe.fit(df_train.sentence1, df_train.gold_label)\n",
    "preds_4b1 = pipe.predict(df_dev.sentence1)\n",
    "print(classification_report(df_dev.gold_label, preds_4b1, target_names=gold_labels))\n",
    "score_4b1 = pipe.score(df_dev.sentence1, df_dev.gold_label)\n",
    "print(\"sentence2---------------------------------------------------------------\")\n",
    "pipe.fit(df_train.sentence2, df_train.gold_label)\n",
    "preds_4b2 = pipe.predict(df_dev.sentence2)\n",
    "print(classification_report(df_dev.gold_label, preds_4b2, target_names=gold_labels))\n",
    "score_4b2 = pipe.score(df_dev.sentence2, df_dev.gold_label)"
   ]
  },
  {
   "cell_type": "markdown",
   "metadata": {},
   "source": [
    "*TODO: Enter your answer to the discussion questions here*"
   ]
  },
  {
   "cell_type": "code",
   "execution_count": 34,
   "metadata": {},
   "outputs": [
    {
     "data": {
      "text/plain": [
       "0    A person on a horse jumps over a broken down a...\n",
       "1    A person on a horse jumps over a broken down a...\n",
       "2    A person on a horse jumps over a broken down a...\n",
       "3                Children smiling and waving at camera\n",
       "4                Children smiling and waving at camera\n",
       "5                Children smiling and waving at camera\n",
       "6    A boy is jumping on skateboard in the middle o...\n",
       "7    A boy is jumping on skateboard in the middle o...\n",
       "8    A boy is jumping on skateboard in the middle o...\n",
       "9    An older man sits with his orange juice at a s...\n",
       "Name: sentence1, dtype: object"
      ]
     },
     "execution_count": 34,
     "metadata": {},
     "output_type": "execute_result"
    }
   ],
   "source": [
    "df_train['sentence1'].head(10)"
   ]
  },
  {
   "cell_type": "code",
   "execution_count": 35,
   "metadata": {},
   "outputs": [
    {
     "data": {
      "text/plain": [
       "0    A person is training his horse for a competiti...\n",
       "1      A person is at a diner , ordering an omelette .\n",
       "2                  A person is outdoors , on a horse .\n",
       "3                    They are smiling at their parents\n",
       "4                           There are children present\n",
       "5                                The kids are frowning\n",
       "6                   The boy skates down the sidewalk .\n",
       "7                 The boy does a skateboarding trick .\n",
       "8                The boy is wearing safety equipment .\n",
       "9    An older man drinks his juice as he waits for ...\n",
       "Name: sentence2, dtype: object"
      ]
     },
     "execution_count": 35,
     "metadata": {},
     "output_type": "execute_result"
    }
   ],
   "source": [
    "df_train['sentence2'].head(10)"
   ]
  },
  {
   "cell_type": "markdown",
   "metadata": {},
   "source": [
    "The base predictions on sentence 2 is better than sentence 1. According to the data above, we could find that sentence2 contains more information, which means the quality of dataset is better than the sentence1."
   ]
  },
  {
   "cell_type": "markdown",
   "metadata": {},
   "source": [
    "## Problem 5: A classifier based on manually engineered features"
   ]
  },
  {
   "cell_type": "markdown",
   "metadata": {},
   "source": [
    "[Bowman et al. (2015)](https://www.aclweb.org/anthology/D15-1075/) evaluate a classifier that uses (among others) **cross-unigram features**. This term is used to refer to pairs of unigrams $(w_1, w_2)$ such that $w_1$ occurs in sentence&nbsp;1, $w_2$ occurs in sentence&nbsp;2, and both have been assigned the same part-of-speech tag.\n",
    "\n",
    "Your next task is to implement the cross-unigram classifier. To this end, the next cell contains skeleton code for a transformer that you can use as the first component in a classification pipeline. This transformer converts each row of the SNLI data frame into a space-separated string consisting of\n",
    "\n",
    "* the standard unigrams (of sentence&nbsp;1 or sentence&nbsp;2 – choose whichever performed better in Problem&nbsp;4)\n",
    "* the cross-unigrams, as described above.\n",
    "\n",
    "The space-separated string forms a new &lsquo;document&rsquo; that can be passed to a vectorizer in exactly the same way as a standard sentence in Problem&nbsp;4."
   ]
  },
  {
   "cell_type": "code",
   "execution_count": 36,
   "metadata": {},
   "outputs": [],
   "source": [
    "from sklearn.base import BaseEstimator, TransformerMixin\n",
    "from random import sample,choices\n",
    "import itertools\n",
    "import re "
   ]
  },
  {
   "cell_type": "code",
   "execution_count": 37,
   "metadata": {},
   "outputs": [],
   "source": [
    "from sklearn.base import BaseEstimator, TransformerMixin\n",
    "\n",
    "class CrossUnigramsTransformer(BaseEstimator, TransformerMixin):\n",
    "    def __init__(self):\n",
    "        pass\n",
    "\n",
    "    def fit(self, X, y=None):\n",
    "        return self\n",
    "\n",
    "    # Transform a single row of the dataframe.\n",
    "    def _transform(self, row):\n",
    "        # TODO: Replace the following line with your own code\n",
    "        pattern_r = \"(.+?)\\s\"\n",
    "        s1 = re.findall(pattern_r, row.sentence1)\n",
    "        s2 = re.findall(pattern_r, row.sentence2)\n",
    "        t1 = re.findall(pattern_r, row.tags1)\n",
    "        t2 = re.findall(pattern_r, row.tags2)\n",
    "        pairs_state=[pair[0]==pair[1] for pair in itertools.product(t1, t2)]\n",
    "        word_pairs0 = np.array(list(itertools.product(s1, s2)))\n",
    "        if len(word_pairs0)==len(pairs_state):\n",
    "             word_pairs=word_pairs0[pairs_state]\n",
    "        else:\n",
    "            print(len(pairs_state))\n",
    "            print(len(word_pairs0))\n",
    "            len_index=np.min([len(pairs_state),len(word_pairs0)])\n",
    "            word_pairs=word_pairs0[pairs_state][:len_index][pairs_state[:len_index]]       \n",
    "            \n",
    "        sentences=[row.sentence1,row.sentence2] # sentence2 is better\n",
    "        sentence_forward= sentences[1]#sentences[choices(range(2),weights=[0.5,0.5])[0]]   # randomly choose sentence1 or 2\n",
    "        #sentence_forward\n",
    "        res=\" \".join([sentence_forward, \" \".join([\"_\".join(p) for p in word_pairs])])\n",
    "        return res\n",
    "\n",
    "    def transform(self, X):\n",
    "        return [self._transform(row) for row in X.itertuples()]"
   ]
  },
  {
   "cell_type": "markdown",
   "metadata": {},
   "source": [
    "Once you have an implementation of the transformer, extend the pipeline that you built for Problem&nbsp;4, train it, and evaluate it on the development data."
   ]
  },
  {
   "cell_type": "code",
   "execution_count": 38,
   "metadata": {},
   "outputs": [],
   "source": [
    "# TODO: Enter code here to implement the cross-unigrams classifier. Print the classification report."
   ]
  },
  {
   "cell_type": "code",
   "execution_count": 39,
   "metadata": {},
   "outputs": [
    {
     "name": "stdout",
     "output_type": "stream",
     "text": [
      "----------------------------------------------------------------\n",
      "               precision    recall  f1-score   support\n",
      "\n",
      "      neutral       0.69      0.65      0.67      3278\n",
      "contradiction       0.64      0.71      0.68      3329\n",
      "   entailment       0.63      0.59      0.61      3235\n",
      "\n",
      "     accuracy                           0.65      9842\n",
      "    macro avg       0.65      0.65      0.65      9842\n",
      " weighted avg       0.65      0.65      0.65      9842\n",
      "\n"
     ]
    }
   ],
   "source": [
    "pipe2 = Pipeline([\n",
    "          (\"cutf\", CrossUnigramsTransformer()),  \n",
    "          (\"countVectorizer\", CountVectorizer()), \n",
    "          (\"LG\", LogisticRegression(random_state=202111,\n",
    "                                            multi_class=\"multinomial\",\n",
    "                                            solver=\"lbfgs\",\n",
    "                                            max_iter=1600))])\n",
    "print(\"----------------------------------------------------------------\")\n",
    "pipe2.fit(df_train.iloc[:,1:], df_train.gold_label)\n",
    "preds_5 = pipe2.predict(df_dev.iloc[:,1:])\n",
    "print(classification_report(df_dev.gold_label, preds_5, target_names=gold_labels))\n",
    "score_5 = pipe2.score(df_dev.iloc[:,1:], df_dev.gold_label)"
   ]
  },
  {
   "cell_type": "markdown",
   "metadata": {},
   "source": [
    "## Problem 6: A classifier based on word embeddings"
   ]
  },
  {
   "cell_type": "markdown",
   "metadata": {},
   "source": [
    "Your last task in this lab is to build a classifier for the natural language inference task that uses word embeddings. More specifically, we ask you to implement a vectorizer that represents each sentence as the sum of its word vectors – a representation known as the **continuous bag-of-words**. Thus, given that spaCy&rsquo;s word vectors have 300 dimensions, each sentence will be transformed into a 300-dimensional vector. To represent a sentence pair, the vectorizer should concatenate the vectors for the individual sentences; this yields a 600-dimensional vector. This vector can then be passed to a classifier.\n",
    "\n",
    "The next code cell contains skeleton code for the vectorizer. You will have to implement two methods: one that maps a single sentence to a vector (of length 300), and one that maps a sentence pair to a vector (of length 600)."
   ]
  },
  {
   "cell_type": "code",
   "execution_count": 40,
   "metadata": {},
   "outputs": [],
   "source": [
    "import numpy as np\n",
    "\n",
    "from sklearn.base import BaseEstimator, TransformerMixin\n",
    "\n",
    "class PairedSentenceVectorizer(BaseEstimator, TransformerMixin):\n",
    "    def __init__(self):\n",
    "        pass\n",
    "\n",
    "    def fit(self, X, y=None):\n",
    "        return self\n",
    "\n",
    "    # Vectorize a single sentence.\n",
    "    def _transform1(self, sentence):\n",
    "        # TODO: Replace the following line with your own code\n",
    "        sentence_vec = np.zeros(nlp.vocab.vectors.shape[1])\n",
    "        words = re.findall(\"(.+?)\\s\", sentence)\n",
    "        for w in words:\n",
    "            sentence_vec = np.add(sentence_vec, nlp.vocab[w].vector)\n",
    "        return sentence_vec\n",
    "\n",
    "    # Vectorize a single row of the dataframe.\n",
    "    def _transform2(self, row):\n",
    "        # TODO: Replace the following line with your own code\n",
    "        res = np.append(self._transform1(row.sentence1), \n",
    "                        self._transform1(row.sentence2))\n",
    "        return res\n",
    "\n",
    "    def transform(self, X):\n",
    "        return np.concatenate(\n",
    "            [self._transform2(row).reshape(1, -1) for row in X.itertuples()]\n",
    "        )"
   ]
  },
  {
   "cell_type": "markdown",
   "metadata": {},
   "source": [
    "Once you have a working implementation, build a pipeline consisting of the new vectorizer and a [multi-layer perceptron classifier](https://scikit-learn.org/stable/modules/generated/sklearn.neural_network.MLPClassifier.html). This more powerful (compared to logistic regression) classifier is called for here because we do not specify features by hand (as we did in Problem&nbsp;5), but want to let the model learn a good representation of the data by itself. Use 3&nbsp;hidden layers, each with size 300. It suffices to train the classifier for 8&nbsp;iterations (epochs)."
   ]
  },
  {
   "cell_type": "code",
   "execution_count": 41,
   "metadata": {},
   "outputs": [],
   "source": [
    "# TODO: Enter code here to implement the word embeddings classifier. Print the classification report."
   ]
  },
  {
   "cell_type": "code",
   "execution_count": 42,
   "metadata": {},
   "outputs": [],
   "source": [
    "from sklearn.neural_network import MLPClassifier"
   ]
  },
  {
   "cell_type": "code",
   "execution_count": 43,
   "metadata": {},
   "outputs": [
    {
     "name": "stdout",
     "output_type": "stream",
     "text": [
      "----------------------------------------------------------------\n"
     ]
    },
    {
     "name": "stderr",
     "output_type": "stream",
     "text": [
      "E:\\Anaconda3\\envs\\tf\\lib\\site-packages\\sklearn\\neural_network\\_multilayer_perceptron.py:617: ConvergenceWarning: Stochastic Optimizer: Maximum iterations (8) reached and the optimization hasn't converged yet.\n",
      "  % self.max_iter, ConvergenceWarning)\n"
     ]
    },
    {
     "name": "stdout",
     "output_type": "stream",
     "text": [
      "               precision    recall  f1-score   support\n",
      "\n",
      "      neutral       0.62      0.61      0.61      3278\n",
      "contradiction       0.65      0.62      0.64      3329\n",
      "   entailment       0.59      0.63      0.61      3235\n",
      "\n",
      "     accuracy                           0.62      9842\n",
      "    macro avg       0.62      0.62      0.62      9842\n",
      " weighted avg       0.62      0.62      0.62      9842\n",
      "\n"
     ]
    }
   ],
   "source": [
    "pipe3 = Pipeline([\n",
    "          (\"PSV\", PairedSentenceVectorizer()),  \n",
    "       #   (\"countVectorizer\", CountVectorizer()), \n",
    "         (\"mlpClassifier\", MLPClassifier(hidden_layer_sizes=(300,300,300), \n",
    "                                          max_iter=8, early_stopping=True))       \n",
    "\n",
    "])\n",
    "print(\"----------------------------------------------------------------\")\n",
    "pipe3.fit(df_train.iloc[:,[1,3]], df_train.gold_label)\n",
    "preds_6 = pipe3.predict(df_dev.iloc[:,[1,3]])\n",
    "print(classification_report(df_dev.gold_label, preds_6, target_names=gold_labels))\n",
    "score_6 = pipe3.score(df_dev.iloc[:,1:], df_dev.gold_label)"
   ]
  },
  {
   "cell_type": "markdown",
   "metadata": {},
   "source": [
    "## Problem 7: Final evaluation"
   ]
  },
  {
   "cell_type": "markdown",
   "metadata": {},
   "source": [
    "Once you have working code for all problems, re-run Problems&nbsp;4–6 with the full training data. This will take quite a while (expect approximately 1&nbsp;hour on Colab). **Make sure to not overwrite your previous results.** What are your results on the full data? How do they differ from the results that you obtained for the smaller training data? How do you interpret this? Summarize your findings in a short text."
   ]
  },
  {
   "cell_type": "code",
   "execution_count": 44,
   "metadata": {},
   "outputs": [],
   "source": [
    "# TODO: Enter your code for the full experiments here"
   ]
  },
  {
   "cell_type": "code",
   "execution_count": 45,
   "metadata": {},
   "outputs": [],
   "source": [
    "final_evaluation = True    # TODO: Set to True for the final evaluation!\n",
    "\n",
    "with bz2.open('train.jsonl.bz2', 'rt') as source:\n",
    "    if final_evaluation:\n",
    "        df_train_final = pd.read_json(source, lines=True)"
   ]
  },
  {
   "cell_type": "code",
   "execution_count": 46,
   "metadata": {},
   "outputs": [
    {
     "name": "stdout",
     "output_type": "stream",
     "text": [
      "sentence1----------------------------------------------------------------\n",
      "               precision    recall  f1-score   support\n",
      "\n",
      "      neutral       0.34      0.25      0.29      3278\n",
      "contradiction       0.34      0.40      0.37      3329\n",
      "   entailment       0.33      0.36      0.35      3235\n",
      "\n",
      "     accuracy                           0.34      9842\n",
      "    macro avg       0.34      0.34      0.33      9842\n",
      " weighted avg       0.34      0.34      0.33      9842\n",
      "\n",
      "sentence2---------------------------------------------------------------\n",
      "               precision    recall  f1-score   support\n",
      "\n",
      "      neutral       0.65      0.63      0.64      3278\n",
      "contradiction       0.64      0.72      0.68      3329\n",
      "   entailment       0.67      0.60      0.63      3235\n",
      "\n",
      "     accuracy                           0.65      9842\n",
      "    macro avg       0.65      0.65      0.65      9842\n",
      " weighted avg       0.65      0.65      0.65      9842\n",
      "\n"
     ]
    }
   ],
   "source": [
    "pipe = Pipeline([(\"countVectorizer\", CountVectorizer()), \n",
    "          (\"LG\", LogisticRegression(random_state=202111,\n",
    "                                            multi_class=\"multinomial\",\n",
    "                                            solver=\"lbfgs\",\n",
    "                                            max_iter=1600))])\n",
    "print(\"sentence1----------------------------------------------------------------\")\n",
    "pipe.fit(df_train_final.sentence1, df_train_final.gold_label)\n",
    "preds_7_4b1 = pipe.predict(df_dev.sentence1)\n",
    "print(classification_report(df_dev.gold_label, preds_7_4b1, target_names=gold_labels))\n",
    "score_7_4b1 = pipe.score(df_dev.sentence1, df_dev.gold_label)\n",
    "\n",
    "print(\"sentence2---------------------------------------------------------------\")\n",
    "pipe.fit(df_train_final.sentence2, df_train_final.gold_label)\n",
    "preds_7_4b2 = pipe.predict(df_dev.sentence2)\n",
    "print(classification_report(df_dev.gold_label, preds_7_4b2, target_names=gold_labels))\n",
    "score_7_4b2 = pipe.score(df_dev.sentence2, df_dev.gold_label)"
   ]
  },
  {
   "cell_type": "code",
   "execution_count": 47,
   "metadata": {},
   "outputs": [
    {
     "name": "stdout",
     "output_type": "stream",
     "text": [
      "----------------------------------------------------------------\n"
     ]
    },
    {
     "name": "stderr",
     "output_type": "stream",
     "text": [
      "E:\\Anaconda3\\envs\\tf\\lib\\site-packages\\sklearn\\linear_model\\_logistic.py:765: ConvergenceWarning: lbfgs failed to converge (status=1):\n",
      "STOP: TOTAL NO. of ITERATIONS REACHED LIMIT.\n",
      "\n",
      "Increase the number of iterations (max_iter) or scale the data as shown in:\n",
      "    https://scikit-learn.org/stable/modules/preprocessing.html\n",
      "Please also refer to the documentation for alternative solver options:\n",
      "    https://scikit-learn.org/stable/modules/linear_model.html#logistic-regression\n",
      "  extra_warning_msg=_LOGISTIC_SOLVER_CONVERGENCE_MSG)\n"
     ]
    },
    {
     "name": "stdout",
     "output_type": "stream",
     "text": [
      "               precision    recall  f1-score   support\n",
      "\n",
      "      neutral       0.78      0.75      0.77      3278\n",
      "contradiction       0.74      0.80      0.77      3329\n",
      "   entailment       0.72      0.69      0.71      3235\n",
      "\n",
      "     accuracy                           0.75      9842\n",
      "    macro avg       0.75      0.75      0.75      9842\n",
      " weighted avg       0.75      0.75      0.75      9842\n",
      "\n"
     ]
    }
   ],
   "source": [
    "pipe2 = Pipeline([\n",
    "          (\"cutf\", CrossUnigramsTransformer()),  \n",
    "          (\"countVectorizer\", CountVectorizer()), \n",
    "          (\"LG\", LogisticRegression(random_state=202111,\n",
    "                                            multi_class=\"multinomial\",\n",
    "                                            solver=\"lbfgs\",\n",
    "                                            max_iter=1600))])\n",
    "print(\"----------------------------------------------------------------\")\n",
    "pipe2.fit(df_train_final.iloc[:,1:], df_train_final.gold_label)\n",
    "preds_7_5 = pipe2.predict(df_dev.iloc[:,1:])\n",
    "print(classification_report(df_dev.gold_label, preds_7_5, target_names=gold_labels))\n",
    "score_7_5 = pipe2.score(df_dev.iloc[:,1:], df_dev.gold_label)"
   ]
  },
  {
   "cell_type": "code",
   "execution_count": 48,
   "metadata": {},
   "outputs": [
    {
     "name": "stdout",
     "output_type": "stream",
     "text": [
      "----------------------------------------------------------------\n"
     ]
    },
    {
     "name": "stderr",
     "output_type": "stream",
     "text": [
      "E:\\Anaconda3\\envs\\tf\\lib\\site-packages\\sklearn\\neural_network\\_multilayer_perceptron.py:617: ConvergenceWarning: Stochastic Optimizer: Maximum iterations (8) reached and the optimization hasn't converged yet.\n",
      "  % self.max_iter, ConvergenceWarning)\n"
     ]
    },
    {
     "name": "stdout",
     "output_type": "stream",
     "text": [
      "               precision    recall  f1-score   support\n",
      "\n",
      "      neutral       0.76      0.73      0.75      3278\n",
      "contradiction       0.75      0.78      0.76      3329\n",
      "   entailment       0.70      0.69      0.70      3235\n",
      "\n",
      "     accuracy                           0.74      9842\n",
      "    macro avg       0.74      0.73      0.73      9842\n",
      " weighted avg       0.74      0.74      0.74      9842\n",
      "\n"
     ]
    }
   ],
   "source": [
    "pipe3 = Pipeline([\n",
    "          (\"PSV\", PairedSentenceVectorizer()),  \n",
    "       #   (\"countVectorizer\", CountVectorizer()), \n",
    "         (\"mlpClassifier\", MLPClassifier(hidden_layer_sizes=(300,300,300), \n",
    "                                          max_iter=8, early_stopping=True))       \n",
    "\n",
    "])\n",
    "print(\"----------------------------------------------------------------\")\n",
    "pipe3.fit(df_train_final.iloc[:,[1,3]], df_train_final.gold_label)\n",
    "preds_7_6 = pipe3.predict(df_dev.iloc[:,[1,3]])\n",
    "print(classification_report(df_dev.gold_label, preds_7_6, target_names=gold_labels))\n",
    "score_7_6 = pipe3.score(df_dev.iloc[:,1:], df_dev.gold_label)"
   ]
  },
  {
   "cell_type": "markdown",
   "metadata": {},
   "source": [
    "*TODO: Insert your discussion of the experimental results here*"
   ]
  },
  {
   "cell_type": "code",
   "execution_count": 53,
   "metadata": {},
   "outputs": [
    {
     "data": {
      "image/png": "[encoded data removed]",
      "text/plain": [
       "<Figure size 432x288 with 1 Axes>"
      ]
     },
     "metadata": {
      "needs_background": "light"
     },
     "output_type": "display_data"
    }
   ],
   "source": [
    "score_old = pd.DataFrame(np.array([score_4b1,score_4b2,score_5,score_6]))\n",
    "score_new = pd.DataFrame(np.array([score_7_4b1,score_7_4b2,score_7_5,score_7_6]))\n",
    "plt.plot(score_old,label='Previous results')\n",
    "plt.plot(score_new,label='Current results')\n",
    "plt.legend()\n",
    "plt.show()"
   ]
  },
  {
   "cell_type": "markdown",
   "metadata": {},
   "source": [
    "What are your results on the full data? How do they differ from the results that you obtained for the smaller training data? How do you interpret this?"
   ]
  },
  {
   "cell_type": "markdown",
   "metadata": {},
   "source": [
    "According to the plot above, we could find that the current results have higher accuracy than the previous one. This is because the full data contains more information about the target, which makes the model learn more about the data. In this case, the accuracy would increase."
   ]
  },
  {
   "cell_type": "markdown",
   "metadata": {},
   "source": [
    "## Reflection questions"
   ]
  },
  {
   "cell_type": "markdown",
   "metadata": {},
   "source": [
    "The following reflection questions are questions that you could be asked in the oral exam. Try to answer each of them in the form of a short text and enter it in the cell below. You will get feedback on your answers from your lab assistant."
   ]
  },
  {
   "cell_type": "markdown",
   "metadata": {},
   "source": [
    "**RQ 4.1:** In Problem&nbsp;3, you manipulated word vectors using addition and subtraction, getting intermediate vectors which are still valid embeddings. Consider the difference vector *Stockholm* $-$ *Sweden*. What does that vector intuitively represent? What words do you think it should be most similar to?\n",
    "\n"
   ]
  },
  {
   "cell_type": "markdown",
   "metadata": {},
   "source": [
    "This vector intuitively represent a city to a country, so the words like the name of a city is most similar to it. We have tried some similar example,like Guangzhou - China + Sweden, and we get the Gothenburg."
   ]
  },
  {
   "cell_type": "markdown",
   "metadata": {},
   "source": [
    "**RQ 4.2:** Manually engineering features is a fairly time-consuming task, but as shown in Problem&nbsp;5, can result in systems which are on par with embedding-based systems. Conversely, embedding-based systems avoid manual feature engineering, but often require significantly more computational resources. Looking at your results from Problem&nbsp;7, are embedding-based systems worth the extra resources in the context of this task?\n",
    "\n"
   ]
  },
  {
   "cell_type": "markdown",
   "metadata": {},
   "source": [
    "According to the plot in Problem 7, we could find that the accuracy of the model gets a huge increased compared to the previous one, which increased from 65% to 75%, so it it worth the extra resources in the context of this task."
   ]
  },
  {
   "cell_type": "markdown",
   "metadata": {},
   "source": [
    "**RQ 4.3:** Throughout the lab, you have been using pre-trained word vectors from spaCy. In Problem&nbsp;7, you used them to compute the *input* to a neural network. Another common pattern is to use them to initialize an *embedding layer* in a neural network. (Have a look at [this article](https://machinelearningmastery.com/use-word-embedding-layers-deep-learning-keras/) if you are unfamiliar with that pattern.) Explain the difference between the two usage patterns. What advantages/disadvantages do they have?"
   ]
  },
  {
   "cell_type": "markdown",
   "metadata": {},
   "source": []
  },
  {
   "cell_type": "markdown",
   "metadata": {},
   "source": [
    "*TODO: Enter your answers here*"
   ]
  },
  {
   "cell_type": "markdown",
   "metadata": {},
   "source": [
    "**Congratulations on finishing L4! 👍**"
   ]
  }
 ],
 "metadata": {
  "kernelspec": {
   "display_name": "Python 3",
   "language": "python",
   "name": "python3"
  },
  "language_info": {
   "codemirror_mode": {
    "name": "ipython",
    "version": 3
   },
   "file_extension": ".py",
   "mimetype": "text/x-python",
   "name": "python",
   "nbconvert_exporter": "python",
   "pygments_lexer": "ipython3",
   "version": "3.7.10"
  }
 },
 "nbformat": 4,
 "nbformat_minor": 4
}
