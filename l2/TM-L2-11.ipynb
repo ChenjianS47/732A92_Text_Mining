{
 "cells": [
  {
   "cell_type": "markdown",
   "metadata": {},
   "source": [
    "# L2: Text classification"
   ]
  },
  {
   "cell_type": "markdown",
   "metadata": {},
   "source": [
    "Text classification is the task of sorting text documents into predefined classes. The concrete problem you will be working on in this lab is the classification of texts with respect to their political affiliation. The specific texts you are going to classify are speeches held in the [Riksdag](https://www.riksdagen.se/en/), the Swedish national legislature."
   ]
  },
  {
   "cell_type": "markdown",
   "metadata": {},
   "source": [
    "**Before starting with this lab, here is a quick reminder about our [Rules for hand-in assignments](https://www.ida.liu.se/~TDDE16/exam.en.shtml#handins) and the [Policy on cheating and plagiarism](https://www.ida.liu.se/~TDDE16/exam.en.shtml#cheating).**"
   ]
  },
  {
   "cell_type": "markdown",
   "metadata": {},
   "source": [
    "## Data set"
   ]
  },
  {
   "cell_type": "markdown",
   "metadata": {},
   "source": [
    "The raw data for this lab comes from [The Riksdag’s Open Data](https://data.riksdagen.se/in-english/). We have tokenized the speeches and put them into two compressed [JSON](https://en.wikipedia.org/wiki/JSON) files:\n",
    "\n",
    "* `speeches-201718.json.bz2` (speeches from the 2017/2018 parliamentary session)\n",
    "* `speeches-201819.json.bz2` (ditto, from the 2018/2019 session)\n",
    "\n",
    "We start by loading these files into two separate data frames."
   ]
  },
  {
   "cell_type": "code",
   "execution_count": 1,
   "metadata": {},
   "outputs": [],
   "source": [
    "import pandas as pd\n",
    "import bz2\n",
    "\n",
    "with bz2.open('speeches-201718.json.bz2') as source:\n",
    "    speeches_201718 = pd.read_json(source)\n",
    "\n",
    "with bz2.open('speeches-201819.json.bz2') as source:\n",
    "    speeches_201819 = pd.read_json(source)"
   ]
  },
  {
   "cell_type": "markdown",
   "metadata": {},
   "source": [
    "When you inspect the two data frames, you can see that there are three labelled columns: `id` (the official speech ID), `words` (the space-separated words of the speech), and `party` (the party of the speaker, represented by its customary abbreviation)."
   ]
  },
  {
   "cell_type": "code",
   "execution_count": 2,
   "metadata": {},
   "outputs": [
    {
     "data": {
      "text/html": [
       "<div>\n",
       "<style scoped>\n",
       "    .dataframe tbody tr th:only-of-type {\n",
       "        vertical-align: middle;\n",
       "    }\n",
       "\n",
       "    .dataframe tbody tr th {\n",
       "        vertical-align: top;\n",
       "    }\n",
       "\n",
       "    .dataframe thead th {\n",
       "        text-align: right;\n",
       "    }\n",
       "</style>\n",
       "<table border=\"1\" class=\"dataframe\">\n",
       "  <thead>\n",
       "    <tr style=\"text-align: right;\">\n",
       "      <th></th>\n",
       "      <th>id</th>\n",
       "      <th>words</th>\n",
       "      <th>party</th>\n",
       "    </tr>\n",
       "  </thead>\n",
       "  <tbody>\n",
       "    <tr>\n",
       "      <th>0</th>\n",
       "      <td>H5-002-004</td>\n",
       "      <td>eders majestäter eders kungliga högheter herr ...</td>\n",
       "      <td>S</td>\n",
       "    </tr>\n",
       "    <tr>\n",
       "      <th>1</th>\n",
       "      <td>H5-003-001</td>\n",
       "      <td>aktuell debatt om situationen för ensamkommand...</td>\n",
       "      <td>V</td>\n",
       "    </tr>\n",
       "    <tr>\n",
       "      <th>2</th>\n",
       "      <td>H5-003-002</td>\n",
       "      <td>herr talman och ledamöter jag vill börja med a...</td>\n",
       "      <td>S</td>\n",
       "    </tr>\n",
       "    <tr>\n",
       "      <th>3</th>\n",
       "      <td>H5-003-003</td>\n",
       "      <td>herr talman åhörare den här debatten handlar a...</td>\n",
       "      <td>M</td>\n",
       "    </tr>\n",
       "    <tr>\n",
       "      <th>4</th>\n",
       "      <td>H5-003-004</td>\n",
       "      <td>herr talman ansvar och rättssäkerhet är två or...</td>\n",
       "      <td>SD</td>\n",
       "    </tr>\n",
       "  </tbody>\n",
       "</table>\n",
       "</div>"
      ],
      "text/plain": [
       "           id                                              words party\n",
       "0  H5-002-004  eders majestäter eders kungliga högheter herr ...     S\n",
       "1  H5-003-001  aktuell debatt om situationen för ensamkommand...     V\n",
       "2  H5-003-002  herr talman och ledamöter jag vill börja med a...     S\n",
       "3  H5-003-003  herr talman åhörare den här debatten handlar a...     M\n",
       "4  H5-003-004  herr talman ansvar och rättssäkerhet är två or...    SD"
      ]
     },
     "execution_count": 2,
     "metadata": {},
     "output_type": "execute_result"
    }
   ],
   "source": [
    "speeches_201718.head()"
   ]
  },
  {
   "cell_type": "markdown",
   "metadata": {},
   "source": [
    "Throughout the lab, we will be using the speeches from 2017/2018 as our training data, and the speeches from 2018/2019 as our test data."
   ]
  },
  {
   "cell_type": "code",
   "execution_count": 3,
   "metadata": {},
   "outputs": [],
   "source": [
    "training_data, test_data = speeches_201718, speeches_201819"
   ]
  },
  {
   "cell_type": "markdown",
   "metadata": {},
   "source": [
    "For later reference, we store the sorted list of party abbreviations."
   ]
  },
  {
   "cell_type": "code",
   "execution_count": 4,
   "metadata": {},
   "outputs": [
    {
     "name": "stdout",
     "output_type": "stream",
     "text": [
      "['C', 'KD', 'L', 'M', 'MP', 'S', 'SD', 'V']\n"
     ]
    }
   ],
   "source": [
    "parties = sorted(training_data['party'].unique())    # ascending\n",
    "print(parties)"
   ]
  },
  {
   "cell_type": "code",
   "execution_count": 5,
   "metadata": {},
   "outputs": [],
   "source": [
    "import matplotlib.pyplot as plt\n",
    "import pandas as pd\n",
    "import numpy as np\n",
    "import seaborn as sns"
   ]
  },
  {
   "cell_type": "markdown",
   "metadata": {},
   "source": [
    "## Problem 1: Visualization"
   ]
  },
  {
   "cell_type": "markdown",
   "metadata": {},
   "source": [
    "Your first task is to get to know the data better by producing a simple visualization.\n",
    "\n",
    "If you are not familiar with the Swedish political system and the parties represented in the Riksdag in particular, then we suggest that you have a look at the Wikipedia article about the [2018 Swedish general election](https://en.wikipedia.org/wiki/2018_Swedish_general_election).\n",
    "\n",
    "For the lab, we ask you to compare the two data frames with respect to the distribution of the speeches over the different parties. Write code to generate two bar plots that visualize this information, one for the 2017/2018 speeches and one for the 2018/2019 speeches. Inspect the two plots, and compare them\n",
    "\n",
    "* to each other\n",
    "* to the results of the 2014 and the 2018 general elections\n",
    "\n",
    "Summarize your observations in a short text in the cell below.\n",
    "\n",
    "**Tip:** If you need help with creating bar plots, [Bar Plot using Pandas](https://dfrieds.com/data-visualizations/bar-plot-python-pandas) provides a useful tutorial."
   ]
  },
  {
   "cell_type": "markdown",
   "metadata": {},
   "source": [
    "*TODO: Enter your summary here*"
   ]
  },
  {
   "cell_type": "code",
   "execution_count": 6,
   "metadata": {},
   "outputs": [],
   "source": [
    "x_tr = training_data[\"party\"].unique()\n",
    "y_tr = training_data[\"party\"].value_counts()\n",
    "x_tst = test_data[\"party\"].unique()\n",
    "y_tst = test_data[\"party\"].value_counts()\n",
    "r_tr = np.arange(len(y_tr))\n",
    "r_tst = [x + 0.25 for x in r_tr]"
   ]
  },
  {
   "cell_type": "code",
   "execution_count": 7,
   "metadata": {},
   "outputs": [
    {
     "data": {
      "text/plain": [
       "<matplotlib.legend.Legend at 0x1d610b31f70>"
      ]
     },
     "execution_count": 7,
     "metadata": {},
     "output_type": "execute_result"
    },
    {
     "data": {
      "image/png": "[encoded data removed]",
      "text/plain": [
       "<Figure size 432x288 with 1 Axes>"
      ]
     },
     "metadata": {
      "needs_background": "light"
     },
     "output_type": "display_data"
    }
   ],
   "source": [
    "plt.bar(r_tr, y_tr, label='2017-2018')\n",
    "for index, value in enumerate(y_tr):\n",
    "    plt.text(index-0.25,value,  str(value))\n",
    "plt.bar(r_tst, y_tst, label='2017-2018')\n",
    "for index, value in enumerate(y_tst):\n",
    "    plt.text(index,value-500,  str(value))  # the location offset\n",
    "plt.xlabel('Parties', fontweight='bold')\n",
    "plt.xticks([r+0.25 for r in range(len(y_tr))], x_tr)\n",
    "plt.title(\"Speeches VS Parties\")\n",
    "plt.legend()"
   ]
  },
  {
   "cell_type": "markdown",
   "metadata": {},
   "source": [
    "## Problem 2: Naive Bayes classifier"
   ]
  },
  {
   "cell_type": "markdown",
   "metadata": {},
   "source": [
    "You are now ready to train and evaluate a classifier. More specifically, we ask you to train a [Multinomial Naive Bayes](https://scikit-learn.org/stable/modules/naive_bayes.html#multinomial-naive-bayes) classifier. You will have to\n",
    "\n",
    "1. vectorize the speeches in the training data\n",
    "2. instantiate and fit the Naive Bayes model\n",
    "3. evaluate the model on the test data\n",
    "\n",
    "The scikit-learn library provides a convenience class [Pipeline](https://scikit-learn.org/stable/modules/generated/sklearn.pipeline.Pipeline.html) that allows you to solve the first two tasks with very compact code. For the evaluation you can use the function [`classification_report`](https://scikit-learn.org/stable/modules/generated/sklearn.metrics.classification_report.html), which will report per-class precision, recall and F1, as well as overall accuracy."
   ]
  },
  {
   "cell_type": "code",
   "execution_count": 8,
   "metadata": {},
   "outputs": [],
   "source": [
    "# TODO: Write code here to train and evaluate a Multinomial Naive Bayes classifier"
   ]
  },
  {
   "cell_type": "code",
   "execution_count": 9,
   "metadata": {},
   "outputs": [
    {
     "data": {
      "text/plain": [
       "0.4280792420327304"
      ]
     },
     "execution_count": 9,
     "metadata": {},
     "output_type": "execute_result"
    }
   ],
   "source": [
    "# the raw way  ####    dont have to run\n",
    "from sklearn.feature_extraction.text import TfidfVectorizer, CountVectorizer\n",
    "from sklearn.naive_bayes import MultinomialNB\n",
    "from sklearn.pipeline import Pipeline\n",
    "\n",
    "vectorizer = CountVectorizer()  \n",
    "#vectorizer=TfidfVectorizer() #  poor results\n",
    "\n",
    "#----------------------------------------------------\n",
    "vectorizer.fit(training_data[\"words\"])\n",
    "# data\n",
    "X_train = vectorizer.transform(training_data[\"words\"])\n",
    "y_train = training_data[\"party\"]\n",
    "\n",
    "X_test = vectorizer.transform(test_data[\"words\"])\n",
    "y_test = test_data[\"party\"] \n",
    "nbClassifier = MultinomialNB()\n",
    "nbClassifier.fit(X_train, y_train)\n",
    "stdPreds = nbClassifier.predict(X_test)\n",
    "np.sum(stdPreds == y_test) / len(y_test)"
   ]
  },
  {
   "cell_type": "code",
   "execution_count": 10,
   "metadata": {},
   "outputs": [],
   "source": [
    "from sklearn.feature_extraction.text import TfidfVectorizer, CountVectorizer\n",
    "from sklearn.naive_bayes import MultinomialNB\n",
    "from sklearn.pipeline import Pipeline"
   ]
  },
  {
   "cell_type": "code",
   "execution_count": 11,
   "metadata": {},
   "outputs": [],
   "source": [
    "pipe =Pipeline( [(\"CountVectorizer\", CountVectorizer()), (\"MultinomialNB\", MultinomialNB())])\n",
    "#pipe =Pipeline( [(\"TfidfVectorizer\", TfidfVectorizer()), (\"MultinomialNB\", MultinomialNB())])   ## poor result"
   ]
  },
  {
   "cell_type": "code",
   "execution_count": 12,
   "metadata": {},
   "outputs": [],
   "source": [
    "X_train, y_train = training_data.drop([\"id\",\"party\"], axis=1), training_data[\"party\"]\n",
    "X_test, y_test = test_data.drop([\"party\"], axis=1), test_data[\"party\"]"
   ]
  },
  {
   "cell_type": "code",
   "execution_count": 13,
   "metadata": {},
   "outputs": [
    {
     "data": {
      "text/plain": [
       "Pipeline(steps=[('CountVectorizer', CountVectorizer()),\n",
       "                ('MultinomialNB', MultinomialNB())])"
      ]
     },
     "execution_count": 13,
     "metadata": {},
     "output_type": "execute_result"
    }
   ],
   "source": [
    "pipe.fit(X_train[\"words\"], y_train)"
   ]
  },
  {
   "cell_type": "code",
   "execution_count": 14,
   "metadata": {},
   "outputs": [
    {
     "data": {
      "text/plain": [
       "0.7600259256258608"
      ]
     },
     "execution_count": 14,
     "metadata": {},
     "output_type": "execute_result"
    }
   ],
   "source": [
    "pipe.score(X_train[\"words\"], y_train)"
   ]
  },
  {
   "cell_type": "code",
   "execution_count": 15,
   "metadata": {},
   "outputs": [
    {
     "data": {
      "text/plain": [
       "0.4280792420327304"
      ]
     },
     "execution_count": 15,
     "metadata": {},
     "output_type": "execute_result"
    }
   ],
   "source": [
    "pipe.score(X_test[\"words\"], y_test)"
   ]
  },
  {
   "cell_type": "code",
   "execution_count": 16,
   "metadata": {},
   "outputs": [],
   "source": [
    "pred_tr = pipe.predict(X_train[\"words\"])\n",
    "pred_tst = pipe.predict(X_test[\"words\"])"
   ]
  },
  {
   "cell_type": "code",
   "execution_count": 17,
   "metadata": {},
   "outputs": [],
   "source": [
    "from sklearn.metrics import classification_report"
   ]
  },
  {
   "cell_type": "code",
   "execution_count": 18,
   "metadata": {},
   "outputs": [
    {
     "name": "stdout",
     "output_type": "stream",
     "text": [
      "              precision    recall  f1-score   support\n",
      "\n",
      "           C       0.98      0.45      0.62       865\n",
      "          KD       0.98      0.33      0.49       743\n",
      "           L       1.00      0.36      0.53       719\n",
      "           M       0.62      0.95      0.75      2370\n",
      "          MP       0.89      0.64      0.74      1481\n",
      "           S       0.74      0.96      0.84      4261\n",
      "          SD       0.96      0.59      0.73      1010\n",
      "           V       0.95      0.66      0.78       894\n",
      "\n",
      "    accuracy                           0.76     12343\n",
      "   macro avg       0.89      0.62      0.69     12343\n",
      "weighted avg       0.82      0.76      0.74     12343\n",
      "\n"
     ]
    }
   ],
   "source": [
    "print(classification_report(y_train, pred_tr, target_names=parties))"
   ]
  },
  {
   "cell_type": "code",
   "execution_count": 19,
   "metadata": {},
   "outputs": [
    {
     "name": "stdout",
     "output_type": "stream",
     "text": [
      "              precision    recall  f1-score   support\n",
      "\n",
      "           C       0.63      0.04      0.07       671\n",
      "          KD       0.70      0.02      0.03       821\n",
      "           L       0.92      0.02      0.04       560\n",
      "           M       0.36      0.68      0.47      1644\n",
      "          MP       0.36      0.25      0.29       809\n",
      "           S       0.46      0.84      0.59      2773\n",
      "          SD       0.57      0.12      0.20      1060\n",
      "           V       0.59      0.15      0.24       950\n",
      "\n",
      "    accuracy                           0.43      9288\n",
      "   macro avg       0.57      0.26      0.24      9288\n",
      "weighted avg       0.52      0.43      0.34      9288\n",
      "\n"
     ]
    }
   ],
   "source": [
    "print(classification_report(y_test, pred_tst, target_names=parties))"
   ]
  },
  {
   "attachments": {
    "image.png": {
     "image/png": "[encoded data removed]"
    }
   },
   "cell_type": "markdown",
   "metadata": {},
   "source": [
    "![image.png](attachment:image.png)"
   ]
  },
  {
   "cell_type": "markdown",
   "metadata": {},
   "source": [
    "https://en.wikipedia.org/wiki/Precision_and_recall"
   ]
  },
  {
   "cell_type": "markdown",
   "metadata": {},
   "source": [
    "Would you have expected the results that you got?"
   ]
  },
  {
   "cell_type": "markdown",
   "metadata": {},
   "source": [
    "the overall accuracy is less than a half; and the "
   ]
  },
  {
   "cell_type": "markdown",
   "metadata": {},
   "source": [
    "## Problem 3: Baselines"
   ]
  },
  {
   "cell_type": "markdown",
   "metadata": {},
   "source": [
    "Evaluation metrics such as accuracy should not be understood as absolute measures of performance, but should be used only to compare different classifiers. When other classifiers are not available, a simple baseline is a classifier that generates predictions by random sampling, respecting the training set&rsquo;s class distribution. This baseline is implemented by the class [DummyClassifier](https://scikit-learn.org/stable/modules/generated/sklearn.dummy.DummyClassifier.html). What is the performance of the random baseline on the test data?"
   ]
  },
  {
   "cell_type": "code",
   "execution_count": null,
   "metadata": {},
   "outputs": [],
   "source": [
    "# TODO: Write code here to evaluate the random baseline"
   ]
  },
  {
   "cell_type": "code",
   "execution_count": 20,
   "metadata": {},
   "outputs": [],
   "source": [
    "from sklearn.dummy import DummyClassifier"
   ]
  },
  {
   "cell_type": "code",
   "execution_count": 21,
   "metadata": {},
   "outputs": [
    {
     "data": {
      "text/plain": [
       "0.18130921619293713"
      ]
     },
     "execution_count": 21,
     "metadata": {},
     "output_type": "execute_result"
    }
   ],
   "source": [
    "dummy_clf = DummyClassifier(strategy=\"stratified\",random_state =202111)\n",
    "dummy_clf.fit(X_train[\"words\"], y_train)\n",
    "dummy_clf.predict(X_test[\"words\"])\n",
    "dummy_clf.score(X_test[\"words\"], y_test)"
   ]
  },
  {
   "cell_type": "markdown",
   "metadata": {},
   "source": [
    "An even dumber baseline is to predict, for every document, that class which appears most often in the training data. This baseline is also called the most frequent class baseline. What is the accuracy of that baseline on the test data?"
   ]
  },
  {
   "cell_type": "code",
   "execution_count": 22,
   "metadata": {},
   "outputs": [],
   "source": [
    "# TODO: Write code here to print the accuracy of the most frequent class baseline"
   ]
  },
  {
   "cell_type": "code",
   "execution_count": 23,
   "metadata": {},
   "outputs": [
    {
     "data": {
      "text/plain": [
       "0.298557278208441"
      ]
     },
     "execution_count": 23,
     "metadata": {},
     "output_type": "execute_result"
    }
   ],
   "source": [
    "dummy_clf = DummyClassifier(strategy=\"most_frequent\")\n",
    "dummy_clf.fit(X_train[\"words\"], y_train)\n",
    "dummy_clf.predict(X_test[\"words\"])\n",
    "dummy_clf.score(X_test[\"words\"], y_test)"
   ]
  },
  {
   "cell_type": "markdown",
   "metadata": {},
   "source": [
    "## Problem 4: Creating a balanced data set"
   ]
  },
  {
   "cell_type": "markdown",
   "metadata": {},
   "source": [
    "As you saw in Problem&nbsp;1, the distribution of the speeches over the eight different parties (classes) is imbalanced. One technique used to alleviate this is **undersampling**, in which one randomly removes samples from over-represented classes until all classes are represented with the same number of samples.\n",
    "\n",
    "Implement undersampling to create a balanced subset of the training data. Rerun the evaluation from Problem&nbsp;2 on the balanced data and compare the results. Summarise your results in a short text.\n",
    "\n",
    "**Hint:** Your balanced subset should consist of 5,752 speeches."
   ]
  },
  {
   "cell_type": "code",
   "execution_count": 24,
   "metadata": {},
   "outputs": [],
   "source": [
    "# TODO: Write code here to implement undersampling"
   ]
  },
  {
   "cell_type": "code",
   "execution_count": 30,
   "metadata": {},
   "outputs": [
    {
     "data": {
      "text/plain": [
       "(5752, 3)"
      ]
     },
     "execution_count": 30,
     "metadata": {},
     "output_type": "execute_result"
    }
   ],
   "source": [
    "#from sklearn.utils import class_weight\n",
    "#from random import sample\n",
    "#from random import seed\n",
    "labs = np.unique(y_train)  # labels\n",
    "lower_size=training_data[\"party\"].value_counts()[-1]\n",
    "\n",
    "#seed(202111)\n",
    "balanced_train = pd.DataFrame()\n",
    "for lab in labs:\n",
    "    #party = training_data[training_data[\"party\"]==lab]\n",
    "   # sp_party = sample(party,lower_size)  # default ,replace=False\n",
    "    balanced_train = balanced_train.append(training_data[training_data[\"party\"]==lab].sample(lower_size, replace=False, random_state=202111))\n",
    "    #balanced_train =balanced_train.append(sp_party)\n",
    "\n",
    "balanced_train.shape"
   ]
  },
  {
   "cell_type": "code",
   "execution_count": 31,
   "metadata": {},
   "outputs": [
    {
     "data": {
      "text/plain": [
       "0.400947459086994"
      ]
     },
     "execution_count": 31,
     "metadata": {},
     "output_type": "execute_result"
    }
   ],
   "source": [
    "pipe.fit(balanced_train[\"words\"], balanced_train[\"party\"])\n",
    "pred_p4 = pipe.predict(X_test[\"words\"])\n",
    "pipe.score(X_test[\"words\"], y_test)"
   ]
  },
  {
   "cell_type": "code",
   "execution_count": 32,
   "metadata": {},
   "outputs": [
    {
     "name": "stdout",
     "output_type": "stream",
     "text": [
      "              precision    recall  f1-score   support\n",
      "\n",
      "           C       0.27      0.45      0.34       671\n",
      "          KD       0.29      0.42      0.35       821\n",
      "           L       0.27      0.44      0.33       560\n",
      "           M       0.40      0.49      0.44      1644\n",
      "          MP       0.36      0.33      0.34       809\n",
      "           S       0.78      0.29      0.42      2773\n",
      "          SD       0.45      0.39      0.42      1060\n",
      "           V       0.39      0.57      0.46       950\n",
      "\n",
      "    accuracy                           0.40      9288\n",
      "   macro avg       0.40      0.42      0.39      9288\n",
      "weighted avg       0.49      0.40      0.40      9288\n",
      "\n"
     ]
    }
   ],
   "source": [
    "print(classification_report(y_test, pred_p4, target_names=parties))"
   ]
  },
  {
   "cell_type": "code",
   "execution_count": 33,
   "metadata": {},
   "outputs": [],
   "source": [
    "###　the way about sample weight, it does not work in the case, don't have to run\n",
    "\n",
    "class_weight_calc = class_weight.compute_class_weight(class_weight='balanced',classes=labs, y=y_train)\n",
    "weights_of_class={labs[i]:v for i, v in enumerate(class_weight_calc)}\n",
    "#weights_of_class\n",
    "#https://github.com/scikit-learn/scikit-learn/issues/18159\n",
    "#pipe.fit(X_train[\"words\"], y_train, class_weight=weights_of_class)  #---------------------------------------\n",
    "#pred_p4 = pipe.predict(X_train[\"words\"])\n",
    "#pipe.score(X_test[\"words\"], y_test)"
   ]
  },
  {
   "cell_type": "code",
   "execution_count": null,
   "metadata": {},
   "outputs": [],
   "source": []
  },
  {
   "cell_type": "markdown",
   "metadata": {},
   "source": [
    "*TODO: Enter the summary of your results here*"
   ]
  },
  {
   "cell_type": "markdown",
   "metadata": {},
   "source": [
    "## Problem 5: Confusion matrix"
   ]
  },
  {
   "cell_type": "markdown",
   "metadata": {},
   "source": [
    "A **confusion matrix** is a specific table that is useful when analysing the performance of a classifier. In this table, both the rows and the columns correspond to classes, and each cell $(i, j)$ states how many times a sample with gold-standard class $i$ was predicted as belonging to class $j$.\n",
    "\n",
    "In scitkit-learn, the confusion matrix of a classifier is computed by the function [`confusion_matrix`](https://scikit-learn.org/stable/modules/generated/sklearn.metrics.confusion_matrix.html). If you would rather see a visual representation, you can also use [`plot_confusion_matrix`](https://scikit-learn.org/stable/modules/generated/sklearn.metrics.plot_confusion_matrix.html).\n",
    "\n",
    "Your task is to use the confusion matrix in order to find, for each given party $p$ in the Riksdag, that other party $p'$ which the classifier that you trained in Problem&nbsp;4 most often confuses with $p$ when it predicts the party of a speaker."
   ]
  },
  {
   "cell_type": "code",
   "execution_count": 141,
   "metadata": {},
   "outputs": [],
   "source": [
    "# TODO: Write code here to solve Problem 5"
   ]
  },
  {
   "cell_type": "code",
   "execution_count": 34,
   "metadata": {},
   "outputs": [],
   "source": [
    "from sklearn.metrics import confusion_matrix\n",
    "#from sklearn.metrics import plot_confusion_matrix\n",
    "from sklearn.metrics import ConfusionMatrixDisplay"
   ]
  },
  {
   "cell_type": "code",
   "execution_count": 35,
   "metadata": {},
   "outputs": [
    {
     "data": {
      "text/plain": [
       "<sklearn.metrics._plot.confusion_matrix.ConfusionMatrixDisplay at 0x1d6103dc910>"
      ]
     },
     "execution_count": 35,
     "metadata": {},
     "output_type": "execute_result"
    },
    {
     "data": {
      "image/png": "[encoded data removed]",
      "text/plain": [
       "<Figure size 432x288 with 2 Axes>"
      ]
     },
     "metadata": {
      "needs_background": "light"
     },
     "output_type": "display_data"
    }
   ],
   "source": [
    " ConfusionMatrixDisplay.from_predictions(y_test, pred_p4)"
   ]
  },
  {
   "cell_type": "code",
   "execution_count": 36,
   "metadata": {},
   "outputs": [
    {
     "data": {
      "text/html": [
       "<div>\n",
       "<style scoped>\n",
       "    .dataframe tbody tr th:only-of-type {\n",
       "        vertical-align: middle;\n",
       "    }\n",
       "\n",
       "    .dataframe tbody tr th {\n",
       "        vertical-align: top;\n",
       "    }\n",
       "\n",
       "    .dataframe thead th {\n",
       "        text-align: right;\n",
       "    }\n",
       "</style>\n",
       "<table border=\"1\" class=\"dataframe\">\n",
       "  <thead>\n",
       "    <tr style=\"text-align: right;\">\n",
       "      <th></th>\n",
       "      <th>C</th>\n",
       "      <th>KD</th>\n",
       "      <th>L</th>\n",
       "      <th>M</th>\n",
       "      <th>MP</th>\n",
       "      <th>S</th>\n",
       "      <th>SD</th>\n",
       "      <th>V</th>\n",
       "    </tr>\n",
       "  </thead>\n",
       "  <tbody>\n",
       "    <tr>\n",
       "      <th>C</th>\n",
       "      <td>302</td>\n",
       "      <td>74</td>\n",
       "      <td>43</td>\n",
       "      <td>101</td>\n",
       "      <td>29</td>\n",
       "      <td>20</td>\n",
       "      <td>41</td>\n",
       "      <td>61</td>\n",
       "    </tr>\n",
       "    <tr>\n",
       "      <th>KD</th>\n",
       "      <td>76</td>\n",
       "      <td>343</td>\n",
       "      <td>49</td>\n",
       "      <td>171</td>\n",
       "      <td>26</td>\n",
       "      <td>23</td>\n",
       "      <td>56</td>\n",
       "      <td>77</td>\n",
       "    </tr>\n",
       "    <tr>\n",
       "      <th>L</th>\n",
       "      <td>67</td>\n",
       "      <td>50</td>\n",
       "      <td>244</td>\n",
       "      <td>56</td>\n",
       "      <td>23</td>\n",
       "      <td>12</td>\n",
       "      <td>49</td>\n",
       "      <td>59</td>\n",
       "    </tr>\n",
       "    <tr>\n",
       "      <th>M</th>\n",
       "      <td>183</td>\n",
       "      <td>192</td>\n",
       "      <td>147</td>\n",
       "      <td>812</td>\n",
       "      <td>70</td>\n",
       "      <td>43</td>\n",
       "      <td>96</td>\n",
       "      <td>101</td>\n",
       "    </tr>\n",
       "    <tr>\n",
       "      <th>MP</th>\n",
       "      <td>79</td>\n",
       "      <td>67</td>\n",
       "      <td>66</td>\n",
       "      <td>97</td>\n",
       "      <td>264</td>\n",
       "      <td>97</td>\n",
       "      <td>41</td>\n",
       "      <td>98</td>\n",
       "    </tr>\n",
       "    <tr>\n",
       "      <th>S</th>\n",
       "      <td>230</td>\n",
       "      <td>257</td>\n",
       "      <td>192</td>\n",
       "      <td>497</td>\n",
       "      <td>269</td>\n",
       "      <td>802</td>\n",
       "      <td>173</td>\n",
       "      <td>353</td>\n",
       "    </tr>\n",
       "    <tr>\n",
       "      <th>SD</th>\n",
       "      <td>109</td>\n",
       "      <td>113</td>\n",
       "      <td>107</td>\n",
       "      <td>167</td>\n",
       "      <td>31</td>\n",
       "      <td>19</td>\n",
       "      <td>418</td>\n",
       "      <td>96</td>\n",
       "    </tr>\n",
       "    <tr>\n",
       "      <th>V</th>\n",
       "      <td>70</td>\n",
       "      <td>71</td>\n",
       "      <td>53</td>\n",
       "      <td>114</td>\n",
       "      <td>29</td>\n",
       "      <td>16</td>\n",
       "      <td>58</td>\n",
       "      <td>539</td>\n",
       "    </tr>\n",
       "  </tbody>\n",
       "</table>\n",
       "</div>"
      ],
      "text/plain": [
       "      C   KD    L    M   MP    S   SD    V\n",
       "C   302   74   43  101   29   20   41   61\n",
       "KD   76  343   49  171   26   23   56   77\n",
       "L    67   50  244   56   23   12   49   59\n",
       "M   183  192  147  812   70   43   96  101\n",
       "MP   79   67   66   97  264   97   41   98\n",
       "S   230  257  192  497  269  802  173  353\n",
       "SD  109  113  107  167   31   19  418   96\n",
       "V    70   71   53  114   29   16   58  539"
      ]
     },
     "execution_count": 36,
     "metadata": {},
     "output_type": "execute_result"
    }
   ],
   "source": [
    "cm = pd.DataFrame(confusion_matrix(y_test, pred_p4), index=parties, columns=parties)\n",
    "cm"
   ]
  },
  {
   "cell_type": "code",
   "execution_count": 37,
   "metadata": {},
   "outputs": [
    {
     "data": {
      "text/plain": [
       "array([[302,  74,  43, 101,  29,  20,  41,  61],\n",
       "       [ 76, 343,  49, 171,  26,  23,  56,  77],\n",
       "       [ 67,  50, 244,  56,  23,  12,  49,  59],\n",
       "       [183, 192, 147, 812,  70,  43,  96, 101],\n",
       "       [ 79,  67,  66,  97, 264,  97,  41,  98],\n",
       "       [230, 257, 192, 497, 269, 802, 173, 353],\n",
       "       [109, 113, 107, 167,  31,  19, 418,  96],\n",
       "       [ 70,  71,  53, 114,  29,  16,  58, 539]], dtype=int64)"
      ]
     },
     "execution_count": 37,
     "metadata": {},
     "output_type": "execute_result"
    }
   ],
   "source": [
    "cm1=np.array(cm)\n",
    "cm1"
   ]
  },
  {
   "cell_type": "code",
   "execution_count": 38,
   "metadata": {},
   "outputs": [
    {
     "data": {
      "text/plain": [
       "{'C': 'M',\n",
       " 'KD': 'M',\n",
       " 'L': 'C',\n",
       " 'M': 'KD',\n",
       " 'MP': 'V',\n",
       " 'S': 'M',\n",
       " 'SD': 'M',\n",
       " 'V': 'M'}"
      ]
     },
     "execution_count": 38,
     "metadata": {},
     "output_type": "execute_result"
    }
   ],
   "source": [
    " # the second biggest\n",
    "{cm.columns[i]:cm.columns[cm1[i,].argsort()[-2]] for i in range(8)}"
   ]
  },
  {
   "cell_type": "markdown",
   "metadata": {},
   "source": [
    "Take a minute to reflect on whether your results make sense."
   ]
  },
  {
   "cell_type": "markdown",
   "metadata": {},
   "source": [
    "## Problem 6: Grid search"
   ]
  },
  {
   "cell_type": "markdown",
   "metadata": {},
   "source": [
    "Until now, you have been using the vectorizer and the Naive Bayes classifier with their default hyperparameters. When working with real-world applications, you would want to find settings for the hyperparameters that maximize the performance for the task at hand.\n",
    "\n",
    "Manually tweaking the hyperparameters of the various components of a vectorizer–classifier pipeline can be cumbersome. However, scikit-learn makes it possible to run an exhaustive search for the best hyperparameters over a grid of possible values. This method is known as **grid search**.\n",
    "\n",
    "The hyperparameters of a pipeline should never be tuned on the final test set. Instead, one should either use a separate validation set, or run cross-validation over different folds. Here we will use cross-validation.\n",
    "\n",
    "Implement a grid search with 5-fold cross-validation to find the optimal parameters in a grid defined by the following choices for the hyperparameters:\n",
    "\n",
    "* In the vectorizer, try a set-of-words (binary) model in addition to the default bag-of-words model (two possible parameter values).\n",
    "* Also in the vectorizer, try extracting bigrams in addition to unigrams (two possible parameter values).\n",
    "* In the Naive Bayes classifier, try using additive smoothing with $\\alpha \\in \\{1, 0{.}1\\}$ (two possible parameter values).\n",
    "\n",
    "Use the class [GridSearchCV](https://scikit-learn.org/stable/modules/generated/sklearn.model_selection.GridSearchCV.html) from the scikit-learn library. Print the results of your best model, along with the parameter values that yielded these results."
   ]
  },
  {
   "cell_type": "code",
   "execution_count": null,
   "metadata": {},
   "outputs": [],
   "source": [
    "# TODO: Write code here to implement the grid search"
   ]
  },
  {
   "cell_type": "code",
   "execution_count": 39,
   "metadata": {},
   "outputs": [],
   "source": [
    "# <component>__<parameter> \n",
    "parameters = {  \n",
    "    \"CountVectorizer__ngram_range\": [(1,1), (1,2)],\n",
    "    \"CountVectorizer__binary\": [True, False],\n",
    "    \"MultinomialNB__alpha\": [1,0.1]   \n",
    "}\n"
   ]
  },
  {
   "cell_type": "code",
   "execution_count": 40,
   "metadata": {},
   "outputs": [
    {
     "name": "stdout",
     "output_type": "stream",
     "text": [
      "Fitting 5 folds for each of 8 candidates, totalling 40 fits\n"
     ]
    },
    {
     "data": {
      "text/plain": [
       "GridSearchCV(cv=5,\n",
       "             estimator=Pipeline(steps=[('CountVectorizer', CountVectorizer()),\n",
       "                                       ('MultinomialNB', MultinomialNB())]),\n",
       "             param_grid={'CountVectorizer__binary': [True, False],\n",
       "                         'CountVectorizer__ngram_range': [(1, 1), (1, 2)],\n",
       "                         'MultinomialNB__alpha': [1, 0.1]},\n",
       "             verbose=1)"
      ]
     },
     "execution_count": 40,
     "metadata": {},
     "output_type": "execute_result"
    }
   ],
   "source": [
    "from sklearn.model_selection import GridSearchCV\n",
    "grid = GridSearchCV(pipe, param_grid=parameters, cv=5, verbose=1)\n",
    "grid.fit(training_data[\"words\"], training_data[\"party\"])"
   ]
  },
  {
   "cell_type": "code",
   "execution_count": 41,
   "metadata": {},
   "outputs": [
    {
     "data": {
      "text/html": [
       "<div>\n",
       "<style scoped>\n",
       "    .dataframe tbody tr th:only-of-type {\n",
       "        vertical-align: middle;\n",
       "    }\n",
       "\n",
       "    .dataframe tbody tr th {\n",
       "        vertical-align: top;\n",
       "    }\n",
       "\n",
       "    .dataframe thead th {\n",
       "        text-align: right;\n",
       "    }\n",
       "</style>\n",
       "<table border=\"1\" class=\"dataframe\">\n",
       "  <thead>\n",
       "    <tr style=\"text-align: right;\">\n",
       "      <th></th>\n",
       "      <th>mean_fit_time</th>\n",
       "      <th>std_fit_time</th>\n",
       "      <th>mean_score_time</th>\n",
       "      <th>std_score_time</th>\n",
       "      <th>param_CountVectorizer__binary</th>\n",
       "      <th>param_CountVectorizer__ngram_range</th>\n",
       "      <th>param_MultinomialNB__alpha</th>\n",
       "      <th>params</th>\n",
       "      <th>split0_test_score</th>\n",
       "      <th>split1_test_score</th>\n",
       "      <th>split2_test_score</th>\n",
       "      <th>split3_test_score</th>\n",
       "      <th>split4_test_score</th>\n",
       "      <th>mean_test_score</th>\n",
       "      <th>std_test_score</th>\n",
       "      <th>rank_test_score</th>\n",
       "    </tr>\n",
       "  </thead>\n",
       "  <tbody>\n",
       "    <tr>\n",
       "      <th>0</th>\n",
       "      <td>2.448434</td>\n",
       "      <td>0.043717</td>\n",
       "      <td>0.630616</td>\n",
       "      <td>0.059327</td>\n",
       "      <td>True</td>\n",
       "      <td>(1, 1)</td>\n",
       "      <td>1</td>\n",
       "      <td>{'CountVectorizer__binary': True, 'CountVector...</td>\n",
       "      <td>0.474686</td>\n",
       "      <td>0.468206</td>\n",
       "      <td>0.472256</td>\n",
       "      <td>0.474878</td>\n",
       "      <td>0.455024</td>\n",
       "      <td>0.469010</td>\n",
       "      <td>0.007395</td>\n",
       "      <td>6</td>\n",
       "    </tr>\n",
       "    <tr>\n",
       "      <th>1</th>\n",
       "      <td>2.478003</td>\n",
       "      <td>0.203841</td>\n",
       "      <td>0.616393</td>\n",
       "      <td>0.025670</td>\n",
       "      <td>True</td>\n",
       "      <td>(1, 1)</td>\n",
       "      <td>0.1</td>\n",
       "      <td>{'CountVectorizer__binary': True, 'CountVector...</td>\n",
       "      <td>0.591738</td>\n",
       "      <td>0.622924</td>\n",
       "      <td>0.598623</td>\n",
       "      <td>0.564019</td>\n",
       "      <td>0.546191</td>\n",
       "      <td>0.584699</td>\n",
       "      <td>0.026889</td>\n",
       "      <td>2</td>\n",
       "    </tr>\n",
       "    <tr>\n",
       "      <th>2</th>\n",
       "      <td>7.942792</td>\n",
       "      <td>0.092261</td>\n",
       "      <td>1.975020</td>\n",
       "      <td>0.064077</td>\n",
       "      <td>True</td>\n",
       "      <td>(1, 2)</td>\n",
       "      <td>1</td>\n",
       "      <td>{'CountVectorizer__binary': True, 'CountVector...</td>\n",
       "      <td>0.397327</td>\n",
       "      <td>0.388821</td>\n",
       "      <td>0.396922</td>\n",
       "      <td>0.410454</td>\n",
       "      <td>0.390194</td>\n",
       "      <td>0.396744</td>\n",
       "      <td>0.007668</td>\n",
       "      <td>8</td>\n",
       "    </tr>\n",
       "    <tr>\n",
       "      <th>3</th>\n",
       "      <td>8.005925</td>\n",
       "      <td>0.152659</td>\n",
       "      <td>2.043592</td>\n",
       "      <td>0.165659</td>\n",
       "      <td>True</td>\n",
       "      <td>(1, 2)</td>\n",
       "      <td>0.1</td>\n",
       "      <td>{'CountVectorizer__binary': True, 'CountVector...</td>\n",
       "      <td>0.575132</td>\n",
       "      <td>0.575537</td>\n",
       "      <td>0.587282</td>\n",
       "      <td>0.553890</td>\n",
       "      <td>0.544976</td>\n",
       "      <td>0.567363</td>\n",
       "      <td>0.015535</td>\n",
       "      <td>4</td>\n",
       "    </tr>\n",
       "    <tr>\n",
       "      <th>4</th>\n",
       "      <td>2.814750</td>\n",
       "      <td>0.373771</td>\n",
       "      <td>0.645400</td>\n",
       "      <td>0.061803</td>\n",
       "      <td>False</td>\n",
       "      <td>(1, 1)</td>\n",
       "      <td>1</td>\n",
       "      <td>{'CountVectorizer__binary': False, 'CountVecto...</td>\n",
       "      <td>0.515188</td>\n",
       "      <td>0.509923</td>\n",
       "      <td>0.522074</td>\n",
       "      <td>0.499595</td>\n",
       "      <td>0.485818</td>\n",
       "      <td>0.506520</td>\n",
       "      <td>0.012690</td>\n",
       "      <td>5</td>\n",
       "    </tr>\n",
       "    <tr>\n",
       "      <th>5</th>\n",
       "      <td>2.826261</td>\n",
       "      <td>0.319838</td>\n",
       "      <td>0.636440</td>\n",
       "      <td>0.036498</td>\n",
       "      <td>False</td>\n",
       "      <td>(1, 1)</td>\n",
       "      <td>0.1</td>\n",
       "      <td>{'CountVectorizer__binary': False, 'CountVecto...</td>\n",
       "      <td>0.603483</td>\n",
       "      <td>0.625354</td>\n",
       "      <td>0.592143</td>\n",
       "      <td>0.563614</td>\n",
       "      <td>0.545381</td>\n",
       "      <td>0.585995</td>\n",
       "      <td>0.028437</td>\n",
       "      <td>1</td>\n",
       "    </tr>\n",
       "    <tr>\n",
       "      <th>6</th>\n",
       "      <td>8.243876</td>\n",
       "      <td>0.100717</td>\n",
       "      <td>2.232415</td>\n",
       "      <td>0.204480</td>\n",
       "      <td>False</td>\n",
       "      <td>(1, 2)</td>\n",
       "      <td>1</td>\n",
       "      <td>{'CountVectorizer__binary': False, 'CountVecto...</td>\n",
       "      <td>0.420818</td>\n",
       "      <td>0.404617</td>\n",
       "      <td>0.409072</td>\n",
       "      <td>0.419773</td>\n",
       "      <td>0.402755</td>\n",
       "      <td>0.411407</td>\n",
       "      <td>0.007549</td>\n",
       "      <td>7</td>\n",
       "    </tr>\n",
       "    <tr>\n",
       "      <th>7</th>\n",
       "      <td>8.662325</td>\n",
       "      <td>0.179854</td>\n",
       "      <td>2.079018</td>\n",
       "      <td>0.092824</td>\n",
       "      <td>False</td>\n",
       "      <td>(1, 2)</td>\n",
       "      <td>0.1</td>\n",
       "      <td>{'CountVectorizer__binary': False, 'CountVecto...</td>\n",
       "      <td>0.582827</td>\n",
       "      <td>0.602673</td>\n",
       "      <td>0.596193</td>\n",
       "      <td>0.559968</td>\n",
       "      <td>0.567261</td>\n",
       "      <td>0.581784</td>\n",
       "      <td>0.016321</td>\n",
       "      <td>3</td>\n",
       "    </tr>\n",
       "  </tbody>\n",
       "</table>\n",
       "</div>"
      ],
      "text/plain": [
       "   mean_fit_time  std_fit_time  mean_score_time  std_score_time  \\\n",
       "0       2.448434      0.043717         0.630616        0.059327   \n",
       "1       2.478003      0.203841         0.616393        0.025670   \n",
       "2       7.942792      0.092261         1.975020        0.064077   \n",
       "3       8.005925      0.152659         2.043592        0.165659   \n",
       "4       2.814750      0.373771         0.645400        0.061803   \n",
       "5       2.826261      0.319838         0.636440        0.036498   \n",
       "6       8.243876      0.100717         2.232415        0.204480   \n",
       "7       8.662325      0.179854         2.079018        0.092824   \n",
       "\n",
       "  param_CountVectorizer__binary param_CountVectorizer__ngram_range  \\\n",
       "0                          True                             (1, 1)   \n",
       "1                          True                             (1, 1)   \n",
       "2                          True                             (1, 2)   \n",
       "3                          True                             (1, 2)   \n",
       "4                         False                             (1, 1)   \n",
       "5                         False                             (1, 1)   \n",
       "6                         False                             (1, 2)   \n",
       "7                         False                             (1, 2)   \n",
       "\n",
       "  param_MultinomialNB__alpha  \\\n",
       "0                          1   \n",
       "1                        0.1   \n",
       "2                          1   \n",
       "3                        0.1   \n",
       "4                          1   \n",
       "5                        0.1   \n",
       "6                          1   \n",
       "7                        0.1   \n",
       "\n",
       "                                              params  split0_test_score  \\\n",
       "0  {'CountVectorizer__binary': True, 'CountVector...           0.474686   \n",
       "1  {'CountVectorizer__binary': True, 'CountVector...           0.591738   \n",
       "2  {'CountVectorizer__binary': True, 'CountVector...           0.397327   \n",
       "3  {'CountVectorizer__binary': True, 'CountVector...           0.575132   \n",
       "4  {'CountVectorizer__binary': False, 'CountVecto...           0.515188   \n",
       "5  {'CountVectorizer__binary': False, 'CountVecto...           0.603483   \n",
       "6  {'CountVectorizer__binary': False, 'CountVecto...           0.420818   \n",
       "7  {'CountVectorizer__binary': False, 'CountVecto...           0.582827   \n",
       "\n",
       "   split1_test_score  split2_test_score  split3_test_score  split4_test_score  \\\n",
       "0           0.468206           0.472256           0.474878           0.455024   \n",
       "1           0.622924           0.598623           0.564019           0.546191   \n",
       "2           0.388821           0.396922           0.410454           0.390194   \n",
       "3           0.575537           0.587282           0.553890           0.544976   \n",
       "4           0.509923           0.522074           0.499595           0.485818   \n",
       "5           0.625354           0.592143           0.563614           0.545381   \n",
       "6           0.404617           0.409072           0.419773           0.402755   \n",
       "7           0.602673           0.596193           0.559968           0.567261   \n",
       "\n",
       "   mean_test_score  std_test_score  rank_test_score  \n",
       "0         0.469010        0.007395                6  \n",
       "1         0.584699        0.026889                2  \n",
       "2         0.396744        0.007668                8  \n",
       "3         0.567363        0.015535                4  \n",
       "4         0.506520        0.012690                5  \n",
       "5         0.585995        0.028437                1  \n",
       "6         0.411407        0.007549                7  \n",
       "7         0.581784        0.016321                3  "
      ]
     },
     "execution_count": 41,
     "metadata": {},
     "output_type": "execute_result"
    }
   ],
   "source": [
    "pd.DataFrame(grid.cv_results_)"
   ]
  },
  {
   "cell_type": "code",
   "execution_count": 42,
   "metadata": {},
   "outputs": [
    {
     "data": {
      "text/plain": [
       "{'CountVectorizer__binary': False,\n",
       " 'CountVectorizer__ngram_range': (1, 1),\n",
       " 'MultinomialNB__alpha': 0.1}"
      ]
     },
     "execution_count": 42,
     "metadata": {},
     "output_type": "execute_result"
    }
   ],
   "source": [
    "grid.best_params_"
   ]
  },
  {
   "cell_type": "code",
   "execution_count": 43,
   "metadata": {},
   "outputs": [
    {
     "name": "stdout",
     "output_type": "stream",
     "text": [
      "              precision    recall  f1-score   support\n",
      "\n",
      "           C       0.39      0.27      0.32       671\n",
      "          KD       0.45      0.24      0.31       821\n",
      "           L       0.37      0.26      0.30       560\n",
      "           M       0.44      0.58      0.50      1644\n",
      "          MP       0.32      0.46      0.38       809\n",
      "           S       0.61      0.65      0.63      2773\n",
      "          SD       0.49      0.43      0.45      1060\n",
      "           V       0.50      0.42      0.46       950\n",
      "\n",
      "    accuracy                           0.48      9288\n",
      "   macro avg       0.45      0.41      0.42      9288\n",
      "weighted avg       0.48      0.48      0.48      9288\n",
      "\n"
     ]
    }
   ],
   "source": [
    "pred_p6 = grid.best_estimator_.predict(X_test[\"words\"])\n",
    "print(classification_report(y_test, pred_p6))"
   ]
  },
  {
   "cell_type": "markdown",
   "metadata": {},
   "source": [
    "## Problem 7: Try to improve your results"
   ]
  },
  {
   "cell_type": "markdown",
   "metadata": {},
   "source": [
    "Scikit-learn makes it easy to test different vectorizer–classifier pipelines – among other things, it includes different types of logistic regression classifiers, support vector machines, and decision trees. Browse the library to see which methods are supported.\n",
    "\n",
    "Build a pipeline that you find interesting, and use grid search to find optimal settings for the hyperparameters. Print the results of your best model."
   ]
  },
  {
   "cell_type": "code",
   "execution_count": 44,
   "metadata": {},
   "outputs": [],
   "source": [
    "# TODO: Write code here to search for a better model and print the results"
   ]
  },
  {
   "cell_type": "code",
   "execution_count": 45,
   "metadata": {},
   "outputs": [],
   "source": [
    "# no support on swedish\n",
    "#import spacy\n",
    "#nlp = spacy.load(\"sv_core_web_sm\")\n",
    "#Swedish\tsv\tlang/sv\tnone yet\n",
    "# so get nltk"
   ]
  },
  {
   "cell_type": "code",
   "execution_count": 46,
   "metadata": {},
   "outputs": [],
   "source": [
    "import string \n",
    "import re \n",
    "from nltk.tokenize import word_tokenize \n",
    "from nltk.corpus import stopwords\n",
    "from nltk.stem import SnowballStemmer"
   ]
  },
  {
   "cell_type": "code",
   "execution_count": 47,
   "metadata": {},
   "outputs": [],
   "source": [
    "def preprocess(piece):\n",
    "    \n",
    "    tokens = word_tokenize(piece)\n",
    "    ## convert to lower case\n",
    "    tokens = [w.lower() for w in tokens] \n",
    "    # prepare regex for char filtering \n",
    "    re_punc = re.compile('[%s]' % re.escape(string.punctuation))\n",
    "    # remove punctuation from each word \n",
    "    stripped = [re_punc.sub('', w) for w in tokens] \n",
    "    # remove remaining tokens that are not alphabetic \n",
    "    words = [w for w in stripped if w.isalpha()] \n",
    "    # do the stemization\n",
    "    stemmer = SnowballStemmer(\"swedish\")\n",
    "    words = [stemmer.stem(w) for w in words] \n",
    "    #filter out stop words \n",
    "    stop_words = set(stopwords.words('swedish')) \n",
    "    words = [w for w in words if not w in stop_words] \n",
    "    \n",
    "    return words\n",
    "    "
   ]
  },
  {
   "cell_type": "code",
   "execution_count": 48,
   "metadata": {},
   "outputs": [],
   "source": [
    "###preprocess0(X_train[\"words\"][3])"
   ]
  },
  {
   "cell_type": "code",
   "execution_count": 51,
   "metadata": {},
   "outputs": [],
   "source": [
    "###r0=preprocess(X_train[\"words\"][3])\n",
    "###X_train[\"words\"][0:2]                "
   ]
  },
  {
   "cell_type": "code",
   "execution_count": 52,
   "metadata": {},
   "outputs": [
    {
     "name": "stderr",
     "output_type": "stream",
     "text": [
      "[nltk_data] Downloading package stopwords to\n",
      "[nltk_data]     C:\\Users\\Administrator\\AppData\\Roaming\\nltk_data...\n",
      "[nltk_data]   Package stopwords is already up-to-date!\n",
      "[nltk_data] Downloading package punkt to\n",
      "[nltk_data]     C:\\Users\\Administrator\\AppData\\Roaming\\nltk_data...\n",
      "[nltk_data]   Package punkt is already up-to-date!\n"
     ]
    }
   ],
   "source": [
    "import nltk\n",
    "nltk.download('stopwords')\n",
    "nltk.download('punkt')\n",
    "from nltk.corpus import stopwords \n",
    "from nltk.stem import SnowballStemmer\n",
    "from nltk.tokenize import word_tokenize\n",
    "import string\n",
    "# define stemmer will be used in preprocessing\n",
    "stemmer = SnowballStemmer(\"swedish\")\n",
    "# define punctuation table\n",
    "table = str.maketrans('', '', string.punctuation)\n",
    "# define stopwords\n",
    "stopwords_sw = set(stopwords.words(\"swedish\"))\n",
    "\n",
    "def preprocess1(text):\n",
    "    words = []\n",
    "    for t in word_tokenize(text):\n",
    "        t_ = t.lower().translate(table)\n",
    "        if(not t_ in stopwords_sw and t_.isalpha()):\n",
    "            words.append(stemmer.stem(t_))\n",
    "    return(words)"
   ]
  },
  {
   "cell_type": "code",
   "execution_count": 59,
   "metadata": {},
   "outputs": [
    {
     "name": "stderr",
     "output_type": "stream",
     "text": [
      "[Parallel(n_jobs=1)]: Using backend SequentialBackend with 1 concurrent workers.\n",
      "[Parallel(n_jobs=1)]: Done   6 out of   6 | elapsed:   18.0s finished\n"
     ]
    },
    {
     "data": {
      "text/plain": [
       "array([0.52380952, 0.50607681, 0.52260574, 0.50899368, 0.49829849,\n",
       "       0.48420029])"
      ]
     },
     "execution_count": 59,
     "metadata": {},
     "output_type": "execute_result"
    }
   ],
   "source": [
    "from sklearn.model_selection import cross_val_score\n",
    "CV = 6\n",
    "countVectorizer = CountVectorizer(tokenizer=preprocess)\n",
    "pipe =Pipeline( [(\"CountVectorizer\", countVectorizer), (\"MultinomialNB\", MultinomialNB())])\n",
    "#pipe.fit(X_train[\"words\"], y_train)\n",
    "#pred = pipe.predict(X_test[\"words\"])\n",
    "# classification_report(y_test, pred)\n",
    "cross_val_score(pipe,    training_data[\"words\"], \n",
    "                             training_data[\"party\"], \n",
    "                             scoring=\"accuracy\", cv=CV, \n",
    "                             verbose=1)"
   ]
  },
  {
   "cell_type": "code",
   "execution_count": null,
   "metadata": {},
   "outputs": [],
   "source": []
  },
  {
   "cell_type": "code",
   "execution_count": 73,
   "metadata": {},
   "outputs": [
    {
     "name": "stderr",
     "output_type": "stream",
     "text": [
      "[Parallel(n_jobs=1)]: Using backend SequentialBackend with 1 concurrent workers.\n",
      "[Parallel(n_jobs=1)]: Done   6 out of   6 | elapsed:   20.9s finished\n"
     ]
    },
    {
     "data": {
      "text/plain": [
       "array([0.52380952, 0.50607681, 0.52260574, 0.50899368, 0.49829849,\n",
       "       0.48420029])"
      ]
     },
     "execution_count": 73,
     "metadata": {},
     "output_type": "execute_result"
    }
   ],
   "source": [
    "def model_kpi(pipe,CV):\n",
    "    res = cross_val_score(pipe,  training_data[\"words\"], \n",
    "                                 training_data[\"party\"], \n",
    "                                 scoring=\"accuracy\", cv=CV, \n",
    "                                 verbose=1)\n",
    "    return res\n",
    "    \n",
    "    \n",
    "res_MultinomialNB = model_kpi(pipe,6)    \n",
    "res_MultinomialNB\n",
    "    "
   ]
  },
  {
   "cell_type": "code",
   "execution_count": 65,
   "metadata": {},
   "outputs": [
    {
     "name": "stderr",
     "output_type": "stream",
     "text": [
      "[Parallel(n_jobs=1)]: Using backend SequentialBackend with 1 concurrent workers.\n",
      "[Parallel(n_jobs=1)]: Done   6 out of   6 | elapsed:  8.6min finished\n"
     ]
    },
    {
     "data": {
      "text/plain": [
       "array([0.60932945, 0.6110841 , 0.6110841 , 0.57267866, 0.57462324,\n",
       "       0.54739912])"
      ]
     },
     "execution_count": 65,
     "metadata": {},
     "output_type": "execute_result"
    }
   ],
   "source": [
    "from sklearn.linear_model import LogisticRegression\n",
    "pipe1=Pipeline([(\"countVectorizer\", countVectorizer), \n",
    "               (\"LogisticRegression_classifier\", LogisticRegression(random_state=202111, \n",
    "                                                 multi_class=\"multinomial\", \n",
    "                                                 solver=\"lbfgs\", \n",
    "                                                 max_iter=1000))])\n",
    "res_LogisticRegression=model_kpi(pipe1,6)"
   ]
  },
  {
   "cell_type": "code",
   "execution_count": 72,
   "metadata": {},
   "outputs": [
    {
     "name": "stderr",
     "output_type": "stream",
     "text": [
      "C:\\Users\\Administrator\\.julia\\conda\\3\\lib\\site-packages\\xgboost\\sklearn.py:1224: UserWarning: The use of label encoder in XGBClassifier is deprecated and will be removed in a future release. To remove this warning, do the following: 1) Pass option use_label_encoder=False when constructing XGBClassifier object; and 2) Encode your labels (y) as integers starting with 0, i.e. 0, 1, 2, ..., [num_class - 1].\n",
      "  warnings.warn(label_encoder_deprecation_msg, UserWarning)\n"
     ]
    },
    {
     "name": "stdout",
     "output_type": "stream",
     "text": [
      "[12:06:45] WARNING: C:/Users/Administrator/workspace/xgboost-win64_release_1.5.0/src/learner.cc:1115: Starting in XGBoost 1.3.0, the default evaluation metric used with the objective 'multi:softprob' was changed from 'merror' to 'mlogloss'. Explicitly set eval_metric if you'd like to restore the old behavior.\n",
      "              precision    recall  f1-score   support\n",
      "\n",
      "           C       0.51      0.41      0.45       671\n",
      "          KD       0.65      0.28      0.39       821\n",
      "           L       0.54      0.41      0.47       560\n",
      "           M       0.50      0.50      0.50      1644\n",
      "          MP       0.37      0.31      0.34       809\n",
      "           S       0.49      0.83      0.62      2773\n",
      "          SD       0.59      0.30      0.40      1060\n",
      "           V       0.63      0.30      0.41       950\n",
      "\n",
      "    accuracy                           0.51      9288\n",
      "   macro avg       0.54      0.42      0.45      9288\n",
      "weighted avg       0.53      0.51      0.49      9288\n",
      "\n"
     ]
    }
   ],
   "source": [
    "#import xgboost as xgb\n",
    "from xgboost import XGBClassifier\n",
    "\n",
    "#xgb_model = xgb.XGBClassifier(objective=\"multi:softprob\", random_state=202111)\n",
    "\n",
    "pipe_xgboost=Pipeline([(\"countVectorizer\", countVectorizer), \n",
    "               (\"XGBClassifier\", XGBClassifier(objective=\"multi:softprob\",use_label_encoder =False,random_state=202111))])\n",
    "\n",
    "pipe_xgboost.fit(X_train[\"words\"], y_train)\n",
    "pred = pipe_xgboost.predict(X_test[\"words\"])\n",
    "print(classification_report(y_test, pred))\n",
    "\n",
    "#-------------------------------------------------------------\n",
    "# https://www.kaggle.com/stuarthallows/using-xgboost-with-scikit-learn"
   ]
  },
  {
   "cell_type": "code",
   "execution_count": 70,
   "metadata": {},
   "outputs": [
    {
     "name": "stderr",
     "output_type": "stream",
     "text": [
      "[Parallel(n_jobs=1)]: Using backend SequentialBackend with 1 concurrent workers.\n",
      "C:\\Users\\Administrator\\.julia\\conda\\3\\lib\\site-packages\\xgboost\\sklearn.py:1224: UserWarning: The use of label encoder in XGBClassifier is deprecated and will be removed in a future release. To remove this warning, do the following: 1) Pass option use_label_encoder=False when constructing XGBClassifier object; and 2) Encode your labels (y) as integers starting with 0, i.e. 0, 1, 2, ..., [num_class - 1].\n",
      "  warnings.warn(label_encoder_deprecation_msg, UserWarning)\n"
     ]
    },
    {
     "name": "stdout",
     "output_type": "stream",
     "text": [
      "[11:54:25] WARNING: C:/Users/Administrator/workspace/xgboost-win64_release_1.5.0/src/learner.cc:1115: Starting in XGBoost 1.3.0, the default evaluation metric used with the objective 'multi:softprob' was changed from 'merror' to 'mlogloss'. Explicitly set eval_metric if you'd like to restore the old behavior.\n"
     ]
    },
    {
     "name": "stderr",
     "output_type": "stream",
     "text": [
      "C:\\Users\\Administrator\\.julia\\conda\\3\\lib\\site-packages\\xgboost\\sklearn.py:1224: UserWarning: The use of label encoder in XGBClassifier is deprecated and will be removed in a future release. To remove this warning, do the following: 1) Pass option use_label_encoder=False when constructing XGBClassifier object; and 2) Encode your labels (y) as integers starting with 0, i.e. 0, 1, 2, ..., [num_class - 1].\n",
      "  warnings.warn(label_encoder_deprecation_msg, UserWarning)\n"
     ]
    },
    {
     "name": "stdout",
     "output_type": "stream",
     "text": [
      "[11:55:46] WARNING: C:/Users/Administrator/workspace/xgboost-win64_release_1.5.0/src/learner.cc:1115: Starting in XGBoost 1.3.0, the default evaluation metric used with the objective 'multi:softprob' was changed from 'merror' to 'mlogloss'. Explicitly set eval_metric if you'd like to restore the old behavior.\n"
     ]
    },
    {
     "name": "stderr",
     "output_type": "stream",
     "text": [
      "C:\\Users\\Administrator\\.julia\\conda\\3\\lib\\site-packages\\xgboost\\sklearn.py:1224: UserWarning: The use of label encoder in XGBClassifier is deprecated and will be removed in a future release. To remove this warning, do the following: 1) Pass option use_label_encoder=False when constructing XGBClassifier object; and 2) Encode your labels (y) as integers starting with 0, i.e. 0, 1, 2, ..., [num_class - 1].\n",
      "  warnings.warn(label_encoder_deprecation_msg, UserWarning)\n"
     ]
    },
    {
     "name": "stdout",
     "output_type": "stream",
     "text": [
      "[11:57:00] WARNING: C:/Users/Administrator/workspace/xgboost-win64_release_1.5.0/src/learner.cc:1115: Starting in XGBoost 1.3.0, the default evaluation metric used with the objective 'multi:softprob' was changed from 'merror' to 'mlogloss'. Explicitly set eval_metric if you'd like to restore the old behavior.\n"
     ]
    },
    {
     "name": "stderr",
     "output_type": "stream",
     "text": [
      "C:\\Users\\Administrator\\.julia\\conda\\3\\lib\\site-packages\\xgboost\\sklearn.py:1224: UserWarning: The use of label encoder in XGBClassifier is deprecated and will be removed in a future release. To remove this warning, do the following: 1) Pass option use_label_encoder=False when constructing XGBClassifier object; and 2) Encode your labels (y) as integers starting with 0, i.e. 0, 1, 2, ..., [num_class - 1].\n",
      "  warnings.warn(label_encoder_deprecation_msg, UserWarning)\n"
     ]
    },
    {
     "name": "stdout",
     "output_type": "stream",
     "text": [
      "[11:58:12] WARNING: C:/Users/Administrator/workspace/xgboost-win64_release_1.5.0/src/learner.cc:1115: Starting in XGBoost 1.3.0, the default evaluation metric used with the objective 'multi:softprob' was changed from 'merror' to 'mlogloss'. Explicitly set eval_metric if you'd like to restore the old behavior.\n"
     ]
    },
    {
     "name": "stderr",
     "output_type": "stream",
     "text": [
      "C:\\Users\\Administrator\\.julia\\conda\\3\\lib\\site-packages\\xgboost\\sklearn.py:1224: UserWarning: The use of label encoder in XGBClassifier is deprecated and will be removed in a future release. To remove this warning, do the following: 1) Pass option use_label_encoder=False when constructing XGBClassifier object; and 2) Encode your labels (y) as integers starting with 0, i.e. 0, 1, 2, ..., [num_class - 1].\n",
      "  warnings.warn(label_encoder_deprecation_msg, UserWarning)\n"
     ]
    },
    {
     "name": "stdout",
     "output_type": "stream",
     "text": [
      "[11:59:24] WARNING: C:/Users/Administrator/workspace/xgboost-win64_release_1.5.0/src/learner.cc:1115: Starting in XGBoost 1.3.0, the default evaluation metric used with the objective 'multi:softprob' was changed from 'merror' to 'mlogloss'. Explicitly set eval_metric if you'd like to restore the old behavior.\n"
     ]
    },
    {
     "name": "stderr",
     "output_type": "stream",
     "text": [
      "C:\\Users\\Administrator\\.julia\\conda\\3\\lib\\site-packages\\xgboost\\sklearn.py:1224: UserWarning: The use of label encoder in XGBClassifier is deprecated and will be removed in a future release. To remove this warning, do the following: 1) Pass option use_label_encoder=False when constructing XGBClassifier object; and 2) Encode your labels (y) as integers starting with 0, i.e. 0, 1, 2, ..., [num_class - 1].\n",
      "  warnings.warn(label_encoder_deprecation_msg, UserWarning)\n"
     ]
    },
    {
     "name": "stdout",
     "output_type": "stream",
     "text": [
      "[12:00:43] WARNING: C:/Users/Administrator/workspace/xgboost-win64_release_1.5.0/src/learner.cc:1115: Starting in XGBoost 1.3.0, the default evaluation metric used with the objective 'multi:softprob' was changed from 'merror' to 'mlogloss'. Explicitly set eval_metric if you'd like to restore the old behavior.\n"
     ]
    },
    {
     "name": "stderr",
     "output_type": "stream",
     "text": [
      "[Parallel(n_jobs=1)]: Done   6 out of   6 | elapsed:  7.6min finished\n"
     ]
    },
    {
     "data": {
      "text/plain": [
       "array([0.60301263, 0.60525036, 0.61205639, 0.61059796, 0.60768109,\n",
       "       0.58045698])"
      ]
     },
     "execution_count": 70,
     "metadata": {},
     "output_type": "execute_result"
    }
   ],
   "source": [
    "res_xgboost = model_kpi(pipe_xgboost,6) \n",
    "res_xgboost"
   ]
  },
  {
   "cell_type": "code",
   "execution_count": 78,
   "metadata": {},
   "outputs": [
    {
     "name": "stdout",
     "output_type": "stream",
     "text": [
      "              precision    recall  f1-score   support\n",
      "\n",
      "           C       0.36      0.35      0.36       671\n",
      "          KD       0.38      0.22      0.28       821\n",
      "           L       0.31      0.33      0.32       560\n",
      "           M       0.46      0.47      0.46      1644\n",
      "          MP       0.28      0.39      0.32       809\n",
      "           S       0.56      0.66      0.60      2773\n",
      "          SD       0.42      0.35      0.39      1060\n",
      "           V       0.48      0.29      0.36       950\n",
      "\n",
      "    accuracy                           0.45      9288\n",
      "   macro avg       0.41      0.38      0.39      9288\n",
      "weighted avg       0.45      0.45      0.44      9288\n",
      "\n"
     ]
    }
   ],
   "source": [
    "# Non-linear SVM is quite slow and with similar results\n",
    "from sklearn.svm import LinearSVC\n",
    "\n",
    "pipe_LinearSVM=Pipeline([(\"countVectorizer\", countVectorizer), \n",
    "               (\"classifier\", LinearSVC(max_iter=10000))])\n",
    "\n",
    "pipe_LinearSVM.fit(X_train[\"words\"], y_train)\n",
    "pred = pipe_LinearSVM.predict(X_test[\"words\"])\n",
    "print(classification_report(y_test, pred))\n",
    "\n"
   ]
  },
  {
   "cell_type": "code",
   "execution_count": null,
   "metadata": {},
   "outputs": [],
   "source": []
  },
  {
   "cell_type": "code",
   "execution_count": null,
   "metadata": {},
   "outputs": [],
   "source": []
  },
  {
   "cell_type": "code",
   "execution_count": null,
   "metadata": {},
   "outputs": [],
   "source": []
  },
  {
   "cell_type": "code",
   "execution_count": null,
   "metadata": {},
   "outputs": [],
   "source": [
    "### it is better to try deep learning models, but the reuquirement in time and machine is a little high\n",
    "# so keras\n",
    "\n",
    "# https://www.tensorflow.org/text/tutorials/text_classification_rnn"
   ]
  },
  {
   "cell_type": "markdown",
   "metadata": {},
   "source": [
    "## Reflection questions"
   ]
  },
  {
   "cell_type": "markdown",
   "metadata": {},
   "source": [
    "The following reflection questions are questions that you could be asked in the oral exam. Try to answer each of them in the form of a short text and enter it in the cell below. You will get feedback on your answers from your lab assistant."
   ]
  },
  {
   "cell_type": "markdown",
   "metadata": {},
   "source": [
    "**RQ 2.1:** Summarise the results of your experiments for Problem&nbsp;2. Are your results ‘good’ or ‘bad’? How do you determine that?\n",
    "\n",
    "**RQ 2.2:** Summarise the results of your experiments for Problem&nbsp;4. Would you think that your results are typical even for other classification tasks? How would *oversampling* have looked like for this task? When would you use undersampling, when oversampling?\n",
    "\n",
    "**RQ 2.3:** Which model performed best in your experiments for Problem&nbsp;6? Why is it important to do a hyperparameter search before drawing conclusions about the performance of a model? Why is it often not done, anyway? Why should you never tune hyperparameters on the test set?"
   ]
  },
  {
   "cell_type": "markdown",
   "metadata": {},
   "source": [
    "*TODO: Enter your answers here*"
   ]
  },
  {
   "cell_type": "markdown",
   "metadata": {},
   "source": [
    "**Congratulations on finishing L2! 👍**"
   ]
  }
 ],
 "metadata": {
  "kernelspec": {
   "display_name": "Python 3",
   "language": "python",
   "name": "python3"
  },
  "language_info": {
   "codemirror_mode": {
    "name": "ipython",
    "version": 3
   },
   "file_extension": ".py",
   "mimetype": "text/x-python",
   "name": "python",
   "nbconvert_exporter": "python",
   "pygments_lexer": "ipython3",
   "version": "3.7.10"
  }
 },
 "nbformat": 4,
 "nbformat_minor": 4
}
