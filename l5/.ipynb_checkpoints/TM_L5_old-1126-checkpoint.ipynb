{
  "nbformat": 4,
  "nbformat_minor": 0,
  "metadata": {
    "kernelspec": {
      "display_name": "Python 3 (ipykernel)",
      "language": "python",
      "name": "python3"
    },
    "language_info": {
      "codemirror_mode": {
        "name": "ipython",
        "version": 3
      },
      "file_extension": ".py",
      "mimetype": "text/x-python",
      "name": "python",
      "nbconvert_exporter": "python",
      "pygments_lexer": "ipython3",
      "version": "3.9.5"
    },
    "colab": {
      "name": "TM-L5-old.ipynb",
      "provenance": [],
      "collapsed_sections": []
    }
  },
  "cells": [
    {
      "cell_type": "markdown",
      "metadata": {
        "id": "0vpcgtJ1nHP3"
      },
      "source": [
        "# L5: Information extraction"
      ]
    },
    {
      "cell_type": "markdown",
      "metadata": {
        "id": "2jOIFdoinHP8"
      },
      "source": [
        "Information extraction (IE) is the task of identifying named entities and semantic relations between these entities in text data. In this lab we will focus on two sub-tasks in IE, **named entity recognition** (identifying mentions of entities) and **entity linking** (matching these mentions to entities in a knowledge base)."
      ]
    },
    {
      "cell_type": "code",
      "metadata": {
        "id": "BcLUCeArN_TX"
      },
      "source": [
        "import numpy as np"
      ],
      "execution_count": 229,
      "outputs": []
    },
    {
      "cell_type": "markdown",
      "metadata": {
        "id": "v3_8MfmfnHP9"
      },
      "source": [
        "We start by loading spaCy:"
      ]
    },
    {
      "cell_type": "code",
      "metadata": {
        "id": "TeYMtK6ZnHP-"
      },
      "source": [
        "import spacy\n",
        "\n",
        "nlp = spacy.load('en_core_web_sm')"
      ],
      "execution_count": 230,
      "outputs": []
    },
    {
      "cell_type": "markdown",
      "metadata": {
        "id": "UizO64MZnHQB"
      },
      "source": [
        "The data that we will be using has been tokenized following the conventions of the [Penn Treebank](ftp://ftp.cis.upenn.edu/pub/treebank/public_html/tokenization.html), and we need to prevent spaCy from using its own tokenizer on top of this. We therefore override spaCy&rsquo;s tokenizer with one that simply splits on space."
      ]
    },
    {
      "cell_type": "code",
      "metadata": {
        "id": "-hJByu8YnHQC"
      },
      "source": [
        "from spacy.tokens import Doc\n",
        "\n",
        "class WhitespaceTokenizer(object):\n",
        "    def __init__(self, vocab):\n",
        "        self.vocab = vocab\n",
        "\n",
        "    def __call__(self, text):\n",
        "        return Doc(self.vocab, words=text.split(' '))\n",
        "\n",
        "nlp.tokenizer = WhitespaceTokenizer(nlp.vocab)"
      ],
      "execution_count": 231,
      "outputs": []
    },
    {
      "cell_type": "markdown",
      "metadata": {
        "id": "uc1K8xWlnHQD"
      },
      "source": [
        "## Data set"
      ]
    },
    {
      "cell_type": "markdown",
      "metadata": {
        "id": "qg33Ql9anHQE"
      },
      "source": [
        "The main data set for this lab is a collection of news wire articles in which mentions of named entities have been annotated with page names from the [English Wikipedia](https://en.wikipedia.org/wiki/). The next code cell loads the training and the development parts of the data into Pandas data frames."
      ]
    },
    {
      "cell_type": "code",
      "metadata": {
        "colab": {
          "base_uri": "https://localhost:8080/"
        },
        "id": "VdEmVZecoRru",
        "outputId": "6a2c48d9-48b5-4efb-923e-de00e064896f"
      },
      "source": [
        "from google.colab import drive  #---------------------------\n",
        "drive.mount('/content/drive/')"
      ],
      "execution_count": 232,
      "outputs": [
        {
          "output_type": "stream",
          "name": "stdout",
          "text": [
            "Drive already mounted at /content/drive/; to attempt to forcibly remount, call drive.mount(\"/content/drive/\", force_remount=True).\n"
          ]
        }
      ]
    },
    {
      "cell_type": "code",
      "metadata": {
        "id": "pPLWbMpynHQF"
      },
      "source": [
        "import bz2\n",
        "import csv\n",
        "import pandas as pd\n",
        "\n",
        "f1='/content/drive/MyDrive/Colab Notebooks/tm_lab5/ner-train.tsv.bz2'\n",
        "f2= '/content/drive/MyDrive/Colab Notebooks/tm_lab5/ner-dev.tsv.bz2'\n",
        "\n",
        "\n",
        "with bz2.open(f1) as source:\n",
        "    df_train = pd.read_csv(source, sep='\\t', quoting=csv.QUOTE_NONE)\n",
        "\n",
        "with bz2.open(f2) as source:\n",
        "    df_dev = pd.read_csv(source, sep='\\t', quoting=csv.QUOTE_NONE)"
      ],
      "execution_count": 233,
      "outputs": []
    },
    {
      "cell_type": "markdown",
      "metadata": {
        "id": "TlNTBxNlnHQI"
      },
      "source": [
        "Each row in these two data frames corresponds to one mention of a named entity and has five columns:\n",
        "\n",
        "1. a unique identifier for the sentence containing the entity mention\n",
        "2. the pre-tokenized sentence, with tokens separated by spaces\n",
        "3. the start position of the token span containing the entity mention\n",
        "4. the end position of the token span (exclusive, as in Python list indexing)\n",
        "5. the entity label; either a Wikipedia page name or the generic label `--NME--`\n",
        "\n",
        "The following cell prints the first five samples from the training data:"
      ]
    },
    {
      "cell_type": "code",
      "metadata": {
        "colab": {
          "base_uri": "https://localhost:8080/",
          "height": 206
        },
        "id": "XP-Ycr9FnHQJ",
        "outputId": "b97acd19-4ade-40e6-8c57-d313fc9253a1"
      },
      "source": [
        "df_train.head()"
      ],
      "execution_count": 234,
      "outputs": [
        {
          "output_type": "execute_result",
          "data": {
            "text/html": [
              "<div>\n",
              "<style scoped>\n",
              "    .dataframe tbody tr th:only-of-type {\n",
              "        vertical-align: middle;\n",
              "    }\n",
              "\n",
              "    .dataframe tbody tr th {\n",
              "        vertical-align: top;\n",
              "    }\n",
              "\n",
              "    .dataframe thead th {\n",
              "        text-align: right;\n",
              "    }\n",
              "</style>\n",
              "<table border=\"1\" class=\"dataframe\">\n",
              "  <thead>\n",
              "    <tr style=\"text-align: right;\">\n",
              "      <th></th>\n",
              "      <th>sentence_id</th>\n",
              "      <th>sentence</th>\n",
              "      <th>beg</th>\n",
              "      <th>end</th>\n",
              "      <th>label</th>\n",
              "    </tr>\n",
              "  </thead>\n",
              "  <tbody>\n",
              "    <tr>\n",
              "      <th>0</th>\n",
              "      <td>0000-000</td>\n",
              "      <td>EU rejects German call to boycott British lamb .</td>\n",
              "      <td>0</td>\n",
              "      <td>1</td>\n",
              "      <td>--NME--</td>\n",
              "    </tr>\n",
              "    <tr>\n",
              "      <th>1</th>\n",
              "      <td>0000-000</td>\n",
              "      <td>EU rejects German call to boycott British lamb .</td>\n",
              "      <td>2</td>\n",
              "      <td>3</td>\n",
              "      <td>Germany</td>\n",
              "    </tr>\n",
              "    <tr>\n",
              "      <th>2</th>\n",
              "      <td>0000-000</td>\n",
              "      <td>EU rejects German call to boycott British lamb .</td>\n",
              "      <td>6</td>\n",
              "      <td>7</td>\n",
              "      <td>United_Kingdom</td>\n",
              "    </tr>\n",
              "    <tr>\n",
              "      <th>3</th>\n",
              "      <td>0000-001</td>\n",
              "      <td>Peter Blackburn</td>\n",
              "      <td>0</td>\n",
              "      <td>2</td>\n",
              "      <td>--NME--</td>\n",
              "    </tr>\n",
              "    <tr>\n",
              "      <th>4</th>\n",
              "      <td>0000-002</td>\n",
              "      <td>BRUSSELS 1996-08-22</td>\n",
              "      <td>0</td>\n",
              "      <td>1</td>\n",
              "      <td>Brussels</td>\n",
              "    </tr>\n",
              "  </tbody>\n",
              "</table>\n",
              "</div>"
            ],
            "text/plain": [
              "  sentence_id  ...           label\n",
              "0    0000-000  ...         --NME--\n",
              "1    0000-000  ...         Germany\n",
              "2    0000-000  ...  United_Kingdom\n",
              "3    0000-001  ...         --NME--\n",
              "4    0000-002  ...        Brussels\n",
              "\n",
              "[5 rows x 5 columns]"
            ]
          },
          "metadata": {},
          "execution_count": 234
        }
      ]
    },
    {
      "cell_type": "markdown",
      "metadata": {
        "id": "NVNYLGM3nHQK"
      },
      "source": [
        "In this sample, we see that the first sentence is annotated with three entity mentions:\n",
        "\n",
        "* the span 0–1 &lsquo;EU&rsquo; is annotated as a mention but only labelled with the generic `--NME--`\n",
        "* the span 2–3 &lsquo;German&rsquo; is annotated with the page [Germany](http://en.wikipedia.org/wiki/Germany)\n",
        "* the span 6–7 &lsquo;British&rsquo; is annotated with the page [United_Kingdom](http://en.wikipedia.org/wiki/United_Kingdom)"
      ]
    },
    {
      "cell_type": "markdown",
      "metadata": {
        "id": "KDTLel2-nHQL"
      },
      "source": [
        "## Problem 1: Evaluation measures"
      ]
    },
    {
      "cell_type": "markdown",
      "metadata": {
        "id": "HfM8B010nHQL"
      },
      "source": [
        "To warm up, we ask you to write code to print the three measures that you will be using for evaluation:"
      ]
    },
    {
      "cell_type": "code",
      "metadata": {
        "id": "610Qm9z9nHQM"
      },
      "source": [
        "def evaluation_report(gold, pred):\n",
        "    \"\"\"Print precision, recall, and F1 score.\n",
        "    \n",
        "    Args:\n",
        "        gold: The set with the gold-standard values.\n",
        "        pred: The set with the predicted values.\n",
        "    \n",
        "    Returns:\n",
        "        Nothing, but prints the precision, recall, and F1 values computed\n",
        "        based on the specified sets.\n",
        "    \"\"\"\n",
        "    # TODO: Replace the next line with your own code\n",
        "    intersection = list(gold & pred)    \n",
        "    precision = len(intersection)/len(pred)\n",
        "    recall = len(intersection)/len(gold)\n",
        "    F1 = 2*(precision*recall)/(precision+recall)\n",
        "    print(\"precision:\", precision, \"\\nrecall:   \", recall, \"\\nf1-score: \", F1)\n",
        "    \n",
        "\n"
      ],
      "execution_count": 235,
      "outputs": []
    },
    {
      "cell_type": "code",
      "metadata": {
        "colab": {
          "base_uri": "https://localhost:8080/"
        },
        "id": "VbsnJ9fOqSlN",
        "outputId": "385fad09-e1a4-4680-9375-136fd6116439"
      },
      "source": [
        "###\n",
        "set(range(3,9))&set(range(6,12))"
      ],
      "execution_count": 236,
      "outputs": [
        {
          "output_type": "execute_result",
          "data": {
            "text/plain": [
              "{6, 7, 8}"
            ]
          },
          "metadata": {},
          "execution_count": 236
        }
      ]
    },
    {
      "cell_type": "markdown",
      "metadata": {
        "id": "AURgVq4UnHQM"
      },
      "source": [
        "To test your code, you can run the following cell:"
      ]
    },
    {
      "cell_type": "code",
      "metadata": {
        "colab": {
          "base_uri": "https://localhost:8080/"
        },
        "id": "lsglLOZqnHQM",
        "outputId": "7b37ba1d-e174-4bab-e6a5-edfb79bba8da"
      },
      "source": [
        "evaluation_report(set(range(3)), set(range(5)))"
      ],
      "execution_count": 237,
      "outputs": [
        {
          "output_type": "stream",
          "name": "stdout",
          "text": [
            "precision: 0.6 \n",
            "recall:    1.0 \n",
            "f1-score:  0.7499999999999999\n"
          ]
        }
      ]
    },
    {
      "cell_type": "markdown",
      "metadata": {
        "id": "hE6XKQfYnHQN"
      },
      "source": [
        "This should give you a precision of 60%, a recall of 100%, and an F1-value of 75%."
      ]
    },
    {
      "cell_type": "markdown",
      "metadata": {
        "id": "bCemCe0dnHQN"
      },
      "source": [
        "## Problem 2: Span recognition"
      ]
    },
    {
      "cell_type": "markdown",
      "metadata": {
        "id": "7qLOoTQqnHQN"
      },
      "source": [
        "One of the first tasks that an information extraction system has to solve is to locate and classify (mentions of) named entities, such as persons and organizations. Here we will tackle the simpler task of recognizing **spans** of tokens that contain an entity mention, without the actual entity label.\n",
        "\n",
        "The English language model in spaCy features a full-fledged [named entity recognizer](https://spacy.io/usage/linguistic-features#named-entities) that identifies a variety of entities, and can be updated with new entity types by the user. Your task in this problem is to evaluate the performance of this component when predicting entity spans in the development data.\n",
        "\n",
        "Start by implementing a generator function that yields the gold-standard spans in a given data frame.\n",
        "\n",
        "**Hint:** The Pandas method [`itertuples()`](https://pandas.pydata.org/pandas-docs/version/0.17.0/generated/pandas.DataFrame.itertuples.html) is useful when iterating over the rows in a DataFrame."
      ]
    },
    {
      "cell_type": "code",
      "metadata": {
        "id": "1UpbSFYpnHQO"
      },
      "source": [
        "def gold_spans(df):\n",
        "  for row in df.iloc[:,[0,2,3]].itertuples(index=False, name=None):\n",
        "    yield row  # save space\n",
        "\n",
        "    \"\"\"Yield the gold-standard mention spans in a data frame.\n",
        "\n",
        "    Args:\n",
        "        df: A data frame.\n",
        "\n",
        "    Yields:\n",
        "        The gold-standard mention spans in the specified data frame as\n",
        "        triples consisting of the sentence id, start position, and end\n",
        "        position of each span.\n",
        "    \"\"\"\n",
        "    # TODO: Replace the next line with your own code\n",
        " "
      ],
      "execution_count": 238,
      "outputs": []
    },
    {
      "cell_type": "markdown",
      "metadata": {
        "id": "pHrgRdUFnHQO"
      },
      "source": [
        "To test your code, you can count the spans yielded by your function. When called on the development data, you should get a total of 5,917 unique triples. The first triple and the last triple should be\n",
        "\n",
        "    ('0946-000', 2, 3)\n",
        "    ('1161-010', 1, 3)  "
      ]
    },
    {
      "cell_type": "code",
      "metadata": {
        "colab": {
          "base_uri": "https://localhost:8080/"
        },
        "id": "cdancKUGEx3i",
        "outputId": "24f92a86-a170-4568-d97d-22737a83f97c"
      },
      "source": [
        "res=list(gold_spans(df_dev))\n",
        "print(res[0]) # the first\n",
        "print(res[-1]) # the last "
      ],
      "execution_count": 239,
      "outputs": [
        {
          "output_type": "stream",
          "name": "stdout",
          "text": [
            "('0946-000', 2, 3)\n",
            "('1161-010', 1, 3)\n"
          ]
        }
      ]
    },
    {
      "cell_type": "code",
      "metadata": {
        "colab": {
          "base_uri": "https://localhost:8080/"
        },
        "id": "iJSmzVf6A4C0",
        "outputId": "19689b17-8d58-4acd-8184-8b81219a7de6"
      },
      "source": [
        "###\n",
        "[row for row in df_dev.iloc[[0,df_dev.shape[0]-1],[0,2,3]].itertuples(index=False, name=None)]"
      ],
      "execution_count": 240,
      "outputs": [
        {
          "output_type": "execute_result",
          "data": {
            "text/plain": [
              "[('0946-000', 2, 3), ('1161-010', 1, 3)]"
            ]
          },
          "metadata": {},
          "execution_count": 240
        }
      ]
    },
    {
      "cell_type": "code",
      "metadata": {
        "id": "xKABga6iC0FT"
      },
      "source": [
        ""
      ],
      "execution_count": 240,
      "outputs": []
    },
    {
      "cell_type": "code",
      "metadata": {
        "colab": {
          "base_uri": "https://localhost:8080/"
        },
        "id": "W6hSGF0YnHQP",
        "outputId": "1861268e-1649-4186-c49a-6ce7ac773f63"
      },
      "source": [
        "spans_dev_gold = set(gold_spans(df_dev))\n",
        "print(len(spans_dev_gold))"
      ],
      "execution_count": 241,
      "outputs": [
        {
          "output_type": "stream",
          "name": "stdout",
          "text": [
            "5917\n"
          ]
        }
      ]
    },
    {
      "cell_type": "markdown",
      "metadata": {
        "id": "B5fmh_QxnHQP"
      },
      "source": [
        "Your next task is to write code that calls spaCy to predict the named entities in the development data, and to evaluate the accuracy of these predictions in terms of precision, recall, and F1. Print these scores using the function that you wrote for Problem&nbsp;1."
      ]
    },
    {
      "cell_type": "code",
      "metadata": {
        "id": "1NXUAaotnHQP"
      },
      "source": [
        "# TODO: Write code here to run and evaluate the spaCy NER on the development data"
      ],
      "execution_count": 242,
      "outputs": []
    },
    {
      "cell_type": "code",
      "metadata": {
        "colab": {
          "base_uri": "https://localhost:8080/"
        },
        "id": "ft0N9CqbJuCb",
        "outputId": "6c3fa75b-aec3-4210-f702-98c70e2da117"
      },
      "source": [
        "###\n",
        "row = [i for i in df_dev.iloc[:124, [0,1]].drop_duplicates().itertuples(index=False)][2]\n",
        "nlp(row[1]).ents\n",
        "\n"
      ],
      "execution_count": 243,
      "outputs": [
        {
          "output_type": "execute_result",
          "data": {
            "text/plain": [
              "(West Indian, Phil Simmons, four, 38, Friday, Somerset, 39, two days)"
            ]
          },
          "metadata": {},
          "execution_count": 243
        }
      ]
    },
    {
      "cell_type": "code",
      "metadata": {
        "colab": {
          "base_uri": "https://localhost:8080/"
        },
        "id": "F0XCbXPVOPRe",
        "outputId": "3549fa55-fc23-4922-c1f6-f1f63d4d8f90"
      },
      "source": [
        "### https://spacy.io/api/span\n",
        "nlp(row[1]).ents[1].end"
      ],
      "execution_count": 244,
      "outputs": [
        {
          "output_type": "execute_result",
          "data": {
            "text/plain": [
              "5"
            ]
          },
          "metadata": {},
          "execution_count": 244
        }
      ]
    },
    {
      "cell_type": "code",
      "metadata": {
        "id": "TQAro1eUSYvx"
      },
      "source": [
        "# dir(nlp(row[1]).ents[1])"
      ],
      "execution_count": 245,
      "outputs": []
    },
    {
      "cell_type": "code",
      "metadata": {
        "id": "lmpKrLtZMPx2"
      },
      "source": [
        "# https://spacy.io/usage/linguistic-features#named-entities\n",
        "\n",
        "def Pred_entity(df):\n",
        "  for row in df.iloc[:, [0,1]].drop_duplicates().itertuples(index=False): # .drop_duplicates()\n",
        "    for ent in nlp(row[1]).ents:\n",
        "      yield (row[0], ent.start, ent.end)\n"
      ],
      "execution_count": 246,
      "outputs": []
    },
    {
      "cell_type": "code",
      "metadata": {
        "colab": {
          "base_uri": "https://localhost:8080/"
        },
        "id": "E3qQi43KTMAV",
        "outputId": "f418e790-1137-4490-ff4a-ac03a12aab71"
      },
      "source": [
        "evaluation_report(set(gold_spans(df_dev)),set(Pred_entity(df_dev)))"
      ],
      "execution_count": 247,
      "outputs": [
        {
          "output_type": "stream",
          "name": "stdout",
          "text": [
            "precision: 0.529449922158796 \n",
            "recall:    0.6897076221057968 \n",
            "f1-score:  0.599045871559633\n"
          ]
        }
      ]
    },
    {
      "cell_type": "markdown",
      "metadata": {
        "id": "nOswYOYcJrkb"
      },
      "source": [
        ""
      ]
    },
    {
      "cell_type": "markdown",
      "metadata": {
        "id": "cfWM0IcbnHQQ"
      },
      "source": [
        "## Problem 3: Error analysis"
      ]
    },
    {
      "cell_type": "markdown",
      "metadata": {
        "id": "dtPZLxuwnHQQ"
      },
      "source": [
        "As you were able to see in Problem&nbsp;2, the span accuracy of the named entity recognizer is far from perfect. In particular, only slightly more than half of the predicted spans are correct according to the gold standard. Your next task is to analyse this result in more detail.\n",
        "\n",
        "Here is a function that prints the false positives as well as the false negatives spans for a data frame, given a reference set of gold-standard spans and a candidate set of predicted spans."
      ]
    },
    {
      "cell_type": "code",
      "metadata": {
        "id": "s1jF_YkinHQR"
      },
      "source": [
        "from collections import defaultdict\n",
        "\n",
        "def error_report(df, spans_gold, spans_pred):\n",
        "    false_pos = defaultdict(list)\n",
        "    for s, b, e in spans_pred - spans_gold:\n",
        "        false_pos[s].append((b, e))\n",
        "    false_neg = defaultdict(list)\n",
        "    for s, b, e in spans_gold - spans_pred:\n",
        "        false_neg[s].append((b, e))\n",
        "    for row in df.drop_duplicates('sentence_id').itertuples():\n",
        "        if row.sentence_id in false_pos or row.sentence_id in false_neg:\n",
        "            print('Sentence:', row.sentence)\n",
        "            for b, e in false_pos[row.sentence_id]:\n",
        "                print('  FP:', ' '.join(row.sentence.split()[b:e]   )      )\n",
        "            for b, e in false_neg[row.sentence_id]:\n",
        "                print('  FN:', ' '.join(row.sentence.split()[b:e]))"
      ],
      "execution_count": 248,
      "outputs": []
    },
    {
      "cell_type": "markdown",
      "metadata": {
        "id": "lbazmxXLnHQR"
      },
      "source": [
        "Use this function to inspect and analyse the errors that the automated prediction makes. Can you see any patterns? Base your analysis on the first 500 rows of the training data. Summarize your observations in a short text."
      ]
    },
    {
      "cell_type": "code",
      "metadata": {
        "id": "3xormUtEnHQS"
      },
      "source": [
        "# TODO: Write code here to do your analysis"
      ],
      "execution_count": 249,
      "outputs": []
    },
    {
      "cell_type": "code",
      "metadata": {
        "colab": {
          "base_uri": "https://localhost:8080/"
        },
        "id": "Xgt_-MVnTHIL",
        "outputId": "7aad9fa3-fdc3-4b2f-d3f0-9c449280213f"
      },
      "source": [
        "###\n",
        "set([1,2,3,4,5])-set([1,2,3,6])\n",
        "set([1,2,3])-set([1,2,3,4,5])"
      ],
      "execution_count": 250,
      "outputs": [
        {
          "output_type": "execute_result",
          "data": {
            "text/plain": [
              "set()"
            ]
          },
          "metadata": {},
          "execution_count": 250
        }
      ]
    },
    {
      "cell_type": "code",
      "metadata": {
        "colab": {
          "base_uri": "https://localhost:8080/"
        },
        "id": "8mV95Hm7QCh8",
        "outputId": "dc88224f-d907-4af6-97bf-cf0532a4ed9b"
      },
      "source": [
        "df=df_dev.iloc[:500,]\n",
        "error_report(df,set(gold_spans(df)),set(Pred_entity(df)) )\n",
        "# too many errors in number, time,place,and the like"
      ],
      "execution_count": 251,
      "outputs": [
        {
          "output_type": "stream",
          "name": "stdout",
          "text": [
            "Sentence: CRICKET - LEICESTERSHIRE TAKE OVER AT TOP AFTER INNINGS VICTORY .\n",
            "  FN: LEICESTERSHIRE\n",
            "Sentence: West Indian all-rounder Phil Simmons took four for 38 on Friday as Leicestershire beat Somerset by an innings and 39 runs in two days to take over at the head of the county championship .\n",
            "  FP: two days\n",
            "  FP: 38\n",
            "  FP: four\n",
            "  FP: Friday\n",
            "  FP: 39\n",
            "  FN: Leicestershire\n",
            "Sentence: After bowling Somerset out for 83 on the opening morning at Grace Road , Leicestershire extended their first innings by 94 runs before being bowled out for 296 with England discard Andy Caddick taking three for 83 .\n",
            "  FP: first\n",
            "  FP: 83\n",
            "  FP: the opening morning\n",
            "  FP: 296\n",
            "  FP: three\n",
            "  FP: 83\n",
            "  FP: 94\n",
            "Sentence: Trailing by 213 , Somerset got a solid start to their second innings before Simmons stepped in to bundle them out for 174 .\n",
            "  FP: 213\n",
            "  FP: 174\n",
            "  FP: second\n",
            "  FN: Simmons\n",
            "Sentence: Essex , however , look certain to regain their top spot after Nasser Hussain and Peter Such gave them a firm grip on their match against Yorkshire at Headingley .\n",
            "  FP: Yorkshire at Headingley\n",
            "  FN: Yorkshire\n",
            "  FN: Essex\n",
            "  FN: Headingley\n",
            "Sentence: Hussain , considered surplus to England 's one-day requirements , struck 158 , his first championship century of the season , as Essex reached 372 and took a first innings lead of 82 .\n",
            "  FP: 158\n",
            "  FP: his first championship century of the season\n",
            "  FP: first\n",
            "  FP: 82\n",
            "  FP: one-day\n",
            "  FP: 372\n",
            "  FN: Hussain\n",
            "Sentence: By the close Yorkshire had turned that into a 37-run advantage but off-spinner Such had scuttled their hopes , taking four for 24 in 48 balls and leaving them hanging on 119 for five and praying for rain .\n",
            "  FP: five\n",
            "  FP: 48\n",
            "  FP: 119\n",
            "  FP: four\n",
            "  FP: 24\n",
            "  FN: Such\n",
            "Sentence: At the Oval , Surrey captain Chris Lewis , another man dumped by England , continued to silence his critics as he followed his four for 45 on Thursday with 80 not out on Friday in the match against Warwickshire .\n",
            "  FP: Friday\n",
            "  FP: 45\n",
            "  FP: four\n",
            "  FP: 80\n",
            "  FP: Thursday\n",
            "  FN: Warwickshire\n",
            "Sentence: He was well backed by England hopeful Mark Butcher who made 70 as Surrey closed on 429 for seven , a lead of 234 .\n",
            "  FP: 429\n",
            "  FP: 70\n",
            "  FP: seven\n",
            "  FP: 234\n",
            "Sentence: Derbyshire kept up the hunt for their first championship title since 1936 by reducing Worcestershire to 133 for five in their second innings , still 100 runs away from avoiding an innings defeat .\n",
            "  FP: 100\n",
            "  FP: second\n",
            "  FP: 133\n",
            "  FP: 1936\n",
            "  FP: five\n",
            "  FP: first\n",
            "  FN: Derbyshire\n",
            "  FN: Worcestershire\n",
            "Sentence: Australian Tom Moody took six for 82 but Chris Adams , 123 , and Tim O'Gorman , 109 , took Derbyshire to 471 and a first innings lead of 233 .\n",
            "  FP: 82\n",
            "  FP: six\n",
            "  FP: 109\n",
            "  FP: 233\n",
            "  FP: first\n",
            "  FP: 123\n",
            "  FP: 471\n",
            "  FN: Derbyshire\n",
            "Sentence: After the frustration of seeing the opening day of their match badly affected by the weather , Kent stepped up a gear to dismiss Nottinghamshire for 214 .\n",
            "  FP: 214\n",
            "  FP: the opening day\n",
            "Sentence: They were held up by a gritty 84 from Paul Johnson but ex-England fast bowler Martin McCague took four for 55 .\n",
            "  FP: four\n",
            "  FP: 84\n",
            "  FP: 55\n",
            "Sentence: By stumps Kent had reached 108 for three .\n",
            "  FP: three\n",
            "  FP: 108\n",
            "Sentence: CRICKET - ENGLISH COUNTY CHAMPIONSHIP SCORES .\n",
            "  FP: CRICKET - ENGLISH COUNTY CHAMPIONSHIP SCORES\n",
            "  FN: ENGLISH COUNTY CHAMPIONSHIP\n",
            "Sentence: Result and close of play scores in English county championship matches on Friday :\n",
            "  FP: Friday\n",
            "Sentence: Leicester : Leicestershire beat Somerset by an innings and 39 runs .\n",
            "  FP: 39\n",
            "  FN: Leicester\n",
            "  FN: Leicestershire\n",
            "Sentence: Somerset 83 and 174 ( P. Simmons 4-38 ) , Leicestershire 296 .\n",
            "  FP: P. Simmons 4-38\n",
            "  FP: 296\n",
            "  FP: 83\n",
            "  FP: 174\n",
            "  FN: Somerset\n",
            "  FN: P. Simmons\n",
            "Sentence: Leicestershire 22 points , Somerset 4 .\n",
            "  FP: 22\n",
            "  FP: 4\n",
            "  FN: Somerset\n",
            "  FN: Leicestershire\n",
            "Sentence: Chester-le-Street : Glamorgan 259 and 207 ( A. Dale 69 , H. Morris 69 ; D. Blenkiron 4-43 ) , Durham 114 ( S. Watkin 4-28 ) and 81-3 .\n",
            "  FP: 259\n",
            "  FP: Durham 114\n",
            "  FP: H. Morris 69\n",
            "  FP: 207\n",
            "  FP: D.\n",
            "  FP: A. Dale 69\n",
            "  FP: 81-3\n",
            "  FP: 4-43\n",
            "  FN: H. Morris\n",
            "  FN: Glamorgan\n",
            "  FN: Chester-le-Street\n",
            "  FN: D. Blenkiron\n",
            "  FN: Durham\n",
            "  FN: S. Watkin\n",
            "  FN: A. Dale\n",
            "Sentence: Tunbridge Wells : Nottinghamshire 214 ( P. Johnson 84 ; M. McCague 4-55 ) , Kent 108-3 .\n",
            "  FP: P. Johnson 84\n",
            "  FP: M. McCague 4-55\n",
            "  FP: Nottinghamshire 214\n",
            "  FP: Kent 108-3\n",
            "  FN: P. Johnson\n",
            "  FN: M. McCague\n",
            "  FN: Nottinghamshire\n",
            "  FN: Tunbridge Wells\n",
            "  FN: Kent\n",
            "Sentence: London ( The Oval ) : Warwickshire 195 , Surrey 429-7 ( C. Lewis 80 not out , M. Butcher 70 , G. Kersey 63 , J. Ratcliffe 63 , D. Bicknell 55 ) .\n",
            "  FP: 195\n",
            "  FP: G. Kersey 63\n",
            "  FP: D.\n",
            "  FP: Oval\n",
            "  FP: Surrey 429-7\n",
            "  FP: J. Ratcliffe 63\n",
            "  FN: G. Kersey\n",
            "  FN: Surrey\n",
            "  FN: D. Bicknell\n",
            "  FN: J. Ratcliffe\n",
            "  FN: Warwickshire\n",
            "  FN: The Oval\n",
            "Sentence: Hove : Sussex 363 ( W. Athey 111 , V. Drakes 52 ; I. Austin 4-37 ) , Lancashire 197-8 ( W. Hegg 54 )\n",
            "  FP: Lancashire 197-8\n",
            "  FP: 54\n",
            "  FP: 363\n",
            "  FP: W. Athey 111\n",
            "  FP: 52\n",
            "  FP: I. Austin 4-37\n",
            "  FN: Hove\n",
            "  FN: W. Athey\n",
            "  FN: I. Austin\n",
            "  FN: Lancashire\n",
            "  FN: Sussex\n",
            "Sentence: Portsmouth : Middlesex 199 and 426 ( J. Pooley 111 , M. Ramprakash 108 , M. Gatting 83 ) , Hampshire 232 and 109-5 .\n",
            "  FP: 109-5\n",
            "  FP: 232\n",
            "  FP: Middlesex 199\n",
            "  FP: 426\n",
            "  FP: M. Gatting 83\n",
            "  FN: Portsmouth\n",
            "  FN: M. Gatting\n",
            "  FN: Middlesex\n",
            "Sentence: Chesterfield : Worcestershire 238 and 133-5 , Derbyshire 471 ( J. Adams 123 , T.O'Gorman 109 not out , K. Barnett 87 ; T. Moody 6-82 )\n",
            "  FP: J. Adams 123\n",
            "  FP: K. Barnett 87\n",
            "  FP: 109\n",
            "  FP: 238\n",
            "  FP: 471\n",
            "  FP: 133-5\n",
            "  FP: T. Moody 6-82\n",
            "  FN: K. Barnett\n",
            "  FN: Chesterfield\n",
            "  FN: T. Moody\n",
            "  FN: T.O'Gorman\n",
            "  FN: Worcestershire\n",
            "  FN: J. Adams\n",
            "  FN: Derbyshire\n",
            "Sentence: Bristol : Gloucestershire 183 and 185-6 ( J. Russell 56 not out ) , Northamptonshire 190 ( K. Curran 52 ; A. Smith 5-68 ) .\n",
            "  FP: 183\n",
            "  FP: K. Curran 52\n",
            "  FP: 190\n",
            "  FP: 185-6\n",
            "  FN: K. Curran\n",
            "  FN: Gloucestershire\n",
            "  FN: Northamptonshire\n",
            "Sentence: CRICKET - 1997 ASHES INTINERARY .\n",
            "  FN: ASHES\n",
            "Sentence: Australia will defend the Ashes in\n",
            "  FN: Ashes\n",
            "Sentence: starting on May 13 next year , the Test and County Cricket Board\n",
            "  FP: the Test and County Cricket Board\n",
            "  FP: May 13 next year\n",
            "  FN: Test and County Cricket Board\n",
            "Sentence: Australia will also play three one-day internationals and\n",
            "  FP: three\n",
            "Sentence: as well as one-day matches against the Minor Counties and\n",
            "  FP: the Minor Counties\n",
            "  FN: Minor Counties\n",
            "Sentence: May 13 Arrive in London\n",
            "  FP: May 13\n",
            "Sentence: May 14 Practice at Lord 's\n",
            "  FP: May 14\n",
            "  FN: Lord 's\n",
            "Sentence: May 15 v Duke of Norfolk 's XI ( at Arundel )\n",
            "  FP: May 15\n",
            "  FP: Norfolk\n",
            "  FN: Duke of Norfolk 's XI\n",
            "Sentence: May 17 v Northampton\n",
            "  FP: May 17\n",
            "Sentence: May 18 v Worcestershire\n",
            "  FP: May 18\n",
            "  FN: Worcestershire\n",
            "Sentence: May 20 v Durham\n",
            "  FP: May 20\n",
            "Sentence: May 22 First one-day international ( at Headingley ,\n",
            "  FP: May 22\n",
            "  FP: First\n",
            "Sentence: Leeds )\n",
            "  FN: Leeds\n",
            "Sentence: May 24 Second one-day international ( at The Oval ,\n",
            "  FP: Second\n",
            "  FP: Oval\n",
            "  FP: May 24\n",
            "  FN: The Oval\n",
            "Sentence: May 25 Third one-day international ( at Lord 's , London )\n",
            "  FP: May 25\n",
            "  FP: Third\n",
            "  FN: Lord 's\n",
            "Sentence: May 27-29 v Gloucestershire or Sussex or Surrey ( three\n",
            "  FP: three\n",
            "Sentence: May 31 - June 2 v Derbyshire ( three days )\n",
            "  FP: three days\n",
            "  FP: May 31 - June 2\n",
            "  FN: Derbyshire\n",
            "Sentence: June 5-9 First test match ( at Edgbaston , Birmingham )\n",
            "  FP: June\n",
            "  FP: First\n",
            "Sentence: June 14-16 v Leicestershire ( three days )\n",
            "  FP: June\n",
            "  FP: three days\n",
            "  FN: Leicestershire\n",
            "Sentence: June 19-23 Second test ( at Lord 's )\n",
            "  FP: Second\n",
            "  FP: June\n",
            "  FN: Lord 's\n",
            "Sentence: June 25-27 v British Universities ( at Oxford , three days )\n",
            "  FP: British\n",
            "  FP: three days\n",
            "  FP: June\n",
            "  FN: British Universities\n",
            "Sentence: June 28-30 v Hampshire ( three days )\n",
            "  FP: three days\n",
            "  FP: June 28-30\n",
            "Sentence: July 3-7 Third test ( at Old Trafford , Manchester )\n",
            "  FP: Third\n",
            "  FP: July\n",
            "Sentence: July 9 v Minor Counties XI\n",
            "  FP: July 9\n",
            "  FN: Minor Counties XI\n",
            "Sentence: July 12 v Scotland\n",
            "  FP: July 12\n",
            "Sentence: July 16-18 v Glamorgan ( three days )\n",
            "  FP: three days\n",
            "  FP: July 16-18\n",
            "Sentence: July 19-21 v Middlesex ( three days )\n",
            "  FP: July 19-21\n",
            "  FP: three days\n",
            "Sentence: July 24-28 Fourth test ( at Headingley )\n",
            "  FP: Fourth\n",
            "  FP: July 24-28\n",
            "Sentence: August 1-4 v Somerset ( four days )\n",
            "  FP: four days\n",
            "  FP: August\n",
            "  FN: Somerset\n",
            "Sentence: August 7-11 Fifth test ( at Trent Bridge , Nottingham )\n",
            "  FP: Fifth\n",
            "  FP: August\n",
            "Sentence: August 16-18 v Kent ( three days )\n",
            "  FP: three days\n",
            "  FP: August 16-18\n",
            "Sentence: August 21-25 Sixth test ( at The Oval , London ) .\n",
            "  FP: August\n",
            "  FP: Sixth\n",
            "  FP: Oval\n",
            "  FN: The Oval\n",
            "Sentence: SOCCER - SHEARER NAMED AS ENGLAND CAPTAIN .\n",
            "  FN: ENGLAND\n",
            "  FN: SHEARER\n",
            "Sentence: The world 's costliest footballer Alan Shearer was named as the new England captain on Friday .\n",
            "  FP: Friday\n",
            "Sentence: The 26-year-old , who joined Newcastle for 15 million pounds sterling ( $ 23.4 million ) , takes over from Tony Adams , who led the side during the European championship in June , and former captain David Platt .\n",
            "  FP: $ 23.4 million\n",
            "  FP: 26-year-old\n",
            "  FP: 15 million pounds\n",
            "  FP: June\n",
            "Sentence: Adams and Platt are both injured and will miss England 's opening World Cup qualifier against Moldova on Sunday .\n",
            "  FP: Sunday\n",
            "  FN: Adams\n",
            "Sentence: Shearer takes the captaincy on a trial basis , but new coach Glenn Hoddle said he saw no reason why the former Blackburn and Southampton skipper should not make the post his own .\n",
            "  FN: Shearer\n",
            "Sentence: \" I 'm sure there wo n't be a problem , I 'm sure Alan is the man for the job , \" Hoddle said .\n",
            "  FN: Hoddle\n",
            "Sentence: \" There were three or four people who could have done it but when I spoke to Alan he was up for it and really wanted it .\n",
            "  FP: three or four\n",
            "Sentence: Shearer 's Euro 96 striking partner Teddy Sheringham withdrew from the squad with an injury on Friday .\n",
            "  FP: Friday\n",
            "Sentence: BELGRADE 1996-08-30\n",
            "  FN: BELGRADE\n",
            "Sentence: SOCCER - ROMANIA BEAT LITHUANIA IN UNDER-21 MATCH .\n",
            "  FN: LITHUANIA\n",
            "  FN: ROMANIA\n",
            "Sentence: BUCHAREST 1996-08-30\n",
            "  FN: BUCHAREST\n",
            "Sentence: Romania beat Lithuania 2-1 ( halftime 1-1 ) in their European under-21 soccer match on Friday .\n",
            "  FP: Friday\n",
            "  FP: 1-1\n",
            "Sentence: Romania - Cosmin Contra ( 31st ) , Mihai Tararache ( 75th )\n",
            "  FP: 75th\n",
            "  FN: Cosmin Contra\n",
            "Sentence: Lithuania - Danius Gleveckas ( 13rd )\n",
            "  FP: Lithuania - Danius Gleveckas\n",
            "  FP: 13rd\n",
            "  FN: Lithuania\n",
            "  FN: Danius Gleveckas\n",
            "Sentence: SOCCER - ROTOR FANS LOCKED OUT AFTER VOLGOGRAD VIOLENCE .\n",
            "  FN: VOLGOGRAD\n",
            "  FN: ROTOR\n",
            "Sentence: MOSCOW 1996-08-30\n",
            "  FN: MOSCOW\n",
            "Sentence: Rotor Volgograd must play their next home game behind closed doors after fans hurled bottles and stones at Dynamo Moscow players during a 1-0 home defeat on Saturday that ended Rotor 's brief spell as league leaders .\n",
            "  FP: Saturday\n",
            "  FP: 1-0\n",
            "  FP: Volgograd\n",
            "  FN: Rotor Volgograd\n",
            "Sentence: The head of the Russian league 's disciplinary committee , Anatoly Gorokhovsky , said on Friday that Rotor would play Lada Togliatti to empty stands on September 3 .\n",
            "  FP: Friday\n",
            "  FP: September 3\n",
            "Sentence: The club , who put Manchester United out of last year 's UEFA Cup , were fined $ 1,000 .\n",
            "  FP: 1,000\n",
            "  FP: last year 's\n",
            "Sentence: Despite the defeat , Rotor are well placed with 11 games to play in the championship .\n",
            "  FP: 11\n",
            "  FN: Rotor\n",
            "Sentence: Lying three points behind Alania and two behind Dynamo Moscow , the Volgograd side have a game in hand over the leaders and two over the Moscow club .\n",
            "  FP: two\n",
            "  FP: two\n",
            "  FP: three\n",
            "Sentence: BOXING - PANAMA 'S ROBERTO DURAN FIGHTS THE SANDS OF TIME .\n",
            "  FP: BOXING - PANAMA 'S\n",
            "  FN: PANAMA\n",
            "  FN: ROBERTO DURAN\n",
            "Sentence: PANAMA CITY 1996-08-30\n",
            "  FN: PANAMA CITY\n",
            "Sentence: Panamanian boxing legend Roberto \" Hands of Stone \" Duran climbs into the ring on Saturday in another age-defying attempt to sustain his long career .\n",
            "  FP: Duran\n",
            "  FP: Roberto\n",
            "  FP: Saturday\n",
            "  FN: Roberto \" Hands of Stone \" Duran\n",
            "Sentence: Duran , 45 , takes on little-known Mexican Ariel Cruz , 30 , in a super middleweight non-title bout in Panama City .\n",
            "  FP: 45\n",
            "  FP: 30\n",
            "Sentence: The fight , Duran 's first on home soil for 10 years , is being billed here as the \" Return of the Legend \" and Duran still talks as if he was in his prime .\n",
            "  FP: 10 years\n",
            "  FP: first\n",
            "Sentence: If he loses Saturday , it could devalue his position as one of the world 's great boxers , \" Panamanian Boxing Association President Ramon Manzanares said .\n",
            "  FP: Saturday\n",
            "  FP: Panamanian Boxing Association\n",
            "  FP: one\n",
            "  FN: Panamanian\n",
            "  FN: Boxing Association\n",
            "Sentence: Duran , whose 97-12 record spans three decades , hopes a win in the 10-round bout will earn him a rematch against Puerto Rico 's Hector \" Macho \" Camacho .\n",
            "  FP: 10-round\n",
            "  FP: Puerto Rico 's\n",
            "  FP: three decades\n",
            "  FN: Hector \" Macho \" Camacho\n",
            "  FN: Puerto Rico\n",
            "Sentence: Camacho took a controversial points decision against the Panamanian in Atlantic City in June in a title fight .\n",
            "  FP: June\n",
            "Sentence: SQUASH - HONG KONG OPEN QUARTER-FINAL RESULTS .\n",
            "  FN: HONG KONG OPEN\n",
            "Sentence: Quarter-final results in the Hong Kong Open on Friday ( prefix number denotes seeding ) : 1 - Jansher Khan ( Pakistan ) beat Mark Cairns ( England ) 15-10 15-6 15-7\n",
            "  FP: the Hong Kong Open\n",
            "  FP: Friday\n",
            "  FP: 1\n",
            "  FP: 15-6 15-7\n",
            "  FN: Jansher Khan\n",
            "  FN: Hong Kong Open\n",
            "Sentence: 4 - Peter Nicol ( Scotland ) beat 7 - Chris Walker ( England ) 15-8 15-13 13-15 15-9\n",
            "  FP: 7\n",
            "  FP: 15-8\n",
            "  FP: 13-15 15-9\n",
            "  FP: 4\n",
            "  FN: Peter Nicol\n",
            "Sentence: 2 - Rodney Eyles ( Australia ) beat Derek Ryan ( Ireland ) 15-6 15-9 11-15 15-10 .\n",
            "  FP: 2\n",
            "  FP: 15-9\n",
            "  FN: Rodney Eyles\n",
            "Sentence: SOCCER - RESULTS OF SOUTH KOREAN PRO-SOCCER GAMES .\n",
            "  FN: SOUTH KOREAN\n",
            "Sentence: SEOUL 1996-08-30\n",
            "  FN: SEOUL\n",
            "Sentence: Pohang 3 Ulsan 2 ( halftime 1-0 )\n",
            "  FP: 1-0\n",
            "  FP: Pohang 3\n",
            "  FN: Ulsan\n",
            "  FN: Pohang\n",
            "Sentence: Puchon 2 Chonbuk 1 ( halftime 1-1 )\n",
            "  FP: 1-1\n",
            "  FP: Puchon 2 Chonbuk 1\n",
            "  FN: Chonbuk\n",
            "  FN: Puchon\n",
            "Sentence: Puchon 3 1 0 6 1 10\n",
            "  FP: 6\n",
            "  FP: 1\n",
            "Sentence: Chonan 3 0 1 13 10 9\n",
            "  FP: Chonan 3\n",
            "  FN: Chonan\n",
            "Sentence: Pohang 2 1 1 11 10 7\n",
            "  FP: Pohang 2\n",
            "  FN: Pohang\n",
            "Sentence: Suwan 1 3 0 7 3 6\n",
            "  FP: 1 3\n",
            "  FP: 3\n",
            "  FP: 7\n",
            "  FN: Suwan\n",
            "Sentence: Ulsan 1 0 2 8 9 3\n",
            "  FP: 8\n",
            "  FP: 2\n",
            "  FP: 1\n",
            "  FN: Ulsan\n",
            "Sentence: Anyang 0 3 1 6 9 3\n",
            "  FP: 1\n",
            "  FN: Anyang\n",
            "Sentence: Chonnam 0 2 1 4 5 2\n",
            "  FN: Chonnam\n",
            "Sentence: Pusan 0 2 1 3 7 2\n",
            "  FP: 2\n",
            "  FN: Pusan\n",
            "Sentence: Chonbuk 0 0 3 3 7 0\n",
            "  FP: 3\n",
            "  FN: Chonbuk\n",
            "Sentence: BASEBALL - RESULTS OF S. KOREAN PROFESSIONAL GAMES .\n",
            "  FN: S. KOREAN\n",
            "Sentence: SEOUL 1996-08-30\n",
            "  FN: SEOUL\n",
            "Sentence: LG 2 OB 0\n",
            "  FN: LG\n",
            "  FN: OB\n",
            "Sentence: Lotte 6 Hyundai 2\n",
            "  FP: 2\n",
            "  FN: Lotte\n",
            "Sentence: Hyundai 6 Lotte 5\n",
            "  FP: 6 Lotte\n",
            "  FN: Lotte\n",
            "Sentence: Haitai 2 Samsung 0\n",
            "  FP: Haitai 2\n",
            "  FN: Haitai\n",
            "  FN: Samsung\n",
            "Sentence: Samsung 10 Haitai 3\n",
            "  FP: 3\n",
            "  FN: Samsung\n",
            "  FN: Haitai\n",
            "Sentence: Hanwha 6 Ssangbangwool 5\n",
            "  FP: 6\n",
            "  FN: Hanwha\n",
            "  FN: Ssangbangwool\n",
            "Sentence: Note - Lotte and Hyundai , Haitai and Samsung played two games .\n",
            "  FP: two\n",
            "  FN: Lotte\n",
            "Sentence: Haitai 64 2 43 .596 -\n",
            "  FP: Haitai 64\n",
            "  FN: Haitai\n",
            "Sentence: Ssangbangwool 59 2 49 .545 5 1/2\n",
            "  FP: 59\n",
            "  FP: 5 1/2\n",
            "  FN: Ssangbangwool\n",
            "Sentence: Hanwha 58 1 49 .542 6\n",
            "  FP: 58\n",
            "  FN: Hanwha\n",
            "Sentence: Hyundai 57 5 49 .536 6 1/2\n",
            "  FP: 6 1/2\n",
            "  FP: 57\n",
            "Sentence: Samsung 49 5 56 .468 14\n",
            "  FN: Samsung\n",
            "Sentence: Lotte 46 6 54 .462 14 1/2\n",
            "  FP: 14 1/2\n",
            "  FN: Lotte\n",
            "Sentence: LG 46 5 59 .441 17\n",
            "  FP: 17\n",
            "  FN: LG\n",
            "Sentence: OB 42 6 62 .409 20 1/2\n",
            "  FP: 42\n",
            "  FP: 20 1/2\n",
            "  FN: OB\n",
            "Sentence: TENNIS - FRIDAY 'S RESULTS FROM THE U.S. OPEN .\n",
            "  FP: TENNIS - FRIDAY 'S\n",
            "  FP: U.S.\n",
            "  FN: U.S. OPEN\n",
            "Sentence: Results from the U.S. Open Tennis Championships at the National Tennis Centre on Friday ( prefix number denotes seeding ) :\n",
            "  FP: Friday\n",
            "  FP: the National Tennis Centre\n",
            "  FN: National Tennis Centre\n",
            "  FN: U.S. Open Tennis Championships\n",
            "Sentence: 4 - Goran Ivanisevic ( Croatia ) beat Scott Draper ( Australia ) 6-7 ( 1-7 ) 6-3 6-4 6-4\n",
            "  FP: 6-3\n",
            "  FP: 4\n",
            "  FN: Goran Ivanisevic\n",
            "Sentence: Tim Henman ( Britain ) beat Doug Flach ( U.S. ) 6-3 6-4 6-2\n",
            "  FP: 6-3\n",
            "Sentence: Mark Philippoussis ( Australia ) beat Andrei Olhovskiy ( Russia ) 6 - 3 6-4 6-2\n",
            "  FP: 6\n",
            "Sentence: Sjeng Schalken ( Netherlands ) beat David Rikl ( Czech Republic ) 6 - 2 6-4 6-4\n",
            "  FP: 6\n",
            "  FP: Czech\n",
            "  FN: Czech Republic\n",
            "Sentence: Guy Forget ( France ) beat 17 - Felix Mantilla ( Spain ) 6-4 7-5 6-3\n",
            "  FP: 17\n",
            "Sentence: Alexander Volkov ( Russia ) beat Mikael Tillstrom ( Sweden ) 1-6 6- 4 6-1 4-6 7-6 ( 10-8 )\n",
            "  FP: 10-8\n",
            "  FP: 7-6\n",
            "  FP: 1-6\n",
            "  FP: 6-1\n",
            "Sentence: Jonas Bjorkman ( Sweden ) beat David Nainkin ( South Africa ) ) 6-4 6-1 6-1\n",
            "  FP: 6-1 6-1\n",
            "Sentence: 8 - Lindsay Davenport ( U.S. ) beat Anne-Gaelle Sidot ( France ) 6-0 6-3\n",
            "  FP: 8\n",
            "  FP: Sidot\n",
            "  FN: Anne-Gaelle Sidot\n",
            "  FN: Lindsay Davenport\n",
            "Sentence: 4 - Conchita Martinez ( Spain ) beat Helena Sukova ( Czech Republic ) 6-4 6-3\n",
            "  FP: 4\n",
            "  FN: Conchita Martinez\n",
            "Sentence: Amanda Coetzer ( South Africa ) beat Irina Spirlea ( Romania ) 7-6 ( 7-5 ) 7-5\n",
            "  FN: Romania\n",
            "Sentence: Add Men 's singles , second round 16 - Cedric Pioline ( France ) beat Roberto Carretero ( Spain ) 4-6 6 - 2 6-2 6-1 Alex Corretja ( Spain ) beat Filippo Veglio ( Switzerland ) 6-7 ( 4- 7 ) 6-4 6-4 6-0\n",
            "  FP: 7\n",
            "  FP: 6-1\n",
            "  FP: second\n",
            "  FP: 6\n",
            "  FP: 16\n",
            "  FP: Add Men 's\n",
            "  FN: Alex Corretja\n",
            "  FN: Cedric Pioline\n",
            "Sentence: Add Women 's singles , third round Linda Wild ( U.S. ) beat Barbara Rittner ( Germany ) 6-4 4-6 7-5 Asa Carlsson ( Sweden ) beat 15 - Gabriela Sabatini ( Argentina ) 7-5 3-6 6-2\n",
            "  FP: 7-5 Asa Carlsson ( Sweden\n",
            "  FP: third\n",
            "  FP: 4-6\n",
            "  FP: Add Women 's\n",
            "  FP: 15\n",
            "  FN: Sweden\n",
            "  FN: Asa Carlsson\n",
            "  FN: Gabriela Sabatini\n",
            "Sentence: Add Men 's singles , second round 1 - Pete Sampras ( U.S. ) beat Jiri Novak ( Czech Republic ) 6-3 1-6 6-3 4-6 6-4 Paul Haarhuis ( Netherlands ) beat Michael Tebbutt ( Australia ) 1- 6 6-2 6-2 6-3\n",
            "  FP: - Pete Sampras\n",
            "  FP: 1\n",
            "  FP: Add Men 's\n",
            "  FP: 6-3 1-6 6-3\n",
            "  FP: 6 6-2\n",
            "  FP: second\n",
            "  FN: Pete Sampras\n",
            "Sentence: Add Women 's singles , third round Lisa Raymond ( U.S. ) beat Kimberly Po ( U.S. ) 6-3 6-2\n",
            "  FP: 6-3 6-2\n",
            "  FP: third\n",
            "  FP: Add Women 's\n",
            "Sentence: 2 - Monica Seles ( U.S. ) beat Dally Randriantefy ( Madagascar )\n",
            "  FP: 2\n",
            "  FN: Madagascar\n",
            "  FN: Monica Seles\n",
            "Sentence: Add men 's singles , second round 12 - Todd Martin ( U.S. ) beat Andrea Gaudenzi ( Italy ) 6-3 6-2 6-2 Stefan Edberg ( Sweden ) beat Bernd Karbacher ( Germany ) 3-6 6-3 6-3 1-0 retired ( leg injury )\n",
            "  FP: 1-0\n",
            "  FP: 3-6\n",
            "  FP: 12\n",
            "  FP: second\n",
            "  FP: 6-3 6-3\n",
            "Sentence: BASEBALL - MAJOR LEAGUE STANDINGS AFTER THURSDAY 'S GAMES .\n",
            "  FP: BASEBALL - MAJOR LEAGUE STANDINGS\n",
            "  FN: MAJOR LEAGUE\n",
            "Sentence: NEW YORK 74 59 .556 -\n",
            "  FP: 74 59\n",
            "Sentence: BALTIMORE 70 63 .526 4\n",
            "  FP: 70 63\n",
            "  FN: BALTIMORE\n",
            "Sentence: BOSTON 69 65 .515 5 1/2\n",
            "  FP: 69 65 .515\n",
            "  FP: 5 1/2\n",
            "  FN: BOSTON\n",
            "Sentence: TORONTO 63 71 .470 11 1/2\n",
            "  FP: 11 1/2\n",
            "  FP: 63 71\n",
            "  FN: TORONTO\n",
            "Sentence: DETROIT 48 86 .358 26 1/2\n",
            "  FP: 48 86\n",
            "  FP: 26 1/2\n",
            "  FN: DETROIT\n",
            "Sentence: CENTRAL DIVISION\n",
            "  FN: CENTRAL DIVISION\n",
            "Sentence: CLEVELAND 80 53 .602 -\n",
            "  FP: 80\n",
            "  FN: CLEVELAND\n",
            "Sentence: CHICAGO 71 64 .526 10\n",
            "  FP: 71 64\n",
            "  FN: CHICAGO\n",
            "Sentence: MINNESOTA 67 67 .500 13 1/2\n",
            "  FP: 13 1/2\n",
            "Sentence: MILWAUKEE 64 71 .474 17\n",
            "  FP: 64 71\n",
            "  FN: MILWAUKEE\n",
            "Sentence: KANSAS CITY 61 74 .452 20\n",
            "  FP: 61 74\n",
            "  FP: 20\n",
            "  FN: KANSAS CITY\n",
            "Sentence: WESTERN DIVISION\n",
            "  FN: WESTERN DIVISION\n",
            "Sentence: TEXAS 75 58 .564 -\n",
            "  FP: 75 58\n",
            "Sentence: SEATTLE 70 63 .526 5\n",
            "  FN: SEATTLE\n",
            "Sentence: OAKLAND 64 72 .471 12 1/2\n",
            "  FP: 64 72\n",
            "  FP: 12 1/2\n",
            "  FN: OAKLAND\n",
            "Sentence: CALIFORNIA 62 72 .463 13 1/2\n",
            "  FP: 13 1/2\n",
            "  FP: 62 72\n",
            "Sentence: KANSAS CITY AT DETROIT\n",
            "  FN: KANSAS CITY\n",
            "  FN: DETROIT\n",
            "Sentence: CHICAGO AT TORONTO\n",
            "  FN: CHICAGO\n",
            "  FN: TORONTO\n",
            "Sentence: CLEVELAND AT TEXAS\n",
            "  FN: CLEVELAND\n",
            "Sentence: BOSTON AT OAKLAND\n",
            "  FN: OAKLAND\n",
            "  FN: BOSTON\n",
            "Sentence: BALTIMORE AT SEATTLE\n",
            "  FN: BALTIMORE\n",
            "Sentence: MONTREAL 71 61 .538 12\n",
            "  FP: 71 61 .538 12\n",
            "Sentence: PHILADELPHIA 54 80 .403 30\n",
            "  FP: 54 80\n",
            "  FP: 30\n",
            "Sentence: CENTRAL DIVISION\n",
            "  FN: CENTRAL DIVISION\n",
            "Sentence: HOUSTON 72 63 .533 -\n",
            "  FP: 72 63\n",
            "Sentence: ST LOUIS 69 65 .515 2 1/2\n",
            "  FP: 2 1/2\n",
            "  FP: 69 65 .515\n",
            "  FN: ST LOUIS\n",
            "Sentence: CINCINNATI 66 67 .496 5\n",
            "  FP: 66\n",
            "  FP: 5\n",
            "  FN: CINCINNATI\n",
            "Sentence: CHICAGO 65 66 .496 5\n",
            "  FP: 65 66\n",
            "  FP: 5\n",
            "  FN: CHICAGO\n",
            "Sentence: PITTSBURGH 56 77 .421 15\n",
            "  FP: 56 77\n",
            "  FP: 15\n",
            "  FN: PITTSBURGH\n",
            "Sentence: WESTERN DIVISION\n",
            "  FN: WESTERN DIVISION\n",
            "Sentence: SAN DIEGO 75 60 .556 -\n",
            "  FP: 60\n",
            "Sentence: COLORADO 70 65 .519 5\n",
            "  FP: 70 65 .519\n",
            "Sentence: SAN FRANCISCO 57 74 .435 16\n",
            "  FP: 16\n",
            "Sentence: ATLANTA AT CHICAGO\n",
            "  FN: ATLANTA\n",
            "  FN: CHICAGO\n",
            "Sentence: FLORIDA AT CINCINNATI\n",
            "  FN: CINCINNATI\n",
            "Sentence: HOUSTON AT PITTSBURGH\n",
            "  FN: PITTSBURGH\n",
            "  FN: HOUSTON\n",
            "Sentence: COLORADO AT ST LOUIS\n",
            "  FN: ST LOUIS\n",
            "  FN: COLORADO\n",
            "Sentence: BASEBALL - MAJOR LEAGUE RESULTS THURSDAY .\n",
            "  FP: BASEBALL - MAJOR LEAGUE RESULTS THURSDAY\n",
            "  FN: MAJOR LEAGUE\n",
            "Sentence: DETROIT 4 Kansas City 1\n",
            "  FN: DETROIT\n",
            "Sentence: Minnesota 6 MILWAUKEE 1\n",
            "  FN: MILWAUKEE\n",
            "Sentence: CALIFORNIA 14 New York 3\n",
            "  FP: 14\n",
            "Sentence: SEATTLE 9 Baltimore 6\n",
            "  FN: SEATTLE\n",
            "  FN: Baltimore\n",
            "Sentence: San Diego 3 NEW YORK 2\n",
            "  FP: San Diego 3\n",
            "  FN: San Diego\n",
            "Sentence: Chicago 4 HOUSTON 3\n",
            "  FN: HOUSTON\n",
            "Sentence: Cincinnati 18 COLORADO 7\n",
            "  FP: 18\n",
            "Sentence: Atlanta 5 PITTSBURGH 1\n",
            "  FN: PITTSBURGH\n",
            "Sentence: Los Angeles 2 MONTREAL 1\n",
            "  FP: 1\n",
            "  FP: 2\n",
            "  FN: MONTREAL\n",
            "Sentence: Florida 10 ST LOUIS 9\n",
            "  FN: ST LOUIS\n",
            "Sentence: TENNIS - TARANGO , O'BRIEN SPRING TWIN UPSETS UNDER THE LIGHTS .\n",
            "  FN: O'BRIEN\n",
            "  FN: TARANGO\n",
            "Sentence: Andre Agassi escaped disaster on Thursday but Wimbledon finalist MaliVai Washington and Marcelo Rios were not so fortunate on a night of upsets at the U.S. Open .\n",
            "  FP: Thursday\n",
            "  FP: a night\n",
            "  FP: the U.S. Open\n",
            "  FN: U.S. Open\n",
            "Sentence: The 11th-seeded Washington fell short of reprising his Wimbledon miracle comeback as he lost to red-hot wildcard Alex O'Brien 6-3 6-4 5-7 3-6 6-3 in a two hour 51 minute struggle on the Stadium court .\n",
            "  FP: Wimbledon\n",
            "  FP: Stadium\n",
            "  FP: 5-7\n",
            "  FP: 3-6\n",
            "  FP: Alex O'Brien\n",
            "  FP: 6-3\n",
            "  FP: a two hour 51 minute\n"
          ]
        }
      ]
    },
    {
      "cell_type": "markdown",
      "metadata": {
        "id": "cEhZn9gvnHQS"
      },
      "source": [
        "*TODO: Write a short text that summarises the errors that you observed*"
      ]
    },
    {
      "cell_type": "code",
      "metadata": {
        "id": "_3VJD_p7eMXO"
      },
      "source": [
        "FN = list(set(gold_spans(df_dev)) - set(Pred_entity(df_dev))   )\n",
        "FP = list(set(Pred_entity(df_dev)) - set(gold_spans(df_dev)))"
      ],
      "execution_count": 252,
      "outputs": []
    },
    {
      "cell_type": "code",
      "metadata": {
        "colab": {
          "base_uri": "https://localhost:8080/"
        },
        "id": "EMvLoIKgev4u",
        "outputId": "055e569e-b343-45e8-81d8-eeee1ab8ab0f"
      },
      "source": [
        "print(\"FN count:\", len(FN))\n",
        "print(\"Fp count:\", len(FP))"
      ],
      "execution_count": 253,
      "outputs": [
        {
          "output_type": "stream",
          "name": "stdout",
          "text": [
            "FN count: 1836\n",
            "Fp count: 3627\n"
          ]
        }
      ]
    },
    {
      "cell_type": "code",
      "metadata": {
        "id": "AfY8975PfA1a"
      },
      "source": [
        "def entity_label(entities, df):  # label_, string\n",
        "    #res = []\n",
        "    for s, b, e in entities:\n",
        "        entity_ = \" \".join(df.loc[df_dev.sentence_id==s, \"sentence\"].values[0].split()[b:e])\n",
        "        ents = nlp(entity_).ents\n",
        "        yield ents[0].label_ if len(ents)!=0 else \"None\"  # label\n",
        "        "
      ],
      "execution_count": 254,
      "outputs": []
    },
    {
      "cell_type": "code",
      "metadata": {
        "id": "iL-tiCuFhEI-"
      },
      "source": [
        "#list(entity_label(FP, df_dev))\n",
        "FP_lab = entity_label(FP, df_dev)\n",
        "FN_lab = entity_label(FN, df_dev)\n",
        "gold_lab = entity_label(gold_spans(df_dev), df_dev)"
      ],
      "execution_count": 255,
      "outputs": []
    },
    {
      "cell_type": "code",
      "metadata": {
        "colab": {
          "base_uri": "https://localhost:8080/"
        },
        "id": "NC-_utiDiY7w",
        "outputId": "a3302205-6f04-4d63-8e3e-006a94a1de41"
      },
      "source": [
        "print(\"FP label counts:\")\n",
        "print(pd.DataFrame({\"label\": FP_lab}).label.value_counts())\n",
        "print(\"\\nFN label counts:\")\n",
        "print(pd.DataFrame({\"label\": FN_lab}).label.value_counts())\n",
        "print(\"\\nGolden label counts:\")\n",
        "print(pd.DataFrame({\"label\": gold_lab}).label.value_counts())"
      ],
      "execution_count": 256,
      "outputs": [
        {
          "output_type": "stream",
          "name": "stdout",
          "text": [
            "FP label counts:\n",
            "CARDINAL       1563\n",
            "DATE            764\n",
            "None            408\n",
            "ORG             223\n",
            "PERSON          169\n",
            "ORDINAL         119\n",
            "GPE              99\n",
            "TIME             73\n",
            "QUANTITY         53\n",
            "PERCENT          48\n",
            "MONEY            44\n",
            "NORP             37\n",
            "EVENT            17\n",
            "LOC               7\n",
            "WORK_OF_ART       2\n",
            "LAW               1\n",
            "Name: label, dtype: int64\n",
            "\n",
            "FN label counts:\n",
            "None        1157\n",
            "ORG          230\n",
            "PERSON       222\n",
            "GPE          151\n",
            "NORP          51\n",
            "DATE           8\n",
            "EVENT          7\n",
            "CARDINAL       5\n",
            "LOC            4\n",
            "PRODUCT        1\n",
            "Name: label, dtype: int64\n",
            "\n",
            "Golden label counts:\n",
            "None        2156\n",
            "GPE         1362\n",
            "PERSON      1178\n",
            "ORG          676\n",
            "NORP         478\n",
            "EVENT         26\n",
            "LOC           16\n",
            "DATE           8\n",
            "CARDINAL       7\n",
            "LAW            5\n",
            "PRODUCT        3\n",
            "FAC            2\n",
            "Name: label, dtype: int64\n"
          ]
        }
      ]
    },
    {
      "cell_type": "markdown",
      "metadata": {
        "id": "zgpHpJ_tnHQT"
      },
      "source": [
        "Now, use the insights from your error analysis to improve the automated prediction that you implemented in Problem&nbsp;2. While the best way to do this would be to [update spaCy&rsquo;s NER model](https://spacy.io/usage/linguistic-features#updating) using domain-specific training data, for this lab it suffices to write code to post-process the output produced by spaCy. You should be able to improve the F1 score from Problem&nbsp;2 by at last 15 percentage points."
      ]
    },
    {
      "cell_type": "code",
      "metadata": {
        "id": "N7WKefkrnHQT"
      },
      "source": [
        "# TODO: Write code here to improve the span prediction from Problem 2"
      ],
      "execution_count": 257,
      "outputs": []
    },
    {
      "cell_type": "markdown",
      "metadata": {
        "id": "vgBu1oAzcMEF"
      },
      "source": [
        "![image.png](data:image/png;base64,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)"
      ]
    },
    {
      "cell_type": "code",
      "metadata": {
        "id": "2b6c8fq6Zl9U"
      },
      "source": [
        "def Pred_entity_improved(df,lab_filtered):\n",
        "  for row in df.iloc[:, [0,1]].drop_duplicates().itertuples(index=False): # .drop_duplicates()\n",
        "    for ent in nlp(row[1]).ents:\n",
        "      if not ent.label_ in lab_filtered:\n",
        "        yield (row[0], ent.start, ent.end)"
      ],
      "execution_count": 258,
      "outputs": []
    },
    {
      "cell_type": "code",
      "metadata": {
        "id": "CY3jO5GClbK0"
      },
      "source": [
        ""
      ],
      "execution_count": 258,
      "outputs": []
    },
    {
      "cell_type": "code",
      "metadata": {
        "colab": {
          "base_uri": "https://localhost:8080/"
        },
        "id": "j5FWJ21zkJBt",
        "outputId": "394d72f5-ff37-4850-b088-2373e7db7c97"
      },
      "source": [
        "# trying and checking, em...boring\n",
        "lab_filtered = [\"CARDINAL\", \"DATE\", \"ORDINAL\",# \"GPE\",\n",
        "                #\"PERSON\",\n",
        "              #  \"ORG\",\n",
        "                \"TIME\", \"QUANTITY\", \"MONEY\", \"PERCENT\"]\n",
        "evaluation_report(set(gold_spans(df_dev)),set(Pred_entity_improved(df_dev,lab_filtered)))"
      ],
      "execution_count": 259,
      "outputs": [
        {
          "output_type": "stream",
          "name": "stdout",
          "text": [
            "precision: 0.8447668393782384 \n",
            "recall:    0.6888625992901808 \n",
            "f1-score:  0.758890336994973\n"
          ]
        }
      ]
    },
    {
      "cell_type": "markdown",
      "metadata": {
        "id": "OwKSoVTMnHQT"
      },
      "source": [
        "Show that you achieve the performance goal by reporting the evaluation measures that you implemented in Problem&nbsp;1."
      ]
    },
    {
      "cell_type": "markdown",
      "metadata": {
        "id": "aYtJn5kinHQU"
      },
      "source": [
        "Before going on, we ask you to store the outputs of the improved named entity recognizer on the development data in a new data frame. This new frame should have the same layout as the original data frame for the development data that you loaded above, but should contain the *predicted* start and end positions for each token span, rather than the gold positions. As the `label` of each span, you can use the special value `--NME--`."
      ]
    },
    {
      "cell_type": "code",
      "metadata": {
        "colab": {
          "base_uri": "https://localhost:8080/",
          "height": 206
        },
        "id": "eBDT2tYUorbF",
        "outputId": "04c93465-7bd2-4cd9-dbaf-a83aa4d1dbe4"
      },
      "source": [
        "df_dev.head()"
      ],
      "execution_count": 260,
      "outputs": [
        {
          "output_type": "execute_result",
          "data": {
            "text/html": [
              "<div>\n",
              "<style scoped>\n",
              "    .dataframe tbody tr th:only-of-type {\n",
              "        vertical-align: middle;\n",
              "    }\n",
              "\n",
              "    .dataframe tbody tr th {\n",
              "        vertical-align: top;\n",
              "    }\n",
              "\n",
              "    .dataframe thead th {\n",
              "        text-align: right;\n",
              "    }\n",
              "</style>\n",
              "<table border=\"1\" class=\"dataframe\">\n",
              "  <thead>\n",
              "    <tr style=\"text-align: right;\">\n",
              "      <th></th>\n",
              "      <th>sentence_id</th>\n",
              "      <th>sentence</th>\n",
              "      <th>beg</th>\n",
              "      <th>end</th>\n",
              "      <th>label</th>\n",
              "    </tr>\n",
              "  </thead>\n",
              "  <tbody>\n",
              "    <tr>\n",
              "      <th>0</th>\n",
              "      <td>0946-000</td>\n",
              "      <td>CRICKET - LEICESTERSHIRE TAKE OVER AT TOP AFTE...</td>\n",
              "      <td>2</td>\n",
              "      <td>3</td>\n",
              "      <td>Leicestershire_County_Cricket_Club</td>\n",
              "    </tr>\n",
              "    <tr>\n",
              "      <th>1</th>\n",
              "      <td>0946-001</td>\n",
              "      <td>LONDON 1996-08-30</td>\n",
              "      <td>0</td>\n",
              "      <td>1</td>\n",
              "      <td>London</td>\n",
              "    </tr>\n",
              "    <tr>\n",
              "      <th>2</th>\n",
              "      <td>0946-002</td>\n",
              "      <td>West Indian all-rounder Phil Simmons took four...</td>\n",
              "      <td>0</td>\n",
              "      <td>2</td>\n",
              "      <td>West_Indies_cricket_team</td>\n",
              "    </tr>\n",
              "    <tr>\n",
              "      <th>3</th>\n",
              "      <td>0946-002</td>\n",
              "      <td>West Indian all-rounder Phil Simmons took four...</td>\n",
              "      <td>3</td>\n",
              "      <td>5</td>\n",
              "      <td>Phil_Simmons</td>\n",
              "    </tr>\n",
              "    <tr>\n",
              "      <th>4</th>\n",
              "      <td>0946-002</td>\n",
              "      <td>West Indian all-rounder Phil Simmons took four...</td>\n",
              "      <td>12</td>\n",
              "      <td>13</td>\n",
              "      <td>Leicestershire_County_Cricket_Club</td>\n",
              "    </tr>\n",
              "  </tbody>\n",
              "</table>\n",
              "</div>"
            ],
            "text/plain": [
              "  sentence_id  ...                               label\n",
              "0    0946-000  ...  Leicestershire_County_Cricket_Club\n",
              "1    0946-001  ...                              London\n",
              "2    0946-002  ...            West_Indies_cricket_team\n",
              "3    0946-002  ...                        Phil_Simmons\n",
              "4    0946-002  ...  Leicestershire_County_Cricket_Club\n",
              "\n",
              "[5 rows x 5 columns]"
            ]
          },
          "metadata": {},
          "execution_count": 260
        }
      ]
    },
    {
      "cell_type": "code",
      "metadata": {
        "id": "CFzHXayqnHQU"
      },
      "source": [
        "# TODO: Write code here to store the predicted spans in a new data frame\n",
        "#list(Pred_entity_improved(df_dev,lab_filtered) )"
      ],
      "execution_count": 261,
      "outputs": []
    },
    {
      "cell_type": "code",
      "metadata": {
        "colab": {
          "base_uri": "https://localhost:8080/",
          "height": 423
        },
        "id": "VnPDmQNgpYpb",
        "outputId": "fd534945-efde-420a-eba6-f76778fb4a44"
      },
      "source": [
        "df_pred_ent = pd.DataFrame(list(Pred_entity_improved(df_dev,lab_filtered) ), columns=[\"sentence_id\", \"beg\", \"end\"])\n",
        "\n",
        "df_pred_ent[\"sentence\"] = df_pred_ent.sentence_id.apply(lambda x: df_dev.loc[df_dev.sentence_id==x].sentence.values[0])\n",
        "df_pred_ent[\"label\"] = [\"--NME--\"]* df_pred_ent.shape[0]\n",
        "df_pred_ent = df_pred_ent.loc[:, [\"sentence_id\", \"sentence\", \"beg\", \"end\", \"label\"]]\n",
        "df_pred_ent"
      ],
      "execution_count": 262,
      "outputs": [
        {
          "output_type": "execute_result",
          "data": {
            "text/html": [
              "<div>\n",
              "<style scoped>\n",
              "    .dataframe tbody tr th:only-of-type {\n",
              "        vertical-align: middle;\n",
              "    }\n",
              "\n",
              "    .dataframe tbody tr th {\n",
              "        vertical-align: top;\n",
              "    }\n",
              "\n",
              "    .dataframe thead th {\n",
              "        text-align: right;\n",
              "    }\n",
              "</style>\n",
              "<table border=\"1\" class=\"dataframe\">\n",
              "  <thead>\n",
              "    <tr style=\"text-align: right;\">\n",
              "      <th></th>\n",
              "      <th>sentence_id</th>\n",
              "      <th>sentence</th>\n",
              "      <th>beg</th>\n",
              "      <th>end</th>\n",
              "      <th>label</th>\n",
              "    </tr>\n",
              "  </thead>\n",
              "  <tbody>\n",
              "    <tr>\n",
              "      <th>0</th>\n",
              "      <td>0946-001</td>\n",
              "      <td>LONDON 1996-08-30</td>\n",
              "      <td>0</td>\n",
              "      <td>1</td>\n",
              "      <td>--NME--</td>\n",
              "    </tr>\n",
              "    <tr>\n",
              "      <th>1</th>\n",
              "      <td>0946-002</td>\n",
              "      <td>West Indian all-rounder Phil Simmons took four...</td>\n",
              "      <td>0</td>\n",
              "      <td>2</td>\n",
              "      <td>--NME--</td>\n",
              "    </tr>\n",
              "    <tr>\n",
              "      <th>2</th>\n",
              "      <td>0946-002</td>\n",
              "      <td>West Indian all-rounder Phil Simmons took four...</td>\n",
              "      <td>3</td>\n",
              "      <td>5</td>\n",
              "      <td>--NME--</td>\n",
              "    </tr>\n",
              "    <tr>\n",
              "      <th>3</th>\n",
              "      <td>0946-002</td>\n",
              "      <td>West Indian all-rounder Phil Simmons took four...</td>\n",
              "      <td>14</td>\n",
              "      <td>15</td>\n",
              "      <td>--NME--</td>\n",
              "    </tr>\n",
              "    <tr>\n",
              "      <th>4</th>\n",
              "      <td>0946-003</td>\n",
              "      <td>Their stay on top , though , may be short-live...</td>\n",
              "      <td>13</td>\n",
              "      <td>14</td>\n",
              "      <td>--NME--</td>\n",
              "    </tr>\n",
              "    <tr>\n",
              "      <th>...</th>\n",
              "      <td>...</td>\n",
              "      <td>...</td>\n",
              "      <td>...</td>\n",
              "      <td>...</td>\n",
              "      <td>...</td>\n",
              "    </tr>\n",
              "    <tr>\n",
              "      <th>4820</th>\n",
              "      <td>1161-007</td>\n",
              "      <td>Brokers said blue chips like IDLC , Bangladesh...</td>\n",
              "      <td>7</td>\n",
              "      <td>9</td>\n",
              "      <td>--NME--</td>\n",
              "    </tr>\n",
              "    <tr>\n",
              "      <th>4821</th>\n",
              "      <td>1161-007</td>\n",
              "      <td>Brokers said blue chips like IDLC , Bangladesh...</td>\n",
              "      <td>10</td>\n",
              "      <td>12</td>\n",
              "      <td>--NME--</td>\n",
              "    </tr>\n",
              "    <tr>\n",
              "      <th>4822</th>\n",
              "      <td>1161-007</td>\n",
              "      <td>Brokers said blue chips like IDLC , Bangladesh...</td>\n",
              "      <td>13</td>\n",
              "      <td>15</td>\n",
              "      <td>--NME--</td>\n",
              "    </tr>\n",
              "    <tr>\n",
              "      <th>4823</th>\n",
              "      <td>1161-009</td>\n",
              "      <td>The DSE all share price index closed 2.73 poin...</td>\n",
              "      <td>1</td>\n",
              "      <td>2</td>\n",
              "      <td>--NME--</td>\n",
              "    </tr>\n",
              "    <tr>\n",
              "      <th>4824</th>\n",
              "      <td>1161-010</td>\n",
              "      <td>-- Dhaka Newsroom 880-2-506363</td>\n",
              "      <td>0</td>\n",
              "      <td>4</td>\n",
              "      <td>--NME--</td>\n",
              "    </tr>\n",
              "  </tbody>\n",
              "</table>\n",
              "<p>4825 rows × 5 columns</p>\n",
              "</div>"
            ],
            "text/plain": [
              "     sentence_id  ...    label\n",
              "0       0946-001  ...  --NME--\n",
              "1       0946-002  ...  --NME--\n",
              "2       0946-002  ...  --NME--\n",
              "3       0946-002  ...  --NME--\n",
              "4       0946-003  ...  --NME--\n",
              "...          ...  ...      ...\n",
              "4820    1161-007  ...  --NME--\n",
              "4821    1161-007  ...  --NME--\n",
              "4822    1161-007  ...  --NME--\n",
              "4823    1161-009  ...  --NME--\n",
              "4824    1161-010  ...  --NME--\n",
              "\n",
              "[4825 rows x 5 columns]"
            ]
          },
          "metadata": {},
          "execution_count": 262
        }
      ]
    },
    {
      "cell_type": "markdown",
      "metadata": {
        "id": "g9UIhKZ6nHQU"
      },
      "source": [
        "## Problem 4: Entity linking"
      ]
    },
    {
      "cell_type": "markdown",
      "metadata": {
        "id": "-mJ7WWvwnHQU"
      },
      "source": [
        "Now that we have a method for predicting mention spans, we turn to the task of **entity linking**, which amounts to predicting the knowledge base entity that is referenced by a given mention. In our case, for each span we want to predict the Wikipedia page that this mention references.\n",
        "\n",
        "Start by extending the generator function that you implemented in Problem&nbsp;2 to labelled spans."
      ]
    },
    {
      "cell_type": "code",
      "metadata": {
        "id": "7_fdm_cgnHQV"
      },
      "source": [
        "def gold_mentions(df):\n",
        "  for row in df.iloc[:,[0,2,3,4]].itertuples(index=False, name=None):\n",
        "    yield row\n",
        "    \"\"\"Yield the gold-standard mentions in a data frame.\n",
        "\n",
        "    Args:\n",
        "        df: A data frame.\n",
        "\n",
        "    Yields:\n",
        "        The gold-standard mention spans in the specified data frame as\n",
        "        quadruples consisting of the sentence id, start position, end\n",
        "        position and entity label of each span.\n",
        "    \"\"\"\n",
        "    # TODO: Replace the next line with your own code\n",
        "    "
      ],
      "execution_count": 263,
      "outputs": []
    },
    {
      "cell_type": "markdown",
      "metadata": {
        "id": "76HWebyDnHQV"
      },
      "source": [
        "A naive baseline for entity linking on our data set is to link each mention span to the Wikipedia page name that we get when we join the tokens in the span by underscores, as is standard in Wikipedia page names. Suppose, for example, that a span contains the two tokens\n",
        "\n",
        "    Jimi Hendrix\n",
        "\n",
        "The baseline Wikipedia page name for this span would be\n",
        "\n",
        "    Jimi_Hendrix\n",
        "\n",
        "Implement this naive baseline and evaluate its performance. Print the evaluation measures that you implemented in Problem&nbsp;1."
      ]
    },
    {
      "cell_type": "markdown",
      "metadata": {
        "id": "rRsbYh8snHQV"
      },
      "source": [
        "<div class=\"alert alert-warning\">\n",
        "    Here and in the remainder of this lab, you should base your entity predictions on the predicted spans that you computed in Problem&nbsp;3.\n",
        "</div>"
      ]
    },
    {
      "cell_type": "code",
      "metadata": {
        "colab": {
          "base_uri": "https://localhost:8080/",
          "height": 423
        },
        "id": "uL8zPcVB4Inb",
        "outputId": "dc49c8fd-6032-48db-f6da-88f2f9b0c8a6"
      },
      "source": [
        "#df_pred_ent.iloc[1,].sentence.split()   , # by yield\n",
        "\n",
        "\n",
        "\n",
        "def naive_baseline(df):\n",
        "  df.label = df.apply(lambda row: \"_\".join(row.sentence.split()[row.beg:row.end]), axis=1)\n",
        "  return(df)    #for row in df.iloc[:,[0,2,3,4]].itertuples(index=False, name=None): \n",
        "\n",
        "df_naive = naive_baseline(df_pred_ent)\n",
        "df_naive"
      ],
      "execution_count": 264,
      "outputs": [
        {
          "output_type": "execute_result",
          "data": {
            "text/html": [
              "<div>\n",
              "<style scoped>\n",
              "    .dataframe tbody tr th:only-of-type {\n",
              "        vertical-align: middle;\n",
              "    }\n",
              "\n",
              "    .dataframe tbody tr th {\n",
              "        vertical-align: top;\n",
              "    }\n",
              "\n",
              "    .dataframe thead th {\n",
              "        text-align: right;\n",
              "    }\n",
              "</style>\n",
              "<table border=\"1\" class=\"dataframe\">\n",
              "  <thead>\n",
              "    <tr style=\"text-align: right;\">\n",
              "      <th></th>\n",
              "      <th>sentence_id</th>\n",
              "      <th>sentence</th>\n",
              "      <th>beg</th>\n",
              "      <th>end</th>\n",
              "      <th>label</th>\n",
              "    </tr>\n",
              "  </thead>\n",
              "  <tbody>\n",
              "    <tr>\n",
              "      <th>0</th>\n",
              "      <td>0946-001</td>\n",
              "      <td>LONDON 1996-08-30</td>\n",
              "      <td>0</td>\n",
              "      <td>1</td>\n",
              "      <td>LONDON</td>\n",
              "    </tr>\n",
              "    <tr>\n",
              "      <th>1</th>\n",
              "      <td>0946-002</td>\n",
              "      <td>West Indian all-rounder Phil Simmons took four...</td>\n",
              "      <td>0</td>\n",
              "      <td>2</td>\n",
              "      <td>West_Indian</td>\n",
              "    </tr>\n",
              "    <tr>\n",
              "      <th>2</th>\n",
              "      <td>0946-002</td>\n",
              "      <td>West Indian all-rounder Phil Simmons took four...</td>\n",
              "      <td>3</td>\n",
              "      <td>5</td>\n",
              "      <td>Phil_Simmons</td>\n",
              "    </tr>\n",
              "    <tr>\n",
              "      <th>3</th>\n",
              "      <td>0946-002</td>\n",
              "      <td>West Indian all-rounder Phil Simmons took four...</td>\n",
              "      <td>14</td>\n",
              "      <td>15</td>\n",
              "      <td>Somerset</td>\n",
              "    </tr>\n",
              "    <tr>\n",
              "      <th>4</th>\n",
              "      <td>0946-003</td>\n",
              "      <td>Their stay on top , though , may be short-live...</td>\n",
              "      <td>13</td>\n",
              "      <td>14</td>\n",
              "      <td>Essex</td>\n",
              "    </tr>\n",
              "    <tr>\n",
              "      <th>...</th>\n",
              "      <td>...</td>\n",
              "      <td>...</td>\n",
              "      <td>...</td>\n",
              "      <td>...</td>\n",
              "      <td>...</td>\n",
              "    </tr>\n",
              "    <tr>\n",
              "      <th>4820</th>\n",
              "      <td>1161-007</td>\n",
              "      <td>Brokers said blue chips like IDLC , Bangladesh...</td>\n",
              "      <td>7</td>\n",
              "      <td>9</td>\n",
              "      <td>Bangladesh_Lamps</td>\n",
              "    </tr>\n",
              "    <tr>\n",
              "      <th>4821</th>\n",
              "      <td>1161-007</td>\n",
              "      <td>Brokers said blue chips like IDLC , Bangladesh...</td>\n",
              "      <td>10</td>\n",
              "      <td>12</td>\n",
              "      <td>Chittagong_Cement</td>\n",
              "    </tr>\n",
              "    <tr>\n",
              "      <th>4822</th>\n",
              "      <td>1161-007</td>\n",
              "      <td>Brokers said blue chips like IDLC , Bangladesh...</td>\n",
              "      <td>13</td>\n",
              "      <td>15</td>\n",
              "      <td>Atlas_Bangladesh</td>\n",
              "    </tr>\n",
              "    <tr>\n",
              "      <th>4823</th>\n",
              "      <td>1161-009</td>\n",
              "      <td>The DSE all share price index closed 2.73 poin...</td>\n",
              "      <td>1</td>\n",
              "      <td>2</td>\n",
              "      <td>DSE</td>\n",
              "    </tr>\n",
              "    <tr>\n",
              "      <th>4824</th>\n",
              "      <td>1161-010</td>\n",
              "      <td>-- Dhaka Newsroom 880-2-506363</td>\n",
              "      <td>0</td>\n",
              "      <td>4</td>\n",
              "      <td>--_Dhaka_Newsroom_880-2-506363</td>\n",
              "    </tr>\n",
              "  </tbody>\n",
              "</table>\n",
              "<p>4825 rows × 5 columns</p>\n",
              "</div>"
            ],
            "text/plain": [
              "     sentence_id  ...                           label\n",
              "0       0946-001  ...                          LONDON\n",
              "1       0946-002  ...                     West_Indian\n",
              "2       0946-002  ...                    Phil_Simmons\n",
              "3       0946-002  ...                        Somerset\n",
              "4       0946-003  ...                           Essex\n",
              "...          ...  ...                             ...\n",
              "4820    1161-007  ...                Bangladesh_Lamps\n",
              "4821    1161-007  ...               Chittagong_Cement\n",
              "4822    1161-007  ...                Atlas_Bangladesh\n",
              "4823    1161-009  ...                             DSE\n",
              "4824    1161-010  ...  --_Dhaka_Newsroom_880-2-506363\n",
              "\n",
              "[4825 rows x 5 columns]"
            ]
          },
          "metadata": {},
          "execution_count": 264
        }
      ]
    },
    {
      "cell_type": "code",
      "metadata": {
        "id": "_rzDZE45nHQV"
      },
      "source": [
        "# TODO: Write code here to implement the baseline"
      ],
      "execution_count": 265,
      "outputs": []
    },
    {
      "cell_type": "code",
      "metadata": {
        "colab": {
          "base_uri": "https://localhost:8080/"
        },
        "id": "RQucpI64LbMQ",
        "outputId": "94f84407-8d16-4c3a-8481-652def17e255"
      },
      "source": [
        "evaluation_report(set(gold_mentions(df_dev)), set(gold_mentions(df_naive)))"
      ],
      "execution_count": 266,
      "outputs": [
        {
          "output_type": "stream",
          "name": "stdout",
          "text": [
            "precision: 0.3183419689119171 \n",
            "recall:    0.25959100895724185 \n",
            "f1-score:  0.2859802643827965\n"
          ]
        }
      ]
    },
    {
      "cell_type": "markdown",
      "metadata": {
        "id": "EbmbaoK7nHQV"
      },
      "source": [
        "## Problem 5: Extending the training data using the knowledge base"
      ]
    },
    {
      "cell_type": "markdown",
      "metadata": {
        "id": "ho0YAZuznHQW"
      },
      "source": [
        "State-of-the-art approaches to entity linking exploit information in knowledge bases. In our case, where Wikipedia is the knowledge base, one particularly useful type of information are links to other Wikipedia pages. In particular, we can interpret the anchor texts (the highlighted texts that you click on) as mentions of the entities (pages) that they link to. This allows us to harvest long lists of mention–entity pairings.\n",
        "\n",
        "The following cell loads a data frame summarizing anchor texts and page references harvested from the first paragraphs of the English Wikipedia. The data frame also contains all entity mentions in the training data (but not the development or the test data)."
      ]
    },
    {
      "cell_type": "code",
      "metadata": {
        "id": "Bm9ibK5xnHQW"
      },
      "source": [
        "f3= '/content/drive/MyDrive/Colab Notebooks/tm_lab5/kb.tsv.bz2'\n",
        "with bz2.open(f3, 'rt') as source:\n",
        "    df_kb = pd.read_csv(source, sep='\\t', quoting=csv.QUOTE_NONE)"
      ],
      "execution_count": 267,
      "outputs": []
    },
    {
      "cell_type": "markdown",
      "metadata": {
        "id": "ET4l0TZAnHQW"
      },
      "source": [
        "To understand what information is available in this data, the following cell shows the entry for the anchor text `Sweden`."
      ]
    },
    {
      "cell_type": "code",
      "metadata": {
        "id": "ErQTrDxLnHQW",
        "colab": {
          "base_uri": "https://localhost:8080/",
          "height": 143
        },
        "outputId": "e4608c9c-6afe-4480-e5e9-07229a13bea9"
      },
      "source": [
        "df_kb.loc[df_kb.mention == 'Sweden']"
      ],
      "execution_count": 268,
      "outputs": [
        {
          "output_type": "execute_result",
          "data": {
            "text/html": [
              "<div>\n",
              "<style scoped>\n",
              "    .dataframe tbody tr th:only-of-type {\n",
              "        vertical-align: middle;\n",
              "    }\n",
              "\n",
              "    .dataframe tbody tr th {\n",
              "        vertical-align: top;\n",
              "    }\n",
              "\n",
              "    .dataframe thead th {\n",
              "        text-align: right;\n",
              "    }\n",
              "</style>\n",
              "<table border=\"1\" class=\"dataframe\">\n",
              "  <thead>\n",
              "    <tr style=\"text-align: right;\">\n",
              "      <th></th>\n",
              "      <th>mention</th>\n",
              "      <th>entity</th>\n",
              "      <th>prob</th>\n",
              "    </tr>\n",
              "  </thead>\n",
              "  <tbody>\n",
              "    <tr>\n",
              "      <th>17436</th>\n",
              "      <td>Sweden</td>\n",
              "      <td>Sweden</td>\n",
              "      <td>0.985768</td>\n",
              "    </tr>\n",
              "    <tr>\n",
              "      <th>17437</th>\n",
              "      <td>Sweden</td>\n",
              "      <td>Sweden_national_football_team</td>\n",
              "      <td>0.014173</td>\n",
              "    </tr>\n",
              "    <tr>\n",
              "      <th>17438</th>\n",
              "      <td>Sweden</td>\n",
              "      <td>Sweden_men's_national_ice_hockey_team</td>\n",
              "      <td>0.000059</td>\n",
              "    </tr>\n",
              "  </tbody>\n",
              "</table>\n",
              "</div>"
            ],
            "text/plain": [
              "      mention                                 entity      prob\n",
              "17436  Sweden                                 Sweden  0.985768\n",
              "17437  Sweden          Sweden_national_football_team  0.014173\n",
              "17438  Sweden  Sweden_men's_national_ice_hockey_team  0.000059"
            ]
          },
          "metadata": {},
          "execution_count": 268
        }
      ]
    },
    {
      "cell_type": "markdown",
      "metadata": {
        "id": "RqpeCYirnHQX"
      },
      "source": [
        "As you can see, each row of the data frame contains a pair $(m, e)$ of a mention $m$ and an entity $e$, as well as the conditional probability $P(e|m)$ for mention $m$ referring to entity $e$. These probabilities were estimated based on the frequencies of mention–entity pairs in the knowledge base. The example shows that the anchor text &lsquo;Sweden&rsquo; is most often used to refer to the entity [Sweden](http://en.wikipedia.org/wiki/Sweden), but in a few cases also to refer to Sweden&rsquo;s national football and ice hockey teams. Note that references are sorted in decreasing order of probability, so that the most probable pairing come first.\n",
        "\n",
        "Implement an entity linking method that resolves each mention to the most probable entity in the data frame. If the mention is not included in the data frame, you can predict the generic label `--NME--`. Print the precision, recall, and F1 of your method using the function that you implemented for Problem&nbsp;1."
      ]
    },
    {
      "cell_type": "code",
      "metadata": {
        "id": "FpSzMrYMnHQX"
      },
      "source": [
        "# TODO: Write code here to implement the \"most probable entity\" method."
      ],
      "execution_count": 269,
      "outputs": []
    },
    {
      "cell_type": "code",
      "metadata": {
        "id": "3C-F7biAOb4p"
      },
      "source": [
        "def H_prob_ent(df_ent, df_kb):  # high probability entity\n",
        "  for row in df_ent.itertuples(index=False):\n",
        "    mention = \" \".join(row.sentence.split()[row.beg:row.end])\n",
        "    try:\n",
        "      yield df_kb.loc[df_kb.loc[df_kb[\"mention\"] == mention, \"prob\"].idxmax(), \"entity\"] \n",
        "    except:\n",
        "      yield \"--NME--\"\n",
        "    "
      ],
      "execution_count": 270,
      "outputs": []
    },
    {
      "cell_type": "code",
      "metadata": {
        "colab": {
          "base_uri": "https://localhost:8080/",
          "height": 423
        },
        "id": "hB2zuV7eQ443",
        "outputId": "aff92f24-e05e-4bfa-f296-69df4e35b11f"
      },
      "source": [
        "new_labels = list(H_prob_ent(df_pred_ent, df_kb))\n",
        "df_pred_ent.label = new_labels\n",
        "df_pred_ent"
      ],
      "execution_count": 271,
      "outputs": [
        {
          "output_type": "execute_result",
          "data": {
            "text/html": [
              "<div>\n",
              "<style scoped>\n",
              "    .dataframe tbody tr th:only-of-type {\n",
              "        vertical-align: middle;\n",
              "    }\n",
              "\n",
              "    .dataframe tbody tr th {\n",
              "        vertical-align: top;\n",
              "    }\n",
              "\n",
              "    .dataframe thead th {\n",
              "        text-align: right;\n",
              "    }\n",
              "</style>\n",
              "<table border=\"1\" class=\"dataframe\">\n",
              "  <thead>\n",
              "    <tr style=\"text-align: right;\">\n",
              "      <th></th>\n",
              "      <th>sentence_id</th>\n",
              "      <th>sentence</th>\n",
              "      <th>beg</th>\n",
              "      <th>end</th>\n",
              "      <th>label</th>\n",
              "    </tr>\n",
              "  </thead>\n",
              "  <tbody>\n",
              "    <tr>\n",
              "      <th>0</th>\n",
              "      <td>0946-001</td>\n",
              "      <td>LONDON 1996-08-30</td>\n",
              "      <td>0</td>\n",
              "      <td>1</td>\n",
              "      <td>London</td>\n",
              "    </tr>\n",
              "    <tr>\n",
              "      <th>1</th>\n",
              "      <td>0946-002</td>\n",
              "      <td>West Indian all-rounder Phil Simmons took four...</td>\n",
              "      <td>0</td>\n",
              "      <td>2</td>\n",
              "      <td>West_Indies_cricket_team</td>\n",
              "    </tr>\n",
              "    <tr>\n",
              "      <th>2</th>\n",
              "      <td>0946-002</td>\n",
              "      <td>West Indian all-rounder Phil Simmons took four...</td>\n",
              "      <td>3</td>\n",
              "      <td>5</td>\n",
              "      <td>Phil_Simmons</td>\n",
              "    </tr>\n",
              "    <tr>\n",
              "      <th>3</th>\n",
              "      <td>0946-002</td>\n",
              "      <td>West Indian all-rounder Phil Simmons took four...</td>\n",
              "      <td>14</td>\n",
              "      <td>15</td>\n",
              "      <td>Somerset_County_Cricket_Club</td>\n",
              "    </tr>\n",
              "    <tr>\n",
              "      <th>4</th>\n",
              "      <td>0946-003</td>\n",
              "      <td>Their stay on top , though , may be short-live...</td>\n",
              "      <td>13</td>\n",
              "      <td>14</td>\n",
              "      <td>Essex</td>\n",
              "    </tr>\n",
              "    <tr>\n",
              "      <th>...</th>\n",
              "      <td>...</td>\n",
              "      <td>...</td>\n",
              "      <td>...</td>\n",
              "      <td>...</td>\n",
              "      <td>...</td>\n",
              "    </tr>\n",
              "    <tr>\n",
              "      <th>4820</th>\n",
              "      <td>1161-007</td>\n",
              "      <td>Brokers said blue chips like IDLC , Bangladesh...</td>\n",
              "      <td>7</td>\n",
              "      <td>9</td>\n",
              "      <td>--NME--</td>\n",
              "    </tr>\n",
              "    <tr>\n",
              "      <th>4821</th>\n",
              "      <td>1161-007</td>\n",
              "      <td>Brokers said blue chips like IDLC , Bangladesh...</td>\n",
              "      <td>10</td>\n",
              "      <td>12</td>\n",
              "      <td>--NME--</td>\n",
              "    </tr>\n",
              "    <tr>\n",
              "      <th>4822</th>\n",
              "      <td>1161-007</td>\n",
              "      <td>Brokers said blue chips like IDLC , Bangladesh...</td>\n",
              "      <td>13</td>\n",
              "      <td>15</td>\n",
              "      <td>--NME--</td>\n",
              "    </tr>\n",
              "    <tr>\n",
              "      <th>4823</th>\n",
              "      <td>1161-009</td>\n",
              "      <td>The DSE all share price index closed 2.73 poin...</td>\n",
              "      <td>1</td>\n",
              "      <td>2</td>\n",
              "      <td>Dhaka_Stock_Exchange</td>\n",
              "    </tr>\n",
              "    <tr>\n",
              "      <th>4824</th>\n",
              "      <td>1161-010</td>\n",
              "      <td>-- Dhaka Newsroom 880-2-506363</td>\n",
              "      <td>0</td>\n",
              "      <td>4</td>\n",
              "      <td>--NME--</td>\n",
              "    </tr>\n",
              "  </tbody>\n",
              "</table>\n",
              "<p>4825 rows × 5 columns</p>\n",
              "</div>"
            ],
            "text/plain": [
              "     sentence_id  ...                         label\n",
              "0       0946-001  ...                        London\n",
              "1       0946-002  ...      West_Indies_cricket_team\n",
              "2       0946-002  ...                  Phil_Simmons\n",
              "3       0946-002  ...  Somerset_County_Cricket_Club\n",
              "4       0946-003  ...                         Essex\n",
              "...          ...  ...                           ...\n",
              "4820    1161-007  ...                       --NME--\n",
              "4821    1161-007  ...                       --NME--\n",
              "4822    1161-007  ...                       --NME--\n",
              "4823    1161-009  ...          Dhaka_Stock_Exchange\n",
              "4824    1161-010  ...                       --NME--\n",
              "\n",
              "[4825 rows x 5 columns]"
            ]
          },
          "metadata": {},
          "execution_count": 271
        }
      ]
    },
    {
      "cell_type": "code",
      "metadata": {
        "colab": {
          "base_uri": "https://localhost:8080/"
        },
        "id": "VoEjwpU1kX25",
        "outputId": "7ada56dc-e676-4ff6-dc84-64eb31d20820"
      },
      "source": [
        "evaluation_report(set(gold_mentions(df_dev)), set(gold_mentions(df_naive)))"
      ],
      "execution_count": 272,
      "outputs": [
        {
          "output_type": "stream",
          "name": "stdout",
          "text": [
            "precision: 0.6499481865284974 \n",
            "recall:    0.5299983099543688 \n",
            "f1-score:  0.5838763731148763\n"
          ]
        }
      ]
    },
    {
      "cell_type": "markdown",
      "metadata": {
        "id": "-PogNJyZnHQX"
      },
      "source": [
        "## Problem 6: Context-sensitive disambiguation"
      ]
    },
    {
      "cell_type": "markdown",
      "metadata": {
        "id": "k5URGPfKnHQX"
      },
      "source": [
        "Consider the entity mention &lsquo;Lincoln&rsquo;. The most probable entity for this mention turns out to be [Lincoln, Nebraska](http://en.wikipedia.org/Lincoln,_Nebraska); but in pages about American history, we would be better off to predict [Abraham Lincoln](http://en.wikipedia.org/Abraham_Lincoln). This suggests that we should try to disambiguate between different entity references based on the textual context on the page from which the mention was taken. Your task in this last problem is to implement this idea.\n",
        "\n",
        "Set up a dictionary that contains, for each mention $m$ that can refer to more than one entity $e$, a separate Naive Bayes classifier that is trained to predict the correct entity $e$, given the textual context of the mention. As the prior probabilities of the classifier, choose the probabilities $P(e|m)$ that you used in Problem&nbsp;5. To let you estimate the context-specific probabilities, we have compiled a data set with mention contexts:"
      ]
    },
    {
      "cell_type": "code",
      "metadata": {
        "id": "j3pngXmRnHQX"
      },
      "source": [
        "f4= '/content/drive/MyDrive/Colab Notebooks/tm_lab5/contexts.tsv.bz2'\n",
        "with bz2.open(f4) as source:\n",
        "    df_contexts = pd.read_csv(source, sep='\\t', quoting=csv.QUOTE_NONE)"
      ],
      "execution_count": 273,
      "outputs": []
    },
    {
      "cell_type": "markdown",
      "metadata": {
        "id": "v0wmWV4WnHQY"
      },
      "source": [
        "This data frame contains, for each ambiguous mention $m$ and each knowledge base entity $e$ to which this mention can refer, up to 100 randomly selected contexts in which $m$ is used to refer to $e$. For this data, a **context** is defined as the 5 tokens to the left and the 5 tokens to the right of the mention. Here are a few examples:"
      ]
    },
    {
      "cell_type": "code",
      "metadata": {
        "id": "2w_VCvL2nHQY",
        "colab": {
          "base_uri": "https://localhost:8080/",
          "height": 206
        },
        "outputId": "ee8e2574-044a-4a9c-9fbb-8576d0cdf023"
      },
      "source": [
        "df_contexts.head()"
      ],
      "execution_count": 274,
      "outputs": [
        {
          "output_type": "execute_result",
          "data": {
            "text/html": [
              "<div>\n",
              "<style scoped>\n",
              "    .dataframe tbody tr th:only-of-type {\n",
              "        vertical-align: middle;\n",
              "    }\n",
              "\n",
              "    .dataframe tbody tr th {\n",
              "        vertical-align: top;\n",
              "    }\n",
              "\n",
              "    .dataframe thead th {\n",
              "        text-align: right;\n",
              "    }\n",
              "</style>\n",
              "<table border=\"1\" class=\"dataframe\">\n",
              "  <thead>\n",
              "    <tr style=\"text-align: right;\">\n",
              "      <th></th>\n",
              "      <th>mention</th>\n",
              "      <th>entity</th>\n",
              "      <th>context</th>\n",
              "    </tr>\n",
              "  </thead>\n",
              "  <tbody>\n",
              "    <tr>\n",
              "      <th>0</th>\n",
              "      <td>1970</td>\n",
              "      <td>UEFA_Champions_League</td>\n",
              "      <td>Cup twice the first in @ and the second in 1983</td>\n",
              "    </tr>\n",
              "    <tr>\n",
              "      <th>1</th>\n",
              "      <td>1970</td>\n",
              "      <td>FIFA_World_Cup</td>\n",
              "      <td>America 1975 and during the @ and 1978 World C...</td>\n",
              "    </tr>\n",
              "    <tr>\n",
              "      <th>2</th>\n",
              "      <td>1990 World Cup</td>\n",
              "      <td>1990_FIFA_World_Cup</td>\n",
              "      <td>Manolo represented Spain at the @</td>\n",
              "    </tr>\n",
              "    <tr>\n",
              "      <th>3</th>\n",
              "      <td>1990 World Cup</td>\n",
              "      <td>1990_FIFA_World_Cup</td>\n",
              "      <td>Hašek represented Czechoslovakia at the @ and ...</td>\n",
              "    </tr>\n",
              "    <tr>\n",
              "      <th>4</th>\n",
              "      <td>1990 World Cup</td>\n",
              "      <td>1990_FIFA_World_Cup</td>\n",
              "      <td>renovations in 1989 for the @ The present capa...</td>\n",
              "    </tr>\n",
              "  </tbody>\n",
              "</table>\n",
              "</div>"
            ],
            "text/plain": [
              "          mention  ...                                            context\n",
              "0            1970  ...    Cup twice the first in @ and the second in 1983\n",
              "1            1970  ...  America 1975 and during the @ and 1978 World C...\n",
              "2  1990 World Cup  ...                 Manolo represented Spain at the @ \n",
              "3  1990 World Cup  ...  Hašek represented Czechoslovakia at the @ and ...\n",
              "4  1990 World Cup  ...  renovations in 1989 for the @ The present capa...\n",
              "\n",
              "[5 rows x 3 columns]"
            ]
          },
          "metadata": {},
          "execution_count": 274
        }
      ]
    },
    {
      "cell_type": "markdown",
      "metadata": {
        "id": "NP0fg0sRnHQY"
      },
      "source": [
        "Note that, in each context, the position of the mention is indicated by the `@` symbol.\n",
        "\n",
        "From this data frame, it is easy to select the data that you need to train the classifiers – the contexts and corresponding entities for all mentions. To illustrate this, the following cell shows how to select all contexts that belong to the mention &lsquo;Lincoln&rsquo;:"
      ]
    },
    {
      "cell_type": "code",
      "metadata": {
        "id": "pNeKRs3znHQZ",
        "colab": {
          "base_uri": "https://localhost:8080/"
        },
        "outputId": "f73da6c4-ac90-4e52-87a7-881cb395618c"
      },
      "source": [
        "df_contexts.context[df_contexts.mention == 'Lincoln']"
      ],
      "execution_count": 275,
      "outputs": [
        {
          "output_type": "execute_result",
          "data": {
            "text/plain": [
              "41465    Nebraska Concealed Handgun Permit In @ municip...\n",
              "41466    Lazlo restaurants are located in @ and Omaha C...\n",
              "41467    California Washington Overland Park Kansas @ N...\n",
              "41468    City Missouri Omaha Nebraska and @ Nebraska It...\n",
              "41469    by Sandhills Publishing Company in @ Nebraska USA\n",
              "                               ...                        \n",
              "41609                                      @ Leyton Orient\n",
              "41610                    English division three Swansea @ \n",
              "41611    league membership narrowly edging out @ on goa...\n",
              "41612                                          @ Cambridge\n",
              "41613                                                   @ \n",
              "Name: context, Length: 149, dtype: object"
            ]
          },
          "metadata": {},
          "execution_count": 275
        }
      ]
    },
    {
      "cell_type": "markdown",
      "metadata": {
        "id": "WtHgfPrKnHQZ"
      },
      "source": [
        "Implement the context-sensitive disambiguation method and evaluate its performance. Here are some more hints that may help you along the way:\n",
        "\n",
        "**Hint 1:** The prior probabilities for a Naive Bayes classifier can be specified using the `class_prior` option. You will have to provide the probabilities in the same order as the alphabetically sorted class (entity) names.\n",
        "\n",
        "**Hint 2:** Not all mentions in the knowledge base are ambiguous, and therefore not all mentions have context data. If a mention has only one possible entity, pick that one. If a mention has no entity at all, predict the `--NME--` label."
      ]
    },
    {
      "cell_type": "code",
      "metadata": {
        "id": "vUBCJTRWnHQZ"
      },
      "source": [
        "# TODO: Write code here to implement the context-sensitive disambiguation method\n",
        "from sklearn.pipeline import make_pipeline\n",
        "from sklearn.feature_extraction.text import CountVectorizer\n",
        "from sklearn.naive_bayes import MultinomialNB"
      ],
      "execution_count": 276,
      "outputs": []
    },
    {
      "cell_type": "code",
      "metadata": {
        "colab": {
          "base_uri": "https://localhost:8080/",
          "height": 70
        },
        "id": "z7r5xvVUYG5N",
        "outputId": "c6ae10a3-c4d7-41ae-c982-551c53a51836"
      },
      "source": [
        "###\n",
        "'''\n",
        "import random\n",
        "mentions = df_contexts.mention.unique()\n",
        "#random.seed(202111)\n",
        "ii=random.choice(range(len(mentions)))\n",
        "m=mentions[ii]\n",
        "m\n",
        "docs = df_contexts.loc[df_contexts.mention==m, \"context\"]\n",
        "docs\n",
        "entities = df_contexts.loc[df_contexts.mention==m, \"entity\"]\n",
        "entities\n",
        "prior = df_kb.loc[df_kb.mention==m].sort_values(by=\"entity\").prob.values\n",
        "prior\n",
        "pipeline = make_pipeline(CountVectorizer(),\n",
        "                            MultinomialNB(class_prior=prior))\n",
        "pipeline.fit(docs, entities)\n",
        "pipeline'''"
      ],
      "execution_count": 277,
      "outputs": [
        {
          "output_type": "execute_result",
          "data": {
            "application/vnd.google.colaboratory.intrinsic+json": {
              "type": "string"
            },
            "text/plain": [
              "'\\nimport random\\nmentions = df_contexts.mention.unique()\\n#random.seed(202111)\\nii=random.choice(range(len(mentions)))\\nm=mentions[ii]\\nm\\ndocs = df_contexts.loc[df_contexts.mention==m, \"context\"]\\ndocs\\nentities = df_contexts.loc[df_contexts.mention==m, \"entity\"]\\nentities\\nprior = df_kb.loc[df_kb.mention==m].sort_values(by=\"entity\").prob.values\\nprior\\npipeline = make_pipeline(CountVectorizer(),\\n                            MultinomialNB(class_prior=prior))\\npipeline.fit(docs, entities)\\npipeline'"
            ]
          },
          "metadata": {},
          "execution_count": 277
        }
      ]
    },
    {
      "cell_type": "code",
      "metadata": {
        "id": "LoVgcPTlYDI8"
      },
      "source": [
        "'''\n",
        "def nb_mention_train(m):\n",
        "  docs = df_contexts.loc[df_contexts.mention==m, \"context\"]\n",
        "  entities = df_contexts.loc[df_contexts.mention==m, \"entity\"]\n",
        "  prior = df_kb.loc[df_kb.mention==m].sort_values(by=\"entity\").prob.values\n",
        "  pipeline = make_pipeline(CountVectorizer(),\n",
        "                            MultinomialNB(class_prior=prior))\n",
        "  pipeline.fit(docs, entities)\n",
        "  return(pipeline) ###  \n",
        "'''\n",
        "\n",
        "mentions = df_contexts.mention.unique()\n",
        "nb_mention_train_models = {}\n",
        "\n",
        "for m in mentions:\n",
        "    docs = df_contexts.loc[df_contexts.mention==m, \"context\"]\n",
        "    entities = df_contexts.loc[df_contexts.mention==m, \"entity\"]\n",
        "    prior = df_kb.loc[df_kb.mention==m].sort_values(by=\"entity\").prob.values\n",
        "    pipeline = make_pipeline(CountVectorizer(),\n",
        "                            MultinomialNB(class_prior=prior))\n",
        "    pipeline.fit(docs, entities)\n",
        "    nb_mention_train_models[m] = pipeline\n",
        "#nb_mention_train(m)"
      ],
      "execution_count": 278,
      "outputs": []
    },
    {
      "cell_type": "code",
      "metadata": {
        "id": "_cXTeKJxazxR"
      },
      "source": [
        "def nb_pred(df_ent, df_kb, nb_mention_train_models):\n",
        "  #--------------------------------------------------  \n",
        "  for row in df_ent.itertuples(index=False):\n",
        "      mention = \" \".join(row.sentence.split()[row.beg:row.end])\n",
        "      if mention in nb_mention_train_models.keys():\n",
        "          yield nb_mention_train_models[mention].predict([row.sentence])[0]\n",
        "      elif mention in df_kb.mention.values:\n",
        "          yield df_kb.loc[df_kb.loc[df_kb[\"mention\"] == mention, \"prob\"].idxmax(), \"entity\"]\n",
        "      else:\n",
        "          yield \"--NME--\""
      ],
      "execution_count": 279,
      "outputs": []
    },
    {
      "cell_type": "code",
      "metadata": {
        "colab": {
          "base_uri": "https://localhost:8080/",
          "height": 423
        },
        "id": "tcYvUWihcyBZ",
        "outputId": "7c958ada-417e-4aa0-90fd-5a829d37a17d"
      },
      "source": [
        "#list(nb_mention_train_models)\n",
        "new_labels_again = list(  nb_pred(df_pred_ent, df_kb, nb_mention_train_models)   )\n",
        "df_pred_ent.label = new_labels_again\n",
        "df_pred_ent"
      ],
      "execution_count": 280,
      "outputs": [
        {
          "output_type": "execute_result",
          "data": {
            "text/html": [
              "<div>\n",
              "<style scoped>\n",
              "    .dataframe tbody tr th:only-of-type {\n",
              "        vertical-align: middle;\n",
              "    }\n",
              "\n",
              "    .dataframe tbody tr th {\n",
              "        vertical-align: top;\n",
              "    }\n",
              "\n",
              "    .dataframe thead th {\n",
              "        text-align: right;\n",
              "    }\n",
              "</style>\n",
              "<table border=\"1\" class=\"dataframe\">\n",
              "  <thead>\n",
              "    <tr style=\"text-align: right;\">\n",
              "      <th></th>\n",
              "      <th>sentence_id</th>\n",
              "      <th>sentence</th>\n",
              "      <th>beg</th>\n",
              "      <th>end</th>\n",
              "      <th>label</th>\n",
              "    </tr>\n",
              "  </thead>\n",
              "  <tbody>\n",
              "    <tr>\n",
              "      <th>0</th>\n",
              "      <td>0946-001</td>\n",
              "      <td>LONDON 1996-08-30</td>\n",
              "      <td>0</td>\n",
              "      <td>1</td>\n",
              "      <td>London</td>\n",
              "    </tr>\n",
              "    <tr>\n",
              "      <th>1</th>\n",
              "      <td>0946-002</td>\n",
              "      <td>West Indian all-rounder Phil Simmons took four...</td>\n",
              "      <td>0</td>\n",
              "      <td>2</td>\n",
              "      <td>Caribbean</td>\n",
              "    </tr>\n",
              "    <tr>\n",
              "      <th>2</th>\n",
              "      <td>0946-002</td>\n",
              "      <td>West Indian all-rounder Phil Simmons took four...</td>\n",
              "      <td>3</td>\n",
              "      <td>5</td>\n",
              "      <td>Phil_Simmons</td>\n",
              "    </tr>\n",
              "    <tr>\n",
              "      <th>3</th>\n",
              "      <td>0946-002</td>\n",
              "      <td>West Indian all-rounder Phil Simmons took four...</td>\n",
              "      <td>14</td>\n",
              "      <td>15</td>\n",
              "      <td>Somerset_County_Cricket_Club</td>\n",
              "    </tr>\n",
              "    <tr>\n",
              "      <th>4</th>\n",
              "      <td>0946-003</td>\n",
              "      <td>Their stay on top , though , may be short-live...</td>\n",
              "      <td>13</td>\n",
              "      <td>14</td>\n",
              "      <td>Essex_County_Cricket_Club</td>\n",
              "    </tr>\n",
              "    <tr>\n",
              "      <th>...</th>\n",
              "      <td>...</td>\n",
              "      <td>...</td>\n",
              "      <td>...</td>\n",
              "      <td>...</td>\n",
              "      <td>...</td>\n",
              "    </tr>\n",
              "    <tr>\n",
              "      <th>4820</th>\n",
              "      <td>1161-007</td>\n",
              "      <td>Brokers said blue chips like IDLC , Bangladesh...</td>\n",
              "      <td>7</td>\n",
              "      <td>9</td>\n",
              "      <td>--NME--</td>\n",
              "    </tr>\n",
              "    <tr>\n",
              "      <th>4821</th>\n",
              "      <td>1161-007</td>\n",
              "      <td>Brokers said blue chips like IDLC , Bangladesh...</td>\n",
              "      <td>10</td>\n",
              "      <td>12</td>\n",
              "      <td>--NME--</td>\n",
              "    </tr>\n",
              "    <tr>\n",
              "      <th>4822</th>\n",
              "      <td>1161-007</td>\n",
              "      <td>Brokers said blue chips like IDLC , Bangladesh...</td>\n",
              "      <td>13</td>\n",
              "      <td>15</td>\n",
              "      <td>--NME--</td>\n",
              "    </tr>\n",
              "    <tr>\n",
              "      <th>4823</th>\n",
              "      <td>1161-009</td>\n",
              "      <td>The DSE all share price index closed 2.73 poin...</td>\n",
              "      <td>1</td>\n",
              "      <td>2</td>\n",
              "      <td>Dhaka_Stock_Exchange</td>\n",
              "    </tr>\n",
              "    <tr>\n",
              "      <th>4824</th>\n",
              "      <td>1161-010</td>\n",
              "      <td>-- Dhaka Newsroom 880-2-506363</td>\n",
              "      <td>0</td>\n",
              "      <td>4</td>\n",
              "      <td>--NME--</td>\n",
              "    </tr>\n",
              "  </tbody>\n",
              "</table>\n",
              "<p>4825 rows × 5 columns</p>\n",
              "</div>"
            ],
            "text/plain": [
              "     sentence_id  ...                         label\n",
              "0       0946-001  ...                        London\n",
              "1       0946-002  ...                     Caribbean\n",
              "2       0946-002  ...                  Phil_Simmons\n",
              "3       0946-002  ...  Somerset_County_Cricket_Club\n",
              "4       0946-003  ...     Essex_County_Cricket_Club\n",
              "...          ...  ...                           ...\n",
              "4820    1161-007  ...                       --NME--\n",
              "4821    1161-007  ...                       --NME--\n",
              "4822    1161-007  ...                       --NME--\n",
              "4823    1161-009  ...          Dhaka_Stock_Exchange\n",
              "4824    1161-010  ...                       --NME--\n",
              "\n",
              "[4825 rows x 5 columns]"
            ]
          },
          "metadata": {},
          "execution_count": 280
        }
      ]
    },
    {
      "cell_type": "markdown",
      "metadata": {
        "id": "qBLu_qcTnHQZ"
      },
      "source": [
        "You should expect to see a small (around 1&nbsp;unit) increase in both precision, recall, and F1."
      ]
    },
    {
      "cell_type": "code",
      "metadata": {
        "colab": {
          "base_uri": "https://localhost:8080/"
        },
        "id": "Y-I8Wzr1icJJ",
        "outputId": "5a88b28c-883b-4cf3-a33d-68a3cf5b961a"
      },
      "source": [
        "evaluation_report(set(gold_mentions(df_dev)), set(gold_mentions(df_pred_ent)))"
      ],
      "execution_count": 281,
      "outputs": [
        {
          "output_type": "stream",
          "name": "stdout",
          "text": [
            "precision: 0.6642487046632124 \n",
            "recall:    0.5416596248098698 \n",
            "f1-score:  0.5967231428039471\n"
          ]
        }
      ]
    },
    {
      "cell_type": "markdown",
      "metadata": {
        "id": "wG3z--YfnHQZ"
      },
      "source": [
        "**This was the last lab in the Text Mining course. Congratulations!**"
      ]
    },
    {
      "cell_type": "markdown",
      "metadata": {
        "id": "KCZRHO0QnHQZ"
      },
      "source": [
        "<div class=\"alert alert-info\">\n",
        "    Please read the section ‘General information’ on the ‘Labs’ page of the course website before submitting this notebook!\n",
        "</div>"
      ]
    }
  ]
}